{
 "cells": [
  {
   "cell_type": "code",
   "execution_count": 1,
   "metadata": {
    "pycharm": {
     "name": "#%%\n"
    }
   },
   "outputs": [],
   "source": [
    "import numpy as np\n",
    "import matplotlib.pyplot as plt\n",
    "from source.coordinate_descent import CoordinateDescent"
   ]
  },
  {
   "cell_type": "markdown",
   "metadata": {
    "pycharm": {
     "name": "#%% md\n"
    }
   },
   "source": [
    "# Generated example no. 1"
   ]
  },
  {
   "cell_type": "code",
   "execution_count": 2,
   "metadata": {
    "pycharm": {
     "name": "#%%\n"
    }
   },
   "outputs": [],
   "source": [
    "np.random.seed(11)\n",
    "m = 100\n",
    "X = np.random.normal(size=(m, 2))\n",
    "X = X / (np.linalg.norm(X, axis=0))\n",
    "theta = np.array([0.2, -0.5]).reshape((-1, 1))\n",
    "y = X @ theta"
   ]
  },
  {
   "cell_type": "code",
   "execution_count": null,
   "metadata": {
    "pycharm": {
     "name": "#%%\n"
    }
   },
   "outputs": [],
   "source": [
    "gen1 = CoordinateDescent(y, X, 0, False)\n",
    "gen1.fit(iters=20)\n",
    "gen1.theta"
   ]
  },
  {
   "cell_type": "code",
   "execution_count": null,
   "metadata": {
    "pycharm": {
     "name": "#%%\n"
    }
   },
   "outputs": [],
   "source": [
    "fig = plt.figure(figsize=(20, 10))\n",
    "for i in range(1, 100):\n",
    "    gen1p = gen1.path[(i - 1):(i + 1), :]\n",
    "    plt.plot(gen1p[:, 0], gen1p[:, 1], marker='o', color='black')\n",
    "    plt.plot(gen1p[:, 0], gen1p[:, 1], linestyle='-', color='red')\n",
    "plt.show()"
   ]
  },
  {
   "cell_type": "code",
   "execution_count": null,
   "metadata": {
    "pycharm": {
     "name": "#%%\n"
    }
   },
   "outputs": [],
   "source": [
    "arange = np.arange(5)\n",
    "\n",
    "thetas = gen1.theta.copy()\n",
    "\n",
    "for i in arange[1:]:\n",
    "    gen1_tmp = CoordinateDescent(y, X, i, False)\n",
    "    gen1_tmp.fit()\n",
    "    thetas = np.vstack((thetas, gen1_tmp.theta.copy()))"
   ]
  },
  {
   "cell_type": "code",
   "execution_count": null,
   "metadata": {
    "pycharm": {
     "name": "#%%\n"
    }
   },
   "outputs": [],
   "source": [
    "fig = plt.figure(figsize=(15, 7))\n",
    "plt.plot(arange, thetas[:, 0])\n",
    "plt.plot(arange, thetas[:, 1])\n",
    "plt.xlabel('Lambda')\n",
    "plt.ylabel('Coefficients')\n",
    "plt.show()"
   ]
  },
  {
   "cell_type": "markdown",
   "metadata": {
    "pycharm": {
     "name": "#%% md\n"
    }
   },
   "source": [
    "# Generated example no. 2"
   ]
  },
  {
   "cell_type": "code",
   "execution_count": null,
   "metadata": {
    "pycharm": {
     "name": "#%%\n"
    }
   },
   "outputs": [],
   "source": [
    "np.random.seed(23)\n",
    "m = 500\n",
    "X = np.random.normal(size=(m, 6))\n",
    "X = np.hstack([np.ones(m).reshape((m, 1)), X])\n",
    "X = X / (np.linalg.norm(X, axis=0))\n",
    "theta = np.array([1.75, -0.25, 0.5, -1, 2, -4, 8]).reshape((-1, 1))\n",
    "y = X @ theta + np.random.normal(0, 0.01, size=(m, 1))"
   ]
  },
  {
   "cell_type": "code",
   "execution_count": null,
   "metadata": {
    "pycharm": {
     "name": "#%%\n"
    }
   },
   "outputs": [],
   "source": [
    "gen2 = CoordinateDescent(y, X, 0, True)\n",
    "gen2.fit(iters=100)\n",
    "gen2.theta"
   ]
  },
  {
   "cell_type": "code",
   "execution_count": null,
   "metadata": {
    "pycharm": {
     "name": "#%%\n"
    }
   },
   "outputs": [],
   "source": [
    "fig = plt.figure(figsize=(20, 10))\n",
    "for i in range(1, gen2.path.shape[0]):\n",
    "    gen2p = gen2.path[(i - 1):(i + 1), :]\n",
    "    plt.plot(gen2p[:, 0], gen2p[:, 1], marker='o', color='black')\n",
    "    plt.plot(gen2p[:, 0], gen2p[:, 1], linestyle='-', color='red')\n",
    "plt.show()"
   ]
  },
  {
   "cell_type": "code",
   "execution_count": null,
   "metadata": {
    "pycharm": {
     "name": "#%%\n"
    }
   },
   "outputs": [],
   "source": [
    "arange = np.arange(15)\n",
    "\n",
    "thetas = gen2.theta.copy()\n",
    "\n",
    "for i in arange[1:]:\n",
    "    gen2_tmp = CoordinateDescent(y, X, i, True)\n",
    "    gen2_tmp.fit()\n",
    "    thetas = np.vstack((thetas, gen2_tmp.theta.copy()))"
   ]
  },
  {
   "cell_type": "code",
   "execution_count": null,
   "metadata": {
    "pycharm": {
     "name": "#%%\n"
    }
   },
   "outputs": [],
   "source": [
    "fig = plt.figure(figsize=(15, 7))\n",
    "for i in range(1, gen2.n):\n",
    "    plt.plot(arange, thetas[:, i])\n",
    "plt.xlabel('Lambda')\n",
    "plt.ylabel('Coefficients')\n",
    "plt.show()"
   ]
  },
  {
   "cell_type": "markdown",
   "metadata": {
    "pycharm": {
     "name": "#%% md\n"
    }
   },
   "source": [
    "# Generated example no. 3"
   ]
  },
  {
   "cell_type": "code",
   "execution_count": null,
   "metadata": {
    "pycharm": {
     "name": "#%%\n"
    }
   },
   "outputs": [],
   "source": [
    "np.random.seed(298911)\n",
    "m = 500\n",
    "X = np.random.normal(size=(m, 20))\n",
    "X = X / (np.linalg.norm(X, axis=0))\n",
    "#y = 2 - np.log(X[:, 0:1]+10) + 3*np.power(X[:, 1:2], 2) - 0.5*X[:, 1:2] + np.random.normal(0, 0.05, size = (m, 1))\n",
    "y = 10 * X[:, 0:1] + 4 * X[:, 1:2] + np.random.normal(0, 1, size=(m, 1))"
   ]
  },
  {
   "cell_type": "code",
   "execution_count": null,
   "metadata": {
    "pycharm": {
     "name": "#%%\n"
    }
   },
   "outputs": [],
   "source": [
    "idx1 = int(m * 0.6)\n",
    "idx2 = int(m * 0.8)\n",
    "X_train = X[:idx1, :]\n",
    "X_valid = X[idx1:idx2, :]\n",
    "X_test = X[idx2:, :]\n",
    "y_train = y[:idx1, :]\n",
    "y_valid = y[idx1:idx2, :]\n",
    "y_test = y[idx2:, :]"
   ]
  },
  {
   "cell_type": "code",
   "execution_count": null,
   "metadata": {
    "pycharm": {
     "name": "#%%\n"
    }
   },
   "outputs": [],
   "source": [
    "gen3 = CoordinateDescent(y_train, X_train, 0, False)\n",
    "gen3.fit(iters=2000)\n",
    "gen3.theta"
   ]
  },
  {
   "cell_type": "code",
   "execution_count": null,
   "metadata": {
    "pycharm": {
     "name": "#%%\n"
    }
   },
   "outputs": [],
   "source": [
    "arange = np.arange(200) / 10\n",
    "errors = [np.power(gen3.predict(X_valid) - y_valid, 2).mean()]\n",
    "\n",
    "for i in arange[1:]:\n",
    "    gen3_tmp = CoordinateDescent(y_train, X_train, i, False)\n",
    "    gen3_tmp.fit(iters=200)\n",
    "    err = np.power(gen3_tmp.predict(X_valid) - y_valid, 2).mean()\n",
    "    errors.append(err)"
   ]
  },
  {
   "cell_type": "code",
   "execution_count": null,
   "metadata": {
    "pycharm": {
     "name": "#%%\n"
    }
   },
   "outputs": [],
   "source": [
    "fig = plt.figure(figsize=(15, 7))\n",
    "plt.plot(arange, errors)\n",
    "plt.xlabel('Lambda')\n",
    "plt.ylabel('MSE')\n",
    "plt.show()"
   ]
  },
  {
   "cell_type": "code",
   "execution_count": null,
   "metadata": {
    "pycharm": {
     "name": "#%%\n"
    }
   },
   "outputs": [],
   "source": [
    "min_idx = np.where(errors == min(errors))[0][0]\n",
    "min_idx"
   ]
  },
  {
   "cell_type": "code",
   "execution_count": null,
   "metadata": {
    "pycharm": {
     "name": "#%%\n"
    }
   },
   "outputs": [],
   "source": [
    "gen3_best = CoordinateDescent(y_train, X_train, arange[min_idx], False)\n",
    "gen3_best.fit(iters=200)\n",
    "print(gen3_best.theta)\n",
    "np.power(y_test - gen3_best.predict(X_test), 2).mean()"
   ]
  },
  {
   "cell_type": "code",
   "execution_count": null,
   "metadata": {
    "pycharm": {
     "name": "#%%\n"
    }
   },
   "outputs": [],
   "source": [
    "beta = np.linalg.inv(X_train.T @ X_train) @ X_train.T @ y_train\n",
    "print(beta)\n",
    "np.power(X_test @ beta - y_test, 2).mean()"
   ]
  }
 ],
 "metadata": {
  "kernelspec": {
   "display_name": "Python 3",
   "language": "python",
   "name": "python3"
  },
  "language_info": {
   "codemirror_mode": {
    "name": "ipython",
    "version": 3
   },
   "file_extension": ".py",
   "mimetype": "text/x-python",
   "name": "python",
   "nbconvert_exporter": "python",
   "pygments_lexer": "ipython3",
   "version": "3.8.5"
  }
 },
 "nbformat": 4,
 "nbformat_minor": 4
}