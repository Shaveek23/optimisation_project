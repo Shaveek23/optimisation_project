{
 "cells": [
  {
   "cell_type": "code",
   "execution_count": 51,
   "metadata": {
    "pycharm": {
     "name": "#%%\n"
    }
   },
   "outputs": [],
   "source": [
    "import numpy as np\n",
    "import pandas as pd\n",
    "import warnings\n",
    "\n",
    "# own implementation (source dir)\n",
    "from source.coordinate_descent import CoordinateDescent\n",
    "from source.utils.visualization import visualize_cost\n",
    "\n",
    "# sklearn\n",
    "from sklearn.preprocessing import Normalizer\n",
    "from sklearn.linear_model import Lasso\n",
    "from sklearn.datasets import load_diabetes, load_boston"
   ]
  },
  {
   "cell_type": "markdown",
   "metadata": {
    "pycharm": {
     "name": "#%% md\n"
    }
   },
   "source": [
    "## Loading Data"
   ]
  },
  {
   "cell_type": "code",
   "execution_count": 62,
   "metadata": {
    "pycharm": {
     "name": "#%%\n"
    }
   },
   "outputs": [],
   "source": [
    "X_diab, y_diab = load_diabetes(return_X_y=True)\n",
    "\n",
    "y_diab = y_diab.reshape((-1, 1))\n",
    "X_diab = np.hstack([np.ones(X_diab.shape[0]).reshape((X_diab.shape[0], 1)), X_diab])\n",
    "\n",
    "\n",
    "# normalization\n",
    "X_diab = X_diab / (np.linalg.norm(X_diab, axis=0))\n",
    "y_diab = y_diab / (np.linalg.norm(y_diab, axis=0))"
   ]
  },
  {
   "cell_type": "code",
   "execution_count": 63,
   "metadata": {},
   "outputs": [],
   "source": [
    "with warnings.catch_warnings():\n",
    "    warnings.simplefilter(\"ignore\")\n",
    "    X_bost, y_bost = load_boston(return_X_y=True)\n",
    "\n",
    "y_bost = y_bost.reshape((-1, 1))\n",
    "X_bost = np.hstack([np.ones(X_bost.shape[0]).reshape((X_bost.shape[0], 1)), X_bost])\n",
    "\n",
    "# normalization\n",
    "X_bost = X_bost / (np.linalg.norm(X_bost, axis=0))\n",
    "y_bost = y_bost / (np.linalg.norm(y_bost, axis=0))"
   ]
  },
  {
   "cell_type": "markdown",
   "metadata": {},
   "source": [
    "***"
   ]
  },
  {
   "cell_type": "markdown",
   "metadata": {
    "pycharm": {
     "name": "#%% md\n"
    }
   },
   "source": [
    "## Lasso Regression with our implementation of Coordinate Descent algorithm"
   ]
  },
  {
   "cell_type": "markdown",
   "metadata": {},
   "source": [
    "## 1. Diabetes dataset"
   ]
  },
  {
   "cell_type": "markdown",
   "metadata": {},
   "source": [
    "### 1a. Greedy index selection method"
   ]
  },
  {
   "cell_type": "code",
   "execution_count": 4,
   "metadata": {
    "pycharm": {
     "name": "#%%\n"
    }
   },
   "outputs": [
    {
     "name": "stderr",
     "output_type": "stream",
     "text": [
      "  9%|▊         | 87/1000 [00:00<00:00, 1245.75it/s]\n"
     ]
    }
   ],
   "source": [
    "lambda_ = 0.01\n",
    "cd_diab = CoordinateDescent(lambda_ = lambda_)\n",
    "cd_diab.fit(X_diab, y_diab, tol = 10e-6, method='greedy')"
   ]
  },
  {
   "cell_type": "code",
   "execution_count": 5,
   "metadata": {},
   "outputs": [
    {
     "data": {
      "application/vnd.plotly.v1+json": {
       "config": {
        "plotlyServerURL": "https://plot.ly"
       },
       "data": [
        {
         "legendgroup": "",
         "line": {
          "color": "#636efa",
          "dash": "solid"
         },
         "marker": {
          "symbol": "circle"
         },
         "mode": "markers+lines",
         "name": "",
         "orientation": "v",
         "showlegend": false,
         "type": "scatter",
         "x": [
          0,
          1,
          2,
          3,
          4,
          5,
          6,
          7,
          8,
          9,
          10,
          11,
          12,
          13,
          14,
          15,
          16,
          17,
          18,
          19,
          20,
          21,
          22,
          23,
          24,
          25,
          26,
          27,
          28,
          29,
          30,
          31,
          32,
          33,
          34,
          35,
          36,
          37,
          38,
          39,
          40,
          41,
          42,
          43,
          44,
          45,
          46,
          47,
          48,
          49,
          50,
          51,
          52,
          53,
          54,
          55,
          56,
          57,
          58,
          59,
          60,
          61,
          62,
          63,
          64,
          65,
          66,
          67,
          68,
          69,
          70,
          71,
          72,
          73,
          74,
          75,
          76,
          77,
          78,
          79,
          80,
          81,
          82,
          83,
          84,
          85,
          86,
          87
         ],
         "xaxis": "x",
         "y": [
          1.0000000000000002,
          0.2183936944574285,
          0.14834873646877503,
          0.12133214922248127,
          0.11608072934896477,
          0.11211634846332531,
          0.10976118028249746,
          0.10897090316841579,
          0.10763866473234941,
          0.10685951339633382,
          0.10617178420506168,
          0.10573249540548414,
          0.1052985656787011,
          0.10548934647288499,
          0.10526760607451227,
          0.10506298846110386,
          0.10498476801750299,
          0.10502209851964042,
          0.10497224165118044,
          0.10486830453718518,
          0.10494424668982785,
          0.10489510926903381,
          0.10493433527204803,
          0.10496464705704762,
          0.10494423987640758,
          0.10490899450218089,
          0.10489343107483126,
          0.10485579880358561,
          0.10488283032778456,
          0.10485802621141499,
          0.10483306254700686,
          0.1048481528658578,
          0.10483944776767551,
          0.10484529716299607,
          0.1048180026055077,
          0.10484292944837677,
          0.10482004656376723,
          0.10484191300025185,
          0.10482457639596265,
          0.10483002429953305,
          0.10480150326834313,
          0.1048274304673885,
          0.10480353872385656,
          0.10482492528656576,
          0.1048521838564748,
          0.10482809988448225,
          0.10480741697947188,
          0.10478328801849905,
          0.1048030301423215,
          0.10477691822451407,
          0.10480082168049656,
          0.10477896294013221,
          0.10479912557840347,
          0.10482450869330068,
          0.10480233915516717,
          0.10478732519293277,
          0.10478895918705251,
          0.10478208087754322,
          0.10477737432152186,
          0.10478108549729784,
          0.10478221435536962,
          0.10477475945199774,
          0.10477270738107759,
          0.10477501115769032,
          0.1047808778736044,
          0.10477373619232926,
          0.10477370836674793,
          0.1047743443135916,
          0.1047781766778958,
          0.1047744691375837,
          0.10477332395595872,
          0.104774215385665,
          0.1047738850907003,
          0.10477469577360808,
          0.10477418614623858,
          0.10477364144158752,
          0.10477391626036063,
          0.10477364224274012,
          0.10477262334006808,
          0.1047736897526994,
          0.10477331337246797,
          0.10477259416989686,
          0.10477311124290427,
          0.10477358551651056,
          0.10477315167293594,
          0.10477331469791673,
          0.10477323024594072,
          0.10477336416007944
         ],
         "yaxis": "y"
        }
       ],
       "layout": {
        "hovermode": "x",
        "legend": {
         "tracegroupgap": 0
        },
        "margin": {
         "t": 60
        },
        "template": {
         "data": {
          "bar": [
           {
            "error_x": {
             "color": "#2a3f5f"
            },
            "error_y": {
             "color": "#2a3f5f"
            },
            "marker": {
             "line": {
              "color": "#E5ECF6",
              "width": 0.5
             },
             "pattern": {
              "fillmode": "overlay",
              "size": 10,
              "solidity": 0.2
             }
            },
            "type": "bar"
           }
          ],
          "barpolar": [
           {
            "marker": {
             "line": {
              "color": "#E5ECF6",
              "width": 0.5
             },
             "pattern": {
              "fillmode": "overlay",
              "size": 10,
              "solidity": 0.2
             }
            },
            "type": "barpolar"
           }
          ],
          "carpet": [
           {
            "aaxis": {
             "endlinecolor": "#2a3f5f",
             "gridcolor": "white",
             "linecolor": "white",
             "minorgridcolor": "white",
             "startlinecolor": "#2a3f5f"
            },
            "baxis": {
             "endlinecolor": "#2a3f5f",
             "gridcolor": "white",
             "linecolor": "white",
             "minorgridcolor": "white",
             "startlinecolor": "#2a3f5f"
            },
            "type": "carpet"
           }
          ],
          "choropleth": [
           {
            "colorbar": {
             "outlinewidth": 0,
             "ticks": ""
            },
            "type": "choropleth"
           }
          ],
          "contour": [
           {
            "colorbar": {
             "outlinewidth": 0,
             "ticks": ""
            },
            "colorscale": [
             [
              0,
              "#0d0887"
             ],
             [
              0.1111111111111111,
              "#46039f"
             ],
             [
              0.2222222222222222,
              "#7201a8"
             ],
             [
              0.3333333333333333,
              "#9c179e"
             ],
             [
              0.4444444444444444,
              "#bd3786"
             ],
             [
              0.5555555555555556,
              "#d8576b"
             ],
             [
              0.6666666666666666,
              "#ed7953"
             ],
             [
              0.7777777777777778,
              "#fb9f3a"
             ],
             [
              0.8888888888888888,
              "#fdca26"
             ],
             [
              1,
              "#f0f921"
             ]
            ],
            "type": "contour"
           }
          ],
          "contourcarpet": [
           {
            "colorbar": {
             "outlinewidth": 0,
             "ticks": ""
            },
            "type": "contourcarpet"
           }
          ],
          "heatmap": [
           {
            "colorbar": {
             "outlinewidth": 0,
             "ticks": ""
            },
            "colorscale": [
             [
              0,
              "#0d0887"
             ],
             [
              0.1111111111111111,
              "#46039f"
             ],
             [
              0.2222222222222222,
              "#7201a8"
             ],
             [
              0.3333333333333333,
              "#9c179e"
             ],
             [
              0.4444444444444444,
              "#bd3786"
             ],
             [
              0.5555555555555556,
              "#d8576b"
             ],
             [
              0.6666666666666666,
              "#ed7953"
             ],
             [
              0.7777777777777778,
              "#fb9f3a"
             ],
             [
              0.8888888888888888,
              "#fdca26"
             ],
             [
              1,
              "#f0f921"
             ]
            ],
            "type": "heatmap"
           }
          ],
          "heatmapgl": [
           {
            "colorbar": {
             "outlinewidth": 0,
             "ticks": ""
            },
            "colorscale": [
             [
              0,
              "#0d0887"
             ],
             [
              0.1111111111111111,
              "#46039f"
             ],
             [
              0.2222222222222222,
              "#7201a8"
             ],
             [
              0.3333333333333333,
              "#9c179e"
             ],
             [
              0.4444444444444444,
              "#bd3786"
             ],
             [
              0.5555555555555556,
              "#d8576b"
             ],
             [
              0.6666666666666666,
              "#ed7953"
             ],
             [
              0.7777777777777778,
              "#fb9f3a"
             ],
             [
              0.8888888888888888,
              "#fdca26"
             ],
             [
              1,
              "#f0f921"
             ]
            ],
            "type": "heatmapgl"
           }
          ],
          "histogram": [
           {
            "marker": {
             "pattern": {
              "fillmode": "overlay",
              "size": 10,
              "solidity": 0.2
             }
            },
            "type": "histogram"
           }
          ],
          "histogram2d": [
           {
            "colorbar": {
             "outlinewidth": 0,
             "ticks": ""
            },
            "colorscale": [
             [
              0,
              "#0d0887"
             ],
             [
              0.1111111111111111,
              "#46039f"
             ],
             [
              0.2222222222222222,
              "#7201a8"
             ],
             [
              0.3333333333333333,
              "#9c179e"
             ],
             [
              0.4444444444444444,
              "#bd3786"
             ],
             [
              0.5555555555555556,
              "#d8576b"
             ],
             [
              0.6666666666666666,
              "#ed7953"
             ],
             [
              0.7777777777777778,
              "#fb9f3a"
             ],
             [
              0.8888888888888888,
              "#fdca26"
             ],
             [
              1,
              "#f0f921"
             ]
            ],
            "type": "histogram2d"
           }
          ],
          "histogram2dcontour": [
           {
            "colorbar": {
             "outlinewidth": 0,
             "ticks": ""
            },
            "colorscale": [
             [
              0,
              "#0d0887"
             ],
             [
              0.1111111111111111,
              "#46039f"
             ],
             [
              0.2222222222222222,
              "#7201a8"
             ],
             [
              0.3333333333333333,
              "#9c179e"
             ],
             [
              0.4444444444444444,
              "#bd3786"
             ],
             [
              0.5555555555555556,
              "#d8576b"
             ],
             [
              0.6666666666666666,
              "#ed7953"
             ],
             [
              0.7777777777777778,
              "#fb9f3a"
             ],
             [
              0.8888888888888888,
              "#fdca26"
             ],
             [
              1,
              "#f0f921"
             ]
            ],
            "type": "histogram2dcontour"
           }
          ],
          "mesh3d": [
           {
            "colorbar": {
             "outlinewidth": 0,
             "ticks": ""
            },
            "type": "mesh3d"
           }
          ],
          "parcoords": [
           {
            "line": {
             "colorbar": {
              "outlinewidth": 0,
              "ticks": ""
             }
            },
            "type": "parcoords"
           }
          ],
          "pie": [
           {
            "automargin": true,
            "type": "pie"
           }
          ],
          "scatter": [
           {
            "marker": {
             "colorbar": {
              "outlinewidth": 0,
              "ticks": ""
             }
            },
            "type": "scatter"
           }
          ],
          "scatter3d": [
           {
            "line": {
             "colorbar": {
              "outlinewidth": 0,
              "ticks": ""
             }
            },
            "marker": {
             "colorbar": {
              "outlinewidth": 0,
              "ticks": ""
             }
            },
            "type": "scatter3d"
           }
          ],
          "scattercarpet": [
           {
            "marker": {
             "colorbar": {
              "outlinewidth": 0,
              "ticks": ""
             }
            },
            "type": "scattercarpet"
           }
          ],
          "scattergeo": [
           {
            "marker": {
             "colorbar": {
              "outlinewidth": 0,
              "ticks": ""
             }
            },
            "type": "scattergeo"
           }
          ],
          "scattergl": [
           {
            "marker": {
             "colorbar": {
              "outlinewidth": 0,
              "ticks": ""
             }
            },
            "type": "scattergl"
           }
          ],
          "scattermapbox": [
           {
            "marker": {
             "colorbar": {
              "outlinewidth": 0,
              "ticks": ""
             }
            },
            "type": "scattermapbox"
           }
          ],
          "scatterpolar": [
           {
            "marker": {
             "colorbar": {
              "outlinewidth": 0,
              "ticks": ""
             }
            },
            "type": "scatterpolar"
           }
          ],
          "scatterpolargl": [
           {
            "marker": {
             "colorbar": {
              "outlinewidth": 0,
              "ticks": ""
             }
            },
            "type": "scatterpolargl"
           }
          ],
          "scatterternary": [
           {
            "marker": {
             "colorbar": {
              "outlinewidth": 0,
              "ticks": ""
             }
            },
            "type": "scatterternary"
           }
          ],
          "surface": [
           {
            "colorbar": {
             "outlinewidth": 0,
             "ticks": ""
            },
            "colorscale": [
             [
              0,
              "#0d0887"
             ],
             [
              0.1111111111111111,
              "#46039f"
             ],
             [
              0.2222222222222222,
              "#7201a8"
             ],
             [
              0.3333333333333333,
              "#9c179e"
             ],
             [
              0.4444444444444444,
              "#bd3786"
             ],
             [
              0.5555555555555556,
              "#d8576b"
             ],
             [
              0.6666666666666666,
              "#ed7953"
             ],
             [
              0.7777777777777778,
              "#fb9f3a"
             ],
             [
              0.8888888888888888,
              "#fdca26"
             ],
             [
              1,
              "#f0f921"
             ]
            ],
            "type": "surface"
           }
          ],
          "table": [
           {
            "cells": {
             "fill": {
              "color": "#EBF0F8"
             },
             "line": {
              "color": "white"
             }
            },
            "header": {
             "fill": {
              "color": "#C8D4E3"
             },
             "line": {
              "color": "white"
             }
            },
            "type": "table"
           }
          ]
         },
         "layout": {
          "annotationdefaults": {
           "arrowcolor": "#2a3f5f",
           "arrowhead": 0,
           "arrowwidth": 1
          },
          "autotypenumbers": "strict",
          "coloraxis": {
           "colorbar": {
            "outlinewidth": 0,
            "ticks": ""
           }
          },
          "colorscale": {
           "diverging": [
            [
             0,
             "#8e0152"
            ],
            [
             0.1,
             "#c51b7d"
            ],
            [
             0.2,
             "#de77ae"
            ],
            [
             0.3,
             "#f1b6da"
            ],
            [
             0.4,
             "#fde0ef"
            ],
            [
             0.5,
             "#f7f7f7"
            ],
            [
             0.6,
             "#e6f5d0"
            ],
            [
             0.7,
             "#b8e186"
            ],
            [
             0.8,
             "#7fbc41"
            ],
            [
             0.9,
             "#4d9221"
            ],
            [
             1,
             "#276419"
            ]
           ],
           "sequential": [
            [
             0,
             "#0d0887"
            ],
            [
             0.1111111111111111,
             "#46039f"
            ],
            [
             0.2222222222222222,
             "#7201a8"
            ],
            [
             0.3333333333333333,
             "#9c179e"
            ],
            [
             0.4444444444444444,
             "#bd3786"
            ],
            [
             0.5555555555555556,
             "#d8576b"
            ],
            [
             0.6666666666666666,
             "#ed7953"
            ],
            [
             0.7777777777777778,
             "#fb9f3a"
            ],
            [
             0.8888888888888888,
             "#fdca26"
            ],
            [
             1,
             "#f0f921"
            ]
           ],
           "sequentialminus": [
            [
             0,
             "#0d0887"
            ],
            [
             0.1111111111111111,
             "#46039f"
            ],
            [
             0.2222222222222222,
             "#7201a8"
            ],
            [
             0.3333333333333333,
             "#9c179e"
            ],
            [
             0.4444444444444444,
             "#bd3786"
            ],
            [
             0.5555555555555556,
             "#d8576b"
            ],
            [
             0.6666666666666666,
             "#ed7953"
            ],
            [
             0.7777777777777778,
             "#fb9f3a"
            ],
            [
             0.8888888888888888,
             "#fdca26"
            ],
            [
             1,
             "#f0f921"
            ]
           ]
          },
          "colorway": [
           "#636efa",
           "#EF553B",
           "#00cc96",
           "#ab63fa",
           "#FFA15A",
           "#19d3f3",
           "#FF6692",
           "#B6E880",
           "#FF97FF",
           "#FECB52"
          ],
          "font": {
           "color": "#2a3f5f"
          },
          "geo": {
           "bgcolor": "white",
           "lakecolor": "white",
           "landcolor": "#E5ECF6",
           "showlakes": true,
           "showland": true,
           "subunitcolor": "white"
          },
          "hoverlabel": {
           "align": "left"
          },
          "hovermode": "closest",
          "mapbox": {
           "style": "light"
          },
          "paper_bgcolor": "white",
          "plot_bgcolor": "#E5ECF6",
          "polar": {
           "angularaxis": {
            "gridcolor": "white",
            "linecolor": "white",
            "ticks": ""
           },
           "bgcolor": "#E5ECF6",
           "radialaxis": {
            "gridcolor": "white",
            "linecolor": "white",
            "ticks": ""
           }
          },
          "scene": {
           "xaxis": {
            "backgroundcolor": "#E5ECF6",
            "gridcolor": "white",
            "gridwidth": 2,
            "linecolor": "white",
            "showbackground": true,
            "ticks": "",
            "zerolinecolor": "white"
           },
           "yaxis": {
            "backgroundcolor": "#E5ECF6",
            "gridcolor": "white",
            "gridwidth": 2,
            "linecolor": "white",
            "showbackground": true,
            "ticks": "",
            "zerolinecolor": "white"
           },
           "zaxis": {
            "backgroundcolor": "#E5ECF6",
            "gridcolor": "white",
            "gridwidth": 2,
            "linecolor": "white",
            "showbackground": true,
            "ticks": "",
            "zerolinecolor": "white"
           }
          },
          "shapedefaults": {
           "line": {
            "color": "#2a3f5f"
           }
          },
          "ternary": {
           "aaxis": {
            "gridcolor": "white",
            "linecolor": "white",
            "ticks": ""
           },
           "baxis": {
            "gridcolor": "white",
            "linecolor": "white",
            "ticks": ""
           },
           "bgcolor": "#E5ECF6",
           "caxis": {
            "gridcolor": "white",
            "linecolor": "white",
            "ticks": ""
           }
          },
          "title": {
           "x": 0.05
          },
          "xaxis": {
           "automargin": true,
           "gridcolor": "white",
           "linecolor": "white",
           "ticks": "",
           "title": {
            "standoff": 15
           },
           "zerolinecolor": "white",
           "zerolinewidth": 2
          },
          "yaxis": {
           "automargin": true,
           "gridcolor": "white",
           "linecolor": "white",
           "ticks": "",
           "title": {
            "standoff": 15
           },
           "zerolinecolor": "white",
           "zerolinewidth": 2
          }
         }
        },
        "title": {
         "text": "Cost function values for training iterations"
        },
        "xaxis": {
         "anchor": "y",
         "domain": [
          0,
          1
         ],
         "title": {
          "text": "iteration"
         }
        },
        "yaxis": {
         "anchor": "x",
         "domain": [
          0,
          1
         ],
         "title": {
          "text": "cost"
         }
        }
       }
      }
     },
     "metadata": {},
     "output_type": "display_data"
    }
   ],
   "source": [
    "visualize_cost(cd_diab.costs)"
   ]
  },
  {
   "cell_type": "markdown",
   "metadata": {},
   "source": [
    "Lasso Feature Selection"
   ]
  },
  {
   "cell_type": "code",
   "execution_count": 6,
   "metadata": {},
   "outputs": [
    {
     "data": {
      "text/plain": [
       "array([ 0.89221356,  0.        , -0.04742073,  0.14476481,  0.0788673 ,\n",
       "       -0.01958458,  0.        , -0.0599571 ,  0.        ,  0.13793761,\n",
       "        0.01141546])"
      ]
     },
     "execution_count": 6,
     "metadata": {},
     "output_type": "execute_result"
    }
   ],
   "source": [
    "diab_greedy_theta = cd_diab.theta\n",
    "diab_greedy_theta"
   ]
  },
  {
   "cell_type": "markdown",
   "metadata": {},
   "source": [
    "### 1b. Cyclic index selection method"
   ]
  },
  {
   "cell_type": "code",
   "execution_count": 7,
   "metadata": {},
   "outputs": [
    {
     "name": "stderr",
     "output_type": "stream",
     "text": [
      " 23%|██▎       | 234/1000 [00:00<00:00, 8689.32it/s]\n"
     ]
    }
   ],
   "source": [
    "lambda_ = 0.01\n",
    "cd_diab = CoordinateDescent(lambda_ = lambda_)\n",
    "cd_diab.fit(X_diab, y_diab, tol = 10e-6, method='cyclic')"
   ]
  },
  {
   "cell_type": "code",
   "execution_count": 8,
   "metadata": {},
   "outputs": [
    {
     "data": {
      "application/vnd.plotly.v1+json": {
       "config": {
        "plotlyServerURL": "https://plot.ly"
       },
       "data": [
        {
         "legendgroup": "",
         "line": {
          "color": "#636efa",
          "dash": "solid"
         },
         "marker": {
          "symbol": "circle"
         },
         "mode": "markers+lines",
         "name": "",
         "orientation": "v",
         "showlegend": false,
         "type": "scatter",
         "x": [
          0,
          1,
          2,
          3,
          4,
          5,
          6,
          7,
          8,
          9,
          10,
          11,
          12,
          13,
          14,
          15,
          16,
          17,
          18,
          19,
          20,
          21,
          22,
          23,
          24,
          25,
          26,
          27,
          28,
          29,
          30,
          31,
          32,
          33,
          34,
          35,
          36,
          37,
          38,
          39,
          40,
          41,
          42,
          43,
          44,
          45,
          46,
          47,
          48,
          49,
          50,
          51,
          52,
          53,
          54,
          55,
          56,
          57,
          58,
          59,
          60,
          61,
          62,
          63,
          64,
          65,
          66,
          67,
          68,
          69,
          70,
          71,
          72,
          73,
          74,
          75,
          76,
          77,
          78,
          79,
          80,
          81,
          82,
          83,
          84,
          85,
          86,
          87,
          88,
          89,
          90,
          91,
          92,
          93,
          94,
          95,
          96,
          97,
          98,
          99,
          100,
          101,
          102,
          103,
          104,
          105,
          106,
          107,
          108,
          109,
          110,
          111,
          112,
          113,
          114,
          115,
          116,
          117,
          118,
          119,
          120,
          121,
          122,
          123,
          124,
          125,
          126,
          127,
          128,
          129,
          130,
          131,
          132,
          133,
          134,
          135,
          136,
          137,
          138,
          139,
          140,
          141,
          142,
          143,
          144,
          145,
          146,
          147,
          148,
          149,
          150,
          151,
          152,
          153,
          154,
          155,
          156,
          157,
          158,
          159,
          160,
          161,
          162,
          163,
          164,
          165,
          166,
          167,
          168,
          169,
          170,
          171,
          172,
          173,
          174,
          175,
          176,
          177,
          178,
          179,
          180,
          181,
          182,
          183,
          184,
          185,
          186,
          187,
          188,
          189,
          190,
          191,
          192,
          193,
          194,
          195,
          196,
          197,
          198,
          199,
          200,
          201,
          202,
          203,
          204,
          205,
          206,
          207,
          208,
          209,
          210,
          211,
          212,
          213,
          214,
          215,
          216,
          217,
          218,
          219,
          220,
          221,
          222,
          223,
          224,
          225,
          226,
          227,
          228,
          229,
          230,
          231,
          232,
          233,
          234
         ],
         "xaxis": "x",
         "y": [
          1.0000000000000002,
          0.2039549635729913,
          0.19760343959769866,
          0.19760343959769866,
          0.13711501477538132,
          0.13166706260754998,
          0.13166706260754998,
          0.1316190234128167,
          0.12707006638055485,
          0.12693302254489958,
          0.12246656808431688,
          0.1223064307224287,
          0.1223064307224287,
          0.11556688680095134,
          0.1134077830549793,
          0.11048288645035009,
          0.10960504064254507,
          0.10960504064254507,
          0.10958856594048637,
          0.10935951800191601,
          0.1092773234922579,
          0.10728428580961853,
          0.10707973884509146,
          0.10707973884509146,
          0.10707973884509146,
          0.10673211706854281,
          0.10581758442143968,
          0.10584241786816487,
          0.10582098526685652,
          0.10570049961275804,
          0.10571398618463067,
          0.1057208471423388,
          0.10511383162327673,
          0.10503396319243416,
          0.10503396319243416,
          0.10503396319243416,
          0.10505035641497033,
          0.1050739272995363,
          0.10509830242398506,
          0.10506615696322734,
          0.10503584615314,
          0.10505975809187863,
          0.10508332285911207,
          0.10490808061133848,
          0.10483765088145264,
          0.10483765088145264,
          0.10483765088145264,
          0.10486060276219542,
          0.10484833699866175,
          0.10487145106656512,
          0.10484942582679663,
          0.10485792448483344,
          0.1048807766225642,
          0.10490565213000691,
          0.1048574081076602,
          0.10483166319531419,
          0.10483166319531419,
          0.10483166319531419,
          0.10485204354300448,
          0.10482078836843856,
          0.10483434743304297,
          0.10482359299882088,
          0.1048428097698591,
          0.10484586406701737,
          0.1048522144066625,
          0.10485339456733483,
          0.10485235528362707,
          0.10485235528362707,
          0.10485235528362707,
          0.10486142245083072,
          0.10484331672059151,
          0.10484548442521878,
          0.10483496469661499,
          0.10485382527078983,
          0.1048438805570766,
          0.1048438805570766,
          0.10485650163060926,
          0.10486312416767386,
          0.10486312416767386,
          0.10486312416767386,
          0.10485912109936207,
          0.10485596153393656,
          0.10485142362004811,
          0.1048356300099113,
          0.10484932522554276,
          0.1048457193001097,
          0.1048457193001097,
          0.10484434097174078,
          0.10484810213532107,
          0.10484810213532107,
          0.10484810213532107,
          0.10484407674529551,
          0.10484656575797245,
          0.10484385777925448,
          0.1048281577965322,
          0.10483955732589006,
          0.10484037533247793,
          0.10484037533247793,
          0.10483427794850289,
          0.1048352709817116,
          0.1048352709817116,
          0.1048352709817116,
          0.1048330868631135,
          0.10483572834723394,
          0.1048349522268017,
          0.1048191379667435,
          0.10482965274851955,
          0.10483295160616483,
          0.10483295160616483,
          0.10482612694851204,
          0.10482591909349351,
          0.10482591909349351,
          0.10482591909349351,
          0.10482504211465529,
          0.10482658468754529,
          0.10482657124363565,
          0.10481083669325036,
          0.10482101949121815,
          0.10482548216014084,
          0.10482548216014084,
          0.1048190465207191,
          0.1048186305956078,
          0.1048186305956078,
          0.1048186305956078,
          0.10481839392654195,
          0.10481906898197893,
          0.10481924947679795,
          0.10480380016510972,
          0.10481382864768471,
          0.10481865287369044,
          0.10481865287369044,
          0.10481267898294448,
          0.10481238660344275,
          0.10481238660344275,
          0.10481238660344275,
          0.10481239773618492,
          0.1048126422106447,
          0.104812771333711,
          0.1047976838014931,
          0.10480758550580652,
          0.10481241774298428,
          0.10481241774298428,
          0.10480675354100387,
          0.10480660892788907,
          0.10480660892788907,
          0.10480660892788907,
          0.10480659186095469,
          0.1048067290277063,
          0.10480667595753775,
          0.10479198583166488,
          0.10479972868073403,
          0.10480407988648621,
          0.10480407988648621,
          0.10479806356452981,
          0.10479775257818949,
          0.10479775257818949,
          0.10479775257818949,
          0.1047977244902631,
          0.10479769688676936,
          0.1047976637667654,
          0.1047852317849973,
          0.1047852317849973,
          0.1047880792146192,
          0.1047880792146192,
          0.10478078645626672,
          0.10477947324978988,
          0.10477947324978988,
          0.10477947324978988,
          0.10477971654016018,
          0.10477945565612795,
          0.10477964489412267,
          0.10477535493996401,
          0.10477535493996401,
          0.10477867853340939,
          0.10477867853340939,
          0.10477578382486008,
          0.10477487778503483,
          0.10477487778503483,
          0.10477487778503483,
          0.10477573429418624,
          0.10477504423399417,
          0.10477536650046054,
          0.10477328024791861,
          0.10477328024791861,
          0.10477523487102487,
          0.10477523487102487,
          0.1047740987614861,
          0.10477372764895629,
          0.10477372764895629,
          0.10477372764895629,
          0.10477432433650827,
          0.10477364763834972,
          0.1047737920849859,
          0.10477282660108657,
          0.10477282660108657,
          0.10477386218145032,
          0.10477386218145032,
          0.10477345520552173,
          0.10477353506228469,
          0.10477345520552173,
          0.10477345520552173,
          0.10477379931654841,
          0.10477332845483409,
          0.10477331938754779,
          0.10477293480797778,
          0.10477293480797778,
          0.10477341703000913,
          0.10477341703000913,
          0.10477328244427361,
          0.10477330615917746,
          0.10477328244427361,
          0.10477328244427361,
          0.10477341831915987,
          0.10477321417965452,
          0.10477322057585439,
          0.10477306401863934,
          0.10477306401863934,
          0.10477325126939739,
          0.10477325126939739,
          0.10477329204453276,
          0.10477326766515727,
          0.10477325126939739,
          0.10477325126939739,
          0.10477319282251894,
          0.10477314489106286,
          0.10477317915936556,
          0.10477318109893542,
          0.10477314489106286,
          0.10477310591174342,
          0.10477314489106286,
          0.10477313825496604,
          0.10477311998358338,
          0.10477314489106286,
          0.10477314489106286,
          0.10477309581269173
         ],
         "yaxis": "y"
        }
       ],
       "layout": {
        "hovermode": "x",
        "legend": {
         "tracegroupgap": 0
        },
        "margin": {
         "t": 60
        },
        "template": {
         "data": {
          "bar": [
           {
            "error_x": {
             "color": "#2a3f5f"
            },
            "error_y": {
             "color": "#2a3f5f"
            },
            "marker": {
             "line": {
              "color": "#E5ECF6",
              "width": 0.5
             },
             "pattern": {
              "fillmode": "overlay",
              "size": 10,
              "solidity": 0.2
             }
            },
            "type": "bar"
           }
          ],
          "barpolar": [
           {
            "marker": {
             "line": {
              "color": "#E5ECF6",
              "width": 0.5
             },
             "pattern": {
              "fillmode": "overlay",
              "size": 10,
              "solidity": 0.2
             }
            },
            "type": "barpolar"
           }
          ],
          "carpet": [
           {
            "aaxis": {
             "endlinecolor": "#2a3f5f",
             "gridcolor": "white",
             "linecolor": "white",
             "minorgridcolor": "white",
             "startlinecolor": "#2a3f5f"
            },
            "baxis": {
             "endlinecolor": "#2a3f5f",
             "gridcolor": "white",
             "linecolor": "white",
             "minorgridcolor": "white",
             "startlinecolor": "#2a3f5f"
            },
            "type": "carpet"
           }
          ],
          "choropleth": [
           {
            "colorbar": {
             "outlinewidth": 0,
             "ticks": ""
            },
            "type": "choropleth"
           }
          ],
          "contour": [
           {
            "colorbar": {
             "outlinewidth": 0,
             "ticks": ""
            },
            "colorscale": [
             [
              0,
              "#0d0887"
             ],
             [
              0.1111111111111111,
              "#46039f"
             ],
             [
              0.2222222222222222,
              "#7201a8"
             ],
             [
              0.3333333333333333,
              "#9c179e"
             ],
             [
              0.4444444444444444,
              "#bd3786"
             ],
             [
              0.5555555555555556,
              "#d8576b"
             ],
             [
              0.6666666666666666,
              "#ed7953"
             ],
             [
              0.7777777777777778,
              "#fb9f3a"
             ],
             [
              0.8888888888888888,
              "#fdca26"
             ],
             [
              1,
              "#f0f921"
             ]
            ],
            "type": "contour"
           }
          ],
          "contourcarpet": [
           {
            "colorbar": {
             "outlinewidth": 0,
             "ticks": ""
            },
            "type": "contourcarpet"
           }
          ],
          "heatmap": [
           {
            "colorbar": {
             "outlinewidth": 0,
             "ticks": ""
            },
            "colorscale": [
             [
              0,
              "#0d0887"
             ],
             [
              0.1111111111111111,
              "#46039f"
             ],
             [
              0.2222222222222222,
              "#7201a8"
             ],
             [
              0.3333333333333333,
              "#9c179e"
             ],
             [
              0.4444444444444444,
              "#bd3786"
             ],
             [
              0.5555555555555556,
              "#d8576b"
             ],
             [
              0.6666666666666666,
              "#ed7953"
             ],
             [
              0.7777777777777778,
              "#fb9f3a"
             ],
             [
              0.8888888888888888,
              "#fdca26"
             ],
             [
              1,
              "#f0f921"
             ]
            ],
            "type": "heatmap"
           }
          ],
          "heatmapgl": [
           {
            "colorbar": {
             "outlinewidth": 0,
             "ticks": ""
            },
            "colorscale": [
             [
              0,
              "#0d0887"
             ],
             [
              0.1111111111111111,
              "#46039f"
             ],
             [
              0.2222222222222222,
              "#7201a8"
             ],
             [
              0.3333333333333333,
              "#9c179e"
             ],
             [
              0.4444444444444444,
              "#bd3786"
             ],
             [
              0.5555555555555556,
              "#d8576b"
             ],
             [
              0.6666666666666666,
              "#ed7953"
             ],
             [
              0.7777777777777778,
              "#fb9f3a"
             ],
             [
              0.8888888888888888,
              "#fdca26"
             ],
             [
              1,
              "#f0f921"
             ]
            ],
            "type": "heatmapgl"
           }
          ],
          "histogram": [
           {
            "marker": {
             "pattern": {
              "fillmode": "overlay",
              "size": 10,
              "solidity": 0.2
             }
            },
            "type": "histogram"
           }
          ],
          "histogram2d": [
           {
            "colorbar": {
             "outlinewidth": 0,
             "ticks": ""
            },
            "colorscale": [
             [
              0,
              "#0d0887"
             ],
             [
              0.1111111111111111,
              "#46039f"
             ],
             [
              0.2222222222222222,
              "#7201a8"
             ],
             [
              0.3333333333333333,
              "#9c179e"
             ],
             [
              0.4444444444444444,
              "#bd3786"
             ],
             [
              0.5555555555555556,
              "#d8576b"
             ],
             [
              0.6666666666666666,
              "#ed7953"
             ],
             [
              0.7777777777777778,
              "#fb9f3a"
             ],
             [
              0.8888888888888888,
              "#fdca26"
             ],
             [
              1,
              "#f0f921"
             ]
            ],
            "type": "histogram2d"
           }
          ],
          "histogram2dcontour": [
           {
            "colorbar": {
             "outlinewidth": 0,
             "ticks": ""
            },
            "colorscale": [
             [
              0,
              "#0d0887"
             ],
             [
              0.1111111111111111,
              "#46039f"
             ],
             [
              0.2222222222222222,
              "#7201a8"
             ],
             [
              0.3333333333333333,
              "#9c179e"
             ],
             [
              0.4444444444444444,
              "#bd3786"
             ],
             [
              0.5555555555555556,
              "#d8576b"
             ],
             [
              0.6666666666666666,
              "#ed7953"
             ],
             [
              0.7777777777777778,
              "#fb9f3a"
             ],
             [
              0.8888888888888888,
              "#fdca26"
             ],
             [
              1,
              "#f0f921"
             ]
            ],
            "type": "histogram2dcontour"
           }
          ],
          "mesh3d": [
           {
            "colorbar": {
             "outlinewidth": 0,
             "ticks": ""
            },
            "type": "mesh3d"
           }
          ],
          "parcoords": [
           {
            "line": {
             "colorbar": {
              "outlinewidth": 0,
              "ticks": ""
             }
            },
            "type": "parcoords"
           }
          ],
          "pie": [
           {
            "automargin": true,
            "type": "pie"
           }
          ],
          "scatter": [
           {
            "marker": {
             "colorbar": {
              "outlinewidth": 0,
              "ticks": ""
             }
            },
            "type": "scatter"
           }
          ],
          "scatter3d": [
           {
            "line": {
             "colorbar": {
              "outlinewidth": 0,
              "ticks": ""
             }
            },
            "marker": {
             "colorbar": {
              "outlinewidth": 0,
              "ticks": ""
             }
            },
            "type": "scatter3d"
           }
          ],
          "scattercarpet": [
           {
            "marker": {
             "colorbar": {
              "outlinewidth": 0,
              "ticks": ""
             }
            },
            "type": "scattercarpet"
           }
          ],
          "scattergeo": [
           {
            "marker": {
             "colorbar": {
              "outlinewidth": 0,
              "ticks": ""
             }
            },
            "type": "scattergeo"
           }
          ],
          "scattergl": [
           {
            "marker": {
             "colorbar": {
              "outlinewidth": 0,
              "ticks": ""
             }
            },
            "type": "scattergl"
           }
          ],
          "scattermapbox": [
           {
            "marker": {
             "colorbar": {
              "outlinewidth": 0,
              "ticks": ""
             }
            },
            "type": "scattermapbox"
           }
          ],
          "scatterpolar": [
           {
            "marker": {
             "colorbar": {
              "outlinewidth": 0,
              "ticks": ""
             }
            },
            "type": "scatterpolar"
           }
          ],
          "scatterpolargl": [
           {
            "marker": {
             "colorbar": {
              "outlinewidth": 0,
              "ticks": ""
             }
            },
            "type": "scatterpolargl"
           }
          ],
          "scatterternary": [
           {
            "marker": {
             "colorbar": {
              "outlinewidth": 0,
              "ticks": ""
             }
            },
            "type": "scatterternary"
           }
          ],
          "surface": [
           {
            "colorbar": {
             "outlinewidth": 0,
             "ticks": ""
            },
            "colorscale": [
             [
              0,
              "#0d0887"
             ],
             [
              0.1111111111111111,
              "#46039f"
             ],
             [
              0.2222222222222222,
              "#7201a8"
             ],
             [
              0.3333333333333333,
              "#9c179e"
             ],
             [
              0.4444444444444444,
              "#bd3786"
             ],
             [
              0.5555555555555556,
              "#d8576b"
             ],
             [
              0.6666666666666666,
              "#ed7953"
             ],
             [
              0.7777777777777778,
              "#fb9f3a"
             ],
             [
              0.8888888888888888,
              "#fdca26"
             ],
             [
              1,
              "#f0f921"
             ]
            ],
            "type": "surface"
           }
          ],
          "table": [
           {
            "cells": {
             "fill": {
              "color": "#EBF0F8"
             },
             "line": {
              "color": "white"
             }
            },
            "header": {
             "fill": {
              "color": "#C8D4E3"
             },
             "line": {
              "color": "white"
             }
            },
            "type": "table"
           }
          ]
         },
         "layout": {
          "annotationdefaults": {
           "arrowcolor": "#2a3f5f",
           "arrowhead": 0,
           "arrowwidth": 1
          },
          "autotypenumbers": "strict",
          "coloraxis": {
           "colorbar": {
            "outlinewidth": 0,
            "ticks": ""
           }
          },
          "colorscale": {
           "diverging": [
            [
             0,
             "#8e0152"
            ],
            [
             0.1,
             "#c51b7d"
            ],
            [
             0.2,
             "#de77ae"
            ],
            [
             0.3,
             "#f1b6da"
            ],
            [
             0.4,
             "#fde0ef"
            ],
            [
             0.5,
             "#f7f7f7"
            ],
            [
             0.6,
             "#e6f5d0"
            ],
            [
             0.7,
             "#b8e186"
            ],
            [
             0.8,
             "#7fbc41"
            ],
            [
             0.9,
             "#4d9221"
            ],
            [
             1,
             "#276419"
            ]
           ],
           "sequential": [
            [
             0,
             "#0d0887"
            ],
            [
             0.1111111111111111,
             "#46039f"
            ],
            [
             0.2222222222222222,
             "#7201a8"
            ],
            [
             0.3333333333333333,
             "#9c179e"
            ],
            [
             0.4444444444444444,
             "#bd3786"
            ],
            [
             0.5555555555555556,
             "#d8576b"
            ],
            [
             0.6666666666666666,
             "#ed7953"
            ],
            [
             0.7777777777777778,
             "#fb9f3a"
            ],
            [
             0.8888888888888888,
             "#fdca26"
            ],
            [
             1,
             "#f0f921"
            ]
           ],
           "sequentialminus": [
            [
             0,
             "#0d0887"
            ],
            [
             0.1111111111111111,
             "#46039f"
            ],
            [
             0.2222222222222222,
             "#7201a8"
            ],
            [
             0.3333333333333333,
             "#9c179e"
            ],
            [
             0.4444444444444444,
             "#bd3786"
            ],
            [
             0.5555555555555556,
             "#d8576b"
            ],
            [
             0.6666666666666666,
             "#ed7953"
            ],
            [
             0.7777777777777778,
             "#fb9f3a"
            ],
            [
             0.8888888888888888,
             "#fdca26"
            ],
            [
             1,
             "#f0f921"
            ]
           ]
          },
          "colorway": [
           "#636efa",
           "#EF553B",
           "#00cc96",
           "#ab63fa",
           "#FFA15A",
           "#19d3f3",
           "#FF6692",
           "#B6E880",
           "#FF97FF",
           "#FECB52"
          ],
          "font": {
           "color": "#2a3f5f"
          },
          "geo": {
           "bgcolor": "white",
           "lakecolor": "white",
           "landcolor": "#E5ECF6",
           "showlakes": true,
           "showland": true,
           "subunitcolor": "white"
          },
          "hoverlabel": {
           "align": "left"
          },
          "hovermode": "closest",
          "mapbox": {
           "style": "light"
          },
          "paper_bgcolor": "white",
          "plot_bgcolor": "#E5ECF6",
          "polar": {
           "angularaxis": {
            "gridcolor": "white",
            "linecolor": "white",
            "ticks": ""
           },
           "bgcolor": "#E5ECF6",
           "radialaxis": {
            "gridcolor": "white",
            "linecolor": "white",
            "ticks": ""
           }
          },
          "scene": {
           "xaxis": {
            "backgroundcolor": "#E5ECF6",
            "gridcolor": "white",
            "gridwidth": 2,
            "linecolor": "white",
            "showbackground": true,
            "ticks": "",
            "zerolinecolor": "white"
           },
           "yaxis": {
            "backgroundcolor": "#E5ECF6",
            "gridcolor": "white",
            "gridwidth": 2,
            "linecolor": "white",
            "showbackground": true,
            "ticks": "",
            "zerolinecolor": "white"
           },
           "zaxis": {
            "backgroundcolor": "#E5ECF6",
            "gridcolor": "white",
            "gridwidth": 2,
            "linecolor": "white",
            "showbackground": true,
            "ticks": "",
            "zerolinecolor": "white"
           }
          },
          "shapedefaults": {
           "line": {
            "color": "#2a3f5f"
           }
          },
          "ternary": {
           "aaxis": {
            "gridcolor": "white",
            "linecolor": "white",
            "ticks": ""
           },
           "baxis": {
            "gridcolor": "white",
            "linecolor": "white",
            "ticks": ""
           },
           "bgcolor": "#E5ECF6",
           "caxis": {
            "gridcolor": "white",
            "linecolor": "white",
            "ticks": ""
           }
          },
          "title": {
           "x": 0.05
          },
          "xaxis": {
           "automargin": true,
           "gridcolor": "white",
           "linecolor": "white",
           "ticks": "",
           "title": {
            "standoff": 15
           },
           "zerolinecolor": "white",
           "zerolinewidth": 2
          },
          "yaxis": {
           "automargin": true,
           "gridcolor": "white",
           "linecolor": "white",
           "ticks": "",
           "title": {
            "standoff": 15
           },
           "zerolinecolor": "white",
           "zerolinewidth": 2
          }
         }
        },
        "title": {
         "text": "Cost function values for training iterations"
        },
        "xaxis": {
         "anchor": "y",
         "domain": [
          0,
          1
         ],
         "title": {
          "text": "iteration"
         }
        },
        "yaxis": {
         "anchor": "x",
         "domain": [
          0,
          1
         ],
         "title": {
          "text": "cost"
         }
        }
       }
      }
     },
     "metadata": {},
     "output_type": "display_data"
    }
   ],
   "source": [
    "visualize_cost(cd_diab.costs)"
   ]
  },
  {
   "cell_type": "markdown",
   "metadata": {},
   "source": [
    " Lasso Feature Selection"
   ]
  },
  {
   "cell_type": "code",
   "execution_count": 9,
   "metadata": {},
   "outputs": [
    {
     "data": {
      "text/plain": [
       "array([ 0.89221356,  0.        , -0.04742201,  0.14476189,  0.07885744,\n",
       "       -0.0195965 ,  0.        , -0.05995561,  0.        ,  0.13795199,\n",
       "        0.01142408])"
      ]
     },
     "execution_count": 9,
     "metadata": {},
     "output_type": "execute_result"
    }
   ],
   "source": [
    "diab_cyclic_theta = cd_diab.theta\n",
    "diab_cyclic_theta"
   ]
  },
  {
   "cell_type": "markdown",
   "metadata": {},
   "source": [
    "### 1c. Randomized index selection method"
   ]
  },
  {
   "cell_type": "code",
   "execution_count": 13,
   "metadata": {},
   "outputs": [
    {
     "name": "stderr",
     "output_type": "stream",
     "text": [
      " 29%|██▉       | 291/1000 [00:00<00:00, 6078.73it/s]\n"
     ]
    }
   ],
   "source": [
    "lambda_ = 0.01\n",
    "cd_diab = CoordinateDescent(lambda_ = lambda_)\n",
    "cd_diab.fit(X_diab, y_diab, tol = 10e-6, method='randomized')"
   ]
  },
  {
   "cell_type": "code",
   "execution_count": 14,
   "metadata": {},
   "outputs": [
    {
     "data": {
      "application/vnd.plotly.v1+json": {
       "config": {
        "plotlyServerURL": "https://plot.ly"
       },
       "data": [
        {
         "legendgroup": "",
         "line": {
          "color": "#636efa",
          "dash": "solid"
         },
         "marker": {
          "symbol": "circle"
         },
         "mode": "markers+lines",
         "name": "",
         "orientation": "v",
         "showlegend": false,
         "type": "scatter",
         "x": [
          0,
          1,
          2,
          3,
          4,
          5,
          6,
          7,
          8,
          9,
          10,
          11,
          12,
          13,
          14,
          15,
          16,
          17,
          18,
          19,
          20,
          21,
          22,
          23,
          24,
          25,
          26,
          27,
          28,
          29,
          30,
          31,
          32,
          33,
          34,
          35,
          36,
          37,
          38,
          39,
          40,
          41,
          42,
          43,
          44,
          45,
          46,
          47,
          48,
          49,
          50,
          51,
          52,
          53,
          54,
          55,
          56,
          57,
          58,
          59,
          60,
          61,
          62,
          63,
          64,
          65,
          66,
          67,
          68,
          69,
          70,
          71,
          72,
          73,
          74,
          75,
          76,
          77,
          78,
          79,
          80,
          81,
          82,
          83,
          84,
          85,
          86,
          87,
          88,
          89,
          90,
          91,
          92,
          93,
          94,
          95,
          96,
          97,
          98,
          99,
          100,
          101,
          102,
          103,
          104,
          105,
          106,
          107,
          108,
          109,
          110,
          111,
          112,
          113,
          114,
          115,
          116,
          117,
          118,
          119,
          120,
          121,
          122,
          123,
          124,
          125,
          126,
          127,
          128,
          129,
          130,
          131,
          132,
          133,
          134,
          135,
          136,
          137,
          138,
          139,
          140,
          141,
          142,
          143,
          144,
          145,
          146,
          147,
          148,
          149,
          150,
          151,
          152,
          153,
          154,
          155,
          156,
          157,
          158,
          159,
          160,
          161,
          162,
          163,
          164,
          165,
          166,
          167,
          168,
          169,
          170,
          171,
          172,
          173,
          174,
          175,
          176,
          177,
          178,
          179,
          180,
          181,
          182,
          183,
          184,
          185,
          186,
          187,
          188,
          189,
          190,
          191,
          192,
          193,
          194,
          195,
          196,
          197,
          198,
          199,
          200,
          201,
          202,
          203,
          204,
          205,
          206,
          207,
          208,
          209,
          210,
          211,
          212,
          213,
          214,
          215,
          216,
          217,
          218,
          219,
          220,
          221,
          222,
          223,
          224,
          225,
          226,
          227,
          228,
          229,
          230,
          231,
          232,
          233,
          234,
          235,
          236,
          237,
          238,
          239,
          240,
          241,
          242,
          243,
          244,
          245,
          246,
          247,
          248,
          249,
          250,
          251,
          252,
          253,
          254,
          255,
          256,
          257,
          258,
          259,
          260,
          261,
          262,
          263,
          264,
          265,
          266,
          267,
          268,
          269,
          270,
          271,
          272,
          273,
          274,
          275,
          276,
          277,
          278,
          279,
          280,
          281,
          282,
          283,
          284,
          285,
          286,
          287,
          288,
          289,
          290,
          291
         ],
         "xaxis": "x",
         "y": [
          1.0000000000000002,
          0.9372443226098672,
          0.9366019023945615,
          0.9366019023945615,
          0.9260571870251151,
          0.9255170466937467,
          0.9236933868053282,
          0.9223540521506712,
          0.9223540521506712,
          0.9212883847227741,
          0.9189108068623074,
          0.9188012750284581,
          0.9182460068853969,
          0.12220097045838665,
          0.12220097045838665,
          0.12220097045838665,
          0.12192011471479576,
          0.12193566823945151,
          0.12176216861839774,
          0.12176216861839774,
          0.12138364731692863,
          0.12138364731692863,
          0.12096016215614455,
          0.12096016215614455,
          0.12096016215614455,
          0.12096016215614455,
          0.12086122491452608,
          0.1208651948456929,
          0.12085470248159887,
          0.12085470248159887,
          0.12087574724390152,
          0.12068323525617278,
          0.12058110307592193,
          0.12059461148608532,
          0.1206033852635508,
          0.12062466840913696,
          0.10835585758851274,
          0.10718333834317623,
          0.1069413754725505,
          0.10649002095066769,
          0.10553345088155948,
          0.10555337962086465,
          0.10555337962086465,
          0.10557668138722077,
          0.10557668138722077,
          0.10557668138722077,
          0.10557668138722077,
          0.10557440838984286,
          0.10557440838984286,
          0.10559218051158398,
          0.10559218051158398,
          0.10561403214003018,
          0.10561403214003018,
          0.10561403214003018,
          0.1055580482102408,
          0.1055580482102408,
          0.1055580482102408,
          0.10546642621024992,
          0.10546642621024992,
          0.10539083960087632,
          0.10539083960087632,
          0.10539083960087632,
          0.10541269671920206,
          0.10542209361677345,
          0.10542209361677345,
          0.10498259477434056,
          0.10500563176382285,
          0.10501874352003641,
          0.10501874352003641,
          0.10501874352003641,
          0.10501874352003641,
          0.10501762391471453,
          0.10485858803447824,
          0.10488112530764156,
          0.10488112530764156,
          0.10487026312121754,
          0.10489258131999697,
          0.10489018495041932,
          0.10489018495041932,
          0.10489018495041932,
          0.10490151933204608,
          0.1049048498922473,
          0.10492193348675842,
          0.10492193348675842,
          0.10492193348675842,
          0.10492193348675842,
          0.10491186386439615,
          0.10491186386439615,
          0.10475992573990696,
          0.10475992573990696,
          0.10475992573990696,
          0.1047731302871248,
          0.1047731302871248,
          0.1047731302871248,
          0.1047731302871248,
          0.1047731302871248,
          0.10476704202854653,
          0.10476704202854653,
          0.10476125833289403,
          0.10476125833289403,
          0.10478615528025013,
          0.10480003812090966,
          0.10480003812090966,
          0.10477064388038461,
          0.10477868206084275,
          0.10477859160527253,
          0.10477868206084275,
          0.10477868206084275,
          0.10477868206084275,
          0.104794545292658,
          0.104794545292658,
          0.10479230753886669,
          0.10479211411019808,
          0.10479211411019808,
          0.10479211411019808,
          0.10479587340747606,
          0.1047551187507278,
          0.10474174046974272,
          0.10474174046974272,
          0.10475273625864567,
          0.10473660966634224,
          0.10473825800819457,
          0.10473741194900359,
          0.10474983042511407,
          0.10476133435204589,
          0.10476133435204589,
          0.10476133435204589,
          0.1047419105467526,
          0.1047419105467526,
          0.104748106857953,
          0.104748106857953,
          0.10475574568665791,
          0.10474030835794601,
          0.10473989134440942,
          0.10474498217728902,
          0.10474295572912523,
          0.10474295572912523,
          0.10474093002572761,
          0.1047437403087941,
          0.1047437403087941,
          0.1047437403087941,
          0.1047437403087941,
          0.1047437403087941,
          0.1047577388708247,
          0.1047577388708247,
          0.10475666345722671,
          0.1047545053724903,
          0.1047545053724903,
          0.10475797054152068,
          0.10476512487856444,
          0.10476512487856444,
          0.10476579872586601,
          0.10476620383324736,
          0.10476620383324736,
          0.10476175812407906,
          0.10476266848421441,
          0.10476266848421441,
          0.10476134101899655,
          0.1047623841341296,
          0.10476164818133613,
          0.10476164818133613,
          0.10476068859397802,
          0.10476068859397802,
          0.10476068859397802,
          0.10476085822704348,
          0.10476658268458057,
          0.10476658268458057,
          0.10476803895094473,
          0.10476803895094473,
          0.10476993485114651,
          0.10477214576129504,
          0.10477214576129504,
          0.10477108359087713,
          0.10477108359087713,
          0.10477286259783504,
          0.10477312448716493,
          0.10477075943662441,
          0.10477227889431347,
          0.10477227889431347,
          0.1047718567372109,
          0.1047718567372109,
          0.1047718567372109,
          0.1047718567372109,
          0.10477202060035548,
          0.10477152071978388,
          0.10477151431836891,
          0.10477152071978388,
          0.10477165314391787,
          0.10477165314391787,
          0.10477161478416601,
          0.10477170557597423,
          0.10477050933362074,
          0.10477087045787192,
          0.10477314045960034,
          0.10477314045960034,
          0.10477425015021244,
          0.10477425015021244,
          0.10477425015021244,
          0.10477425015021244,
          0.10477429977519635,
          0.10477429977519635,
          0.10477425015021244,
          0.10477425015021244,
          0.10477429977519635,
          0.10477425015021244,
          0.10477348787003299,
          0.10477348787003299,
          0.10477264127137965,
          0.10477264127137965,
          0.10477264127137965,
          0.10477387633746363,
          0.10477362565385347,
          0.10477373709506585,
          0.10477422873094593,
          0.10477422873094593,
          0.10477422873094593,
          0.10477422873094593,
          0.10477422873094593,
          0.10477397292687757,
          0.10477361973185353,
          0.10477361973185353,
          0.10477345100175324,
          0.10477345100175324,
          0.1047733684534773,
          0.10477372017426777,
          0.10477402374047869,
          0.10477369025486281,
          0.10477369025486281,
          0.1047735248265873,
          0.10477335570878146,
          0.10477335570878146,
          0.10477329008686502,
          0.10477277755273079,
          0.10477294674478181,
          0.10477326454420531,
          0.10477306567687622,
          0.10477306567687622,
          0.10477306567687622,
          0.10477303416766343,
          0.10477306567687622,
          0.10477306567687622,
          0.10477303416766343,
          0.10477306567687622,
          0.10477306567687622,
          0.1047731558741516,
          0.10477298719744822,
          0.10477277149003682,
          0.10477284218557051,
          0.10477256969015522,
          0.10477256969015522,
          0.10477269602314425,
          0.10477302941380212,
          0.10477287994670131,
          0.10477287994670131,
          0.10477272237917204,
          0.10477272237917204,
          0.10477272237917204,
          0.10477272237917204,
          0.10477272237917204,
          0.10477278849878333,
          0.10477264737039563,
          0.10477272237917204,
          0.10477264737039563,
          0.10477272237917204,
          0.10477272237917204,
          0.10477290289651273,
          0.10477303663000942,
          0.10477303663000942,
          0.10477289359777062,
          0.10477289359777062,
          0.1047731095462041,
          0.1047731095462041,
          0.10477317101699152,
          0.1047731095462041,
          0.1047731095462041,
          0.1047731095462041,
          0.10477319580496228,
          0.1047731095462041,
          0.10477317101699152,
          0.1047731095462041,
          0.1047731758737507,
          0.10477317101699152,
          0.1047731095462041,
          0.1047731095462041,
          0.10477309838310168,
          0.1047731095462041,
          0.10477319580496228,
          0.1047731095462041,
          0.1047731095462041,
          0.1047731095462041,
          0.10477319580496228,
          0.10477309838310168
         ],
         "yaxis": "y"
        }
       ],
       "layout": {
        "hovermode": "x",
        "legend": {
         "tracegroupgap": 0
        },
        "margin": {
         "t": 60
        },
        "template": {
         "data": {
          "bar": [
           {
            "error_x": {
             "color": "#2a3f5f"
            },
            "error_y": {
             "color": "#2a3f5f"
            },
            "marker": {
             "line": {
              "color": "#E5ECF6",
              "width": 0.5
             },
             "pattern": {
              "fillmode": "overlay",
              "size": 10,
              "solidity": 0.2
             }
            },
            "type": "bar"
           }
          ],
          "barpolar": [
           {
            "marker": {
             "line": {
              "color": "#E5ECF6",
              "width": 0.5
             },
             "pattern": {
              "fillmode": "overlay",
              "size": 10,
              "solidity": 0.2
             }
            },
            "type": "barpolar"
           }
          ],
          "carpet": [
           {
            "aaxis": {
             "endlinecolor": "#2a3f5f",
             "gridcolor": "white",
             "linecolor": "white",
             "minorgridcolor": "white",
             "startlinecolor": "#2a3f5f"
            },
            "baxis": {
             "endlinecolor": "#2a3f5f",
             "gridcolor": "white",
             "linecolor": "white",
             "minorgridcolor": "white",
             "startlinecolor": "#2a3f5f"
            },
            "type": "carpet"
           }
          ],
          "choropleth": [
           {
            "colorbar": {
             "outlinewidth": 0,
             "ticks": ""
            },
            "type": "choropleth"
           }
          ],
          "contour": [
           {
            "colorbar": {
             "outlinewidth": 0,
             "ticks": ""
            },
            "colorscale": [
             [
              0,
              "#0d0887"
             ],
             [
              0.1111111111111111,
              "#46039f"
             ],
             [
              0.2222222222222222,
              "#7201a8"
             ],
             [
              0.3333333333333333,
              "#9c179e"
             ],
             [
              0.4444444444444444,
              "#bd3786"
             ],
             [
              0.5555555555555556,
              "#d8576b"
             ],
             [
              0.6666666666666666,
              "#ed7953"
             ],
             [
              0.7777777777777778,
              "#fb9f3a"
             ],
             [
              0.8888888888888888,
              "#fdca26"
             ],
             [
              1,
              "#f0f921"
             ]
            ],
            "type": "contour"
           }
          ],
          "contourcarpet": [
           {
            "colorbar": {
             "outlinewidth": 0,
             "ticks": ""
            },
            "type": "contourcarpet"
           }
          ],
          "heatmap": [
           {
            "colorbar": {
             "outlinewidth": 0,
             "ticks": ""
            },
            "colorscale": [
             [
              0,
              "#0d0887"
             ],
             [
              0.1111111111111111,
              "#46039f"
             ],
             [
              0.2222222222222222,
              "#7201a8"
             ],
             [
              0.3333333333333333,
              "#9c179e"
             ],
             [
              0.4444444444444444,
              "#bd3786"
             ],
             [
              0.5555555555555556,
              "#d8576b"
             ],
             [
              0.6666666666666666,
              "#ed7953"
             ],
             [
              0.7777777777777778,
              "#fb9f3a"
             ],
             [
              0.8888888888888888,
              "#fdca26"
             ],
             [
              1,
              "#f0f921"
             ]
            ],
            "type": "heatmap"
           }
          ],
          "heatmapgl": [
           {
            "colorbar": {
             "outlinewidth": 0,
             "ticks": ""
            },
            "colorscale": [
             [
              0,
              "#0d0887"
             ],
             [
              0.1111111111111111,
              "#46039f"
             ],
             [
              0.2222222222222222,
              "#7201a8"
             ],
             [
              0.3333333333333333,
              "#9c179e"
             ],
             [
              0.4444444444444444,
              "#bd3786"
             ],
             [
              0.5555555555555556,
              "#d8576b"
             ],
             [
              0.6666666666666666,
              "#ed7953"
             ],
             [
              0.7777777777777778,
              "#fb9f3a"
             ],
             [
              0.8888888888888888,
              "#fdca26"
             ],
             [
              1,
              "#f0f921"
             ]
            ],
            "type": "heatmapgl"
           }
          ],
          "histogram": [
           {
            "marker": {
             "pattern": {
              "fillmode": "overlay",
              "size": 10,
              "solidity": 0.2
             }
            },
            "type": "histogram"
           }
          ],
          "histogram2d": [
           {
            "colorbar": {
             "outlinewidth": 0,
             "ticks": ""
            },
            "colorscale": [
             [
              0,
              "#0d0887"
             ],
             [
              0.1111111111111111,
              "#46039f"
             ],
             [
              0.2222222222222222,
              "#7201a8"
             ],
             [
              0.3333333333333333,
              "#9c179e"
             ],
             [
              0.4444444444444444,
              "#bd3786"
             ],
             [
              0.5555555555555556,
              "#d8576b"
             ],
             [
              0.6666666666666666,
              "#ed7953"
             ],
             [
              0.7777777777777778,
              "#fb9f3a"
             ],
             [
              0.8888888888888888,
              "#fdca26"
             ],
             [
              1,
              "#f0f921"
             ]
            ],
            "type": "histogram2d"
           }
          ],
          "histogram2dcontour": [
           {
            "colorbar": {
             "outlinewidth": 0,
             "ticks": ""
            },
            "colorscale": [
             [
              0,
              "#0d0887"
             ],
             [
              0.1111111111111111,
              "#46039f"
             ],
             [
              0.2222222222222222,
              "#7201a8"
             ],
             [
              0.3333333333333333,
              "#9c179e"
             ],
             [
              0.4444444444444444,
              "#bd3786"
             ],
             [
              0.5555555555555556,
              "#d8576b"
             ],
             [
              0.6666666666666666,
              "#ed7953"
             ],
             [
              0.7777777777777778,
              "#fb9f3a"
             ],
             [
              0.8888888888888888,
              "#fdca26"
             ],
             [
              1,
              "#f0f921"
             ]
            ],
            "type": "histogram2dcontour"
           }
          ],
          "mesh3d": [
           {
            "colorbar": {
             "outlinewidth": 0,
             "ticks": ""
            },
            "type": "mesh3d"
           }
          ],
          "parcoords": [
           {
            "line": {
             "colorbar": {
              "outlinewidth": 0,
              "ticks": ""
             }
            },
            "type": "parcoords"
           }
          ],
          "pie": [
           {
            "automargin": true,
            "type": "pie"
           }
          ],
          "scatter": [
           {
            "marker": {
             "colorbar": {
              "outlinewidth": 0,
              "ticks": ""
             }
            },
            "type": "scatter"
           }
          ],
          "scatter3d": [
           {
            "line": {
             "colorbar": {
              "outlinewidth": 0,
              "ticks": ""
             }
            },
            "marker": {
             "colorbar": {
              "outlinewidth": 0,
              "ticks": ""
             }
            },
            "type": "scatter3d"
           }
          ],
          "scattercarpet": [
           {
            "marker": {
             "colorbar": {
              "outlinewidth": 0,
              "ticks": ""
             }
            },
            "type": "scattercarpet"
           }
          ],
          "scattergeo": [
           {
            "marker": {
             "colorbar": {
              "outlinewidth": 0,
              "ticks": ""
             }
            },
            "type": "scattergeo"
           }
          ],
          "scattergl": [
           {
            "marker": {
             "colorbar": {
              "outlinewidth": 0,
              "ticks": ""
             }
            },
            "type": "scattergl"
           }
          ],
          "scattermapbox": [
           {
            "marker": {
             "colorbar": {
              "outlinewidth": 0,
              "ticks": ""
             }
            },
            "type": "scattermapbox"
           }
          ],
          "scatterpolar": [
           {
            "marker": {
             "colorbar": {
              "outlinewidth": 0,
              "ticks": ""
             }
            },
            "type": "scatterpolar"
           }
          ],
          "scatterpolargl": [
           {
            "marker": {
             "colorbar": {
              "outlinewidth": 0,
              "ticks": ""
             }
            },
            "type": "scatterpolargl"
           }
          ],
          "scatterternary": [
           {
            "marker": {
             "colorbar": {
              "outlinewidth": 0,
              "ticks": ""
             }
            },
            "type": "scatterternary"
           }
          ],
          "surface": [
           {
            "colorbar": {
             "outlinewidth": 0,
             "ticks": ""
            },
            "colorscale": [
             [
              0,
              "#0d0887"
             ],
             [
              0.1111111111111111,
              "#46039f"
             ],
             [
              0.2222222222222222,
              "#7201a8"
             ],
             [
              0.3333333333333333,
              "#9c179e"
             ],
             [
              0.4444444444444444,
              "#bd3786"
             ],
             [
              0.5555555555555556,
              "#d8576b"
             ],
             [
              0.6666666666666666,
              "#ed7953"
             ],
             [
              0.7777777777777778,
              "#fb9f3a"
             ],
             [
              0.8888888888888888,
              "#fdca26"
             ],
             [
              1,
              "#f0f921"
             ]
            ],
            "type": "surface"
           }
          ],
          "table": [
           {
            "cells": {
             "fill": {
              "color": "#EBF0F8"
             },
             "line": {
              "color": "white"
             }
            },
            "header": {
             "fill": {
              "color": "#C8D4E3"
             },
             "line": {
              "color": "white"
             }
            },
            "type": "table"
           }
          ]
         },
         "layout": {
          "annotationdefaults": {
           "arrowcolor": "#2a3f5f",
           "arrowhead": 0,
           "arrowwidth": 1
          },
          "autotypenumbers": "strict",
          "coloraxis": {
           "colorbar": {
            "outlinewidth": 0,
            "ticks": ""
           }
          },
          "colorscale": {
           "diverging": [
            [
             0,
             "#8e0152"
            ],
            [
             0.1,
             "#c51b7d"
            ],
            [
             0.2,
             "#de77ae"
            ],
            [
             0.3,
             "#f1b6da"
            ],
            [
             0.4,
             "#fde0ef"
            ],
            [
             0.5,
             "#f7f7f7"
            ],
            [
             0.6,
             "#e6f5d0"
            ],
            [
             0.7,
             "#b8e186"
            ],
            [
             0.8,
             "#7fbc41"
            ],
            [
             0.9,
             "#4d9221"
            ],
            [
             1,
             "#276419"
            ]
           ],
           "sequential": [
            [
             0,
             "#0d0887"
            ],
            [
             0.1111111111111111,
             "#46039f"
            ],
            [
             0.2222222222222222,
             "#7201a8"
            ],
            [
             0.3333333333333333,
             "#9c179e"
            ],
            [
             0.4444444444444444,
             "#bd3786"
            ],
            [
             0.5555555555555556,
             "#d8576b"
            ],
            [
             0.6666666666666666,
             "#ed7953"
            ],
            [
             0.7777777777777778,
             "#fb9f3a"
            ],
            [
             0.8888888888888888,
             "#fdca26"
            ],
            [
             1,
             "#f0f921"
            ]
           ],
           "sequentialminus": [
            [
             0,
             "#0d0887"
            ],
            [
             0.1111111111111111,
             "#46039f"
            ],
            [
             0.2222222222222222,
             "#7201a8"
            ],
            [
             0.3333333333333333,
             "#9c179e"
            ],
            [
             0.4444444444444444,
             "#bd3786"
            ],
            [
             0.5555555555555556,
             "#d8576b"
            ],
            [
             0.6666666666666666,
             "#ed7953"
            ],
            [
             0.7777777777777778,
             "#fb9f3a"
            ],
            [
             0.8888888888888888,
             "#fdca26"
            ],
            [
             1,
             "#f0f921"
            ]
           ]
          },
          "colorway": [
           "#636efa",
           "#EF553B",
           "#00cc96",
           "#ab63fa",
           "#FFA15A",
           "#19d3f3",
           "#FF6692",
           "#B6E880",
           "#FF97FF",
           "#FECB52"
          ],
          "font": {
           "color": "#2a3f5f"
          },
          "geo": {
           "bgcolor": "white",
           "lakecolor": "white",
           "landcolor": "#E5ECF6",
           "showlakes": true,
           "showland": true,
           "subunitcolor": "white"
          },
          "hoverlabel": {
           "align": "left"
          },
          "hovermode": "closest",
          "mapbox": {
           "style": "light"
          },
          "paper_bgcolor": "white",
          "plot_bgcolor": "#E5ECF6",
          "polar": {
           "angularaxis": {
            "gridcolor": "white",
            "linecolor": "white",
            "ticks": ""
           },
           "bgcolor": "#E5ECF6",
           "radialaxis": {
            "gridcolor": "white",
            "linecolor": "white",
            "ticks": ""
           }
          },
          "scene": {
           "xaxis": {
            "backgroundcolor": "#E5ECF6",
            "gridcolor": "white",
            "gridwidth": 2,
            "linecolor": "white",
            "showbackground": true,
            "ticks": "",
            "zerolinecolor": "white"
           },
           "yaxis": {
            "backgroundcolor": "#E5ECF6",
            "gridcolor": "white",
            "gridwidth": 2,
            "linecolor": "white",
            "showbackground": true,
            "ticks": "",
            "zerolinecolor": "white"
           },
           "zaxis": {
            "backgroundcolor": "#E5ECF6",
            "gridcolor": "white",
            "gridwidth": 2,
            "linecolor": "white",
            "showbackground": true,
            "ticks": "",
            "zerolinecolor": "white"
           }
          },
          "shapedefaults": {
           "line": {
            "color": "#2a3f5f"
           }
          },
          "ternary": {
           "aaxis": {
            "gridcolor": "white",
            "linecolor": "white",
            "ticks": ""
           },
           "baxis": {
            "gridcolor": "white",
            "linecolor": "white",
            "ticks": ""
           },
           "bgcolor": "#E5ECF6",
           "caxis": {
            "gridcolor": "white",
            "linecolor": "white",
            "ticks": ""
           }
          },
          "title": {
           "x": 0.05
          },
          "xaxis": {
           "automargin": true,
           "gridcolor": "white",
           "linecolor": "white",
           "ticks": "",
           "title": {
            "standoff": 15
           },
           "zerolinecolor": "white",
           "zerolinewidth": 2
          },
          "yaxis": {
           "automargin": true,
           "gridcolor": "white",
           "linecolor": "white",
           "ticks": "",
           "title": {
            "standoff": 15
           },
           "zerolinecolor": "white",
           "zerolinewidth": 2
          }
         }
        },
        "title": {
         "text": "Cost function values for training iterations"
        },
        "xaxis": {
         "anchor": "y",
         "domain": [
          0,
          1
         ],
         "title": {
          "text": "iteration"
         }
        },
        "yaxis": {
         "anchor": "x",
         "domain": [
          0,
          1
         ],
         "title": {
          "text": "cost"
         }
        }
       }
      }
     },
     "metadata": {},
     "output_type": "display_data"
    }
   ],
   "source": [
    "visualize_cost(cd_diab.costs)"
   ]
  },
  {
   "cell_type": "markdown",
   "metadata": {},
   "source": [
    "Lasso Feature Selection"
   ]
  },
  {
   "cell_type": "code",
   "execution_count": 10,
   "metadata": {},
   "outputs": [
    {
     "data": {
      "text/plain": [
       "array([ 0.89221356,  0.        , -0.04739701,  0.14477692,  0.07884914,\n",
       "       -0.01963394,  0.        , -0.05991778,  0.        ,  0.1379822 ,\n",
       "        0.01141614])"
      ]
     },
     "execution_count": 10,
     "metadata": {},
     "output_type": "execute_result"
    }
   ],
   "source": [
    "diab_rand_theta = cd_diab.theta\n",
    "diab_rand_theta"
   ]
  },
  {
   "cell_type": "markdown",
   "metadata": {},
   "source": [
    "### 1d. Sklearn Lasso Regression\n"
   ]
  },
  {
   "cell_type": "code",
   "execution_count": 80,
   "metadata": {},
   "outputs": [
    {
     "data": {
      "text/plain": [
       "array([ 0.04243827,  0.        , -0.0258781 ,  0.14275015,  0.06779125,\n",
       "       -0.        , -0.        , -0.05088302,  0.        ,  0.12594076,\n",
       "        0.00162157])"
      ]
     },
     "execution_count": 80,
     "metadata": {},
     "output_type": "execute_result"
    }
   ],
   "source": [
    "l = Lasso(alpha=0.00005) # strange alpha value due to our unusual normalization after data loading\n",
    "l.fit(X_diab, y_diab)\n",
    "diab_sklearn_theta = l.coef_\n",
    "diab_sklearn_theta[0] = l.intercept_\n",
    "\n",
    "diab_sklearn_theta"
   ]
  },
  {
   "cell_type": "markdown",
   "metadata": {},
   "source": [
    "### 1e. Comparison of thetas' estimations for each method"
   ]
  },
  {
   "cell_type": "markdown",
   "metadata": {},
   "source": [
    "'Cyclic' index selection"
   ]
  },
  {
   "cell_type": "code",
   "execution_count": 81,
   "metadata": {},
   "outputs": [
    {
     "data": {
      "text/plain": [
       "array([ 0.89221356,  0.        , -0.04742201,  0.14476189,  0.07885744,\n",
       "       -0.0195965 ,  0.        , -0.05995561,  0.        ,  0.13795199,\n",
       "        0.01142408])"
      ]
     },
     "execution_count": 81,
     "metadata": {},
     "output_type": "execute_result"
    }
   ],
   "source": [
    "diab_cyclic_theta"
   ]
  },
  {
   "cell_type": "markdown",
   "metadata": {},
   "source": [
    "'Randomized' index selection"
   ]
  },
  {
   "cell_type": "code",
   "execution_count": 82,
   "metadata": {},
   "outputs": [
    {
     "data": {
      "text/plain": [
       "array([ 0.89221356,  0.        , -0.04739701,  0.14477692,  0.07884914,\n",
       "       -0.01963394,  0.        , -0.05991778,  0.        ,  0.1379822 ,\n",
       "        0.01141614])"
      ]
     },
     "execution_count": 82,
     "metadata": {},
     "output_type": "execute_result"
    }
   ],
   "source": [
    "diab_rand_theta"
   ]
  },
  {
   "cell_type": "markdown",
   "metadata": {},
   "source": [
    "'Greedy' index selection"
   ]
  },
  {
   "cell_type": "code",
   "execution_count": 83,
   "metadata": {},
   "outputs": [
    {
     "data": {
      "text/plain": [
       "array([ 0.89221356,  0.        , -0.04742073,  0.14476481,  0.0788673 ,\n",
       "       -0.01958458,  0.        , -0.0599571 ,  0.        ,  0.13793761,\n",
       "        0.01141546])"
      ]
     },
     "execution_count": 83,
     "metadata": {},
     "output_type": "execute_result"
    }
   ],
   "source": [
    "diab_greedy_theta"
   ]
  },
  {
   "cell_type": "markdown",
   "metadata": {},
   "source": [
    "Standard deviation for coordinate-descent results"
   ]
  },
  {
   "cell_type": "code",
   "execution_count": 85,
   "metadata": {},
   "outputs": [
    {
     "data": {
      "text/plain": [
       "array([0.00000000e+00, 0.00000000e+00, 1.14952976e-05, 6.50708503e-06,\n",
       "       7.42290150e-06, 2.10297398e-05, 0.00000000e+00, 1.81946005e-05,\n",
       "       0.00000000e+00, 1.85822394e-05, 3.91308915e-06])"
      ]
     },
     "execution_count": 85,
     "metadata": {},
     "output_type": "execute_result"
    }
   ],
   "source": [
    "diab_std = np.std(np.array([diab_cyclic_theta, diab_rand_theta, diab_greedy_theta]), axis=0)\n",
    "diab_std"
   ]
  },
  {
   "cell_type": "markdown",
   "metadata": {},
   "source": [
    "Mean for coordinate-descent results"
   ]
  },
  {
   "cell_type": "code",
   "execution_count": 86,
   "metadata": {},
   "outputs": [
    {
     "data": {
      "text/plain": [
       "array([ 0.89221356,  0.        , -0.04741325,  0.14476787,  0.07885796,\n",
       "       -0.01960501,  0.        , -0.0599435 ,  0.        ,  0.13795727,\n",
       "        0.01141856])"
      ]
     },
     "execution_count": 86,
     "metadata": {},
     "output_type": "execute_result"
    }
   ],
   "source": [
    "diab_mean = np.mean(np.array([diab_cyclic_theta, diab_rand_theta, diab_greedy_theta]), axis=0)\n",
    "diab_mean"
   ]
  },
  {
   "cell_type": "markdown",
   "metadata": {},
   "source": [
    "The difference between mean coordinate descent results and sklearn Lasso results"
   ]
  },
  {
   "cell_type": "code",
   "execution_count": 88,
   "metadata": {},
   "outputs": [
    {
     "data": {
      "text/plain": [
       "array([0.84977529, 0.        , 0.02153515, 0.00201772, 0.01106671,\n",
       "       0.01960501, 0.        , 0.00906048, 0.        , 0.01201651,\n",
       "       0.00979699])"
      ]
     },
     "execution_count": 88,
     "metadata": {},
     "output_type": "execute_result"
    }
   ],
   "source": [
    "diab_diff = np.abs(diab_mean - diab_sklearn_theta)\n",
    "diab_diff"
   ]
  },
  {
   "cell_type": "markdown",
   "metadata": {},
   "source": [
    "*******************"
   ]
  },
  {
   "cell_type": "markdown",
   "metadata": {},
   "source": [
    "## 2. Boston dataset"
   ]
  },
  {
   "cell_type": "markdown",
   "metadata": {},
   "source": [
    "### 2a. Greedy index selection method"
   ]
  },
  {
   "cell_type": "code",
   "execution_count": 17,
   "metadata": {},
   "outputs": [
    {
     "name": "stderr",
     "output_type": "stream",
     "text": [
      "  6%|▌         | 62/1000 [00:00<00:00, 959.31it/s]\n"
     ]
    }
   ],
   "source": [
    "lambda_ = 0.05\n",
    "cd_bost = CoordinateDescent(lambda_ = lambda_)\n",
    "cd_bost.fit(X_bost, y_bost, tol = 10e-4, method='greedy')"
   ]
  },
  {
   "cell_type": "code",
   "execution_count": 18,
   "metadata": {},
   "outputs": [
    {
     "data": {
      "application/vnd.plotly.v1+json": {
       "config": {
        "plotlyServerURL": "https://plot.ly"
       },
       "data": [
        {
         "legendgroup": "",
         "line": {
          "color": "#636efa",
          "dash": "solid"
         },
         "marker": {
          "symbol": "circle"
         },
         "mode": "markers+lines",
         "name": "",
         "orientation": "v",
         "showlegend": false,
         "type": "scatter",
         "x": [
          0,
          1,
          2,
          3,
          4,
          5,
          6,
          7,
          8,
          9,
          10,
          11,
          12,
          13,
          14,
          15,
          16,
          17,
          18,
          19,
          20,
          21,
          22,
          23,
          24,
          25,
          26,
          27,
          28,
          29,
          30,
          31,
          32,
          33,
          34,
          35,
          36,
          37,
          38,
          39,
          40,
          41,
          42,
          43,
          44,
          45,
          46,
          47,
          48,
          49,
          50,
          51,
          52,
          53,
          54,
          55,
          56,
          57,
          58,
          59,
          60,
          61,
          62
         ],
         "xaxis": "x",
         "y": [
          0.9999999999999999,
          0.5653213803236151,
          0.1449692181454533,
          0.12955656664809062,
          0.11784046466337747,
          0.1155354484031732,
          0.10906484476359884,
          0.10783558991460483,
          0.10414321780352609,
          0.1031641269953691,
          0.10622391467692169,
          0.10403161069750466,
          0.10303476400428847,
          0.1005039126312995,
          0.0997896079377786,
          0.09802679981809004,
          0.09758151408458074,
          0.0995677340337254,
          0.0981671952524732,
          0.09775848915746585,
          0.09643784679585818,
          0.09613824580883959,
          0.0951816431155422,
          0.09611433817952857,
          0.09544968916049558,
          0.09466064037706372,
          0.09449042099072974,
          0.09568120805071131,
          0.09483462853307094,
          0.09466829251260389,
          0.09394627788631518,
          0.09381440799532577,
          0.09328250114408812,
          0.09319454252151393,
          0.09395088106279864,
          0.09348170293154111,
          0.0934125309429279,
          0.09300708810871772,
          0.09351790820080494,
          0.09333270308772397,
          0.09328218076214004,
          0.0929464401400234,
          0.09289767106602553,
          0.09264682563006188,
          0.092612787798079,
          0.09308631318010971,
          0.09328623310022394,
          0.09326010138261978,
          0.09296865279268839,
          0.09293522196735757,
          0.09274987319019809,
          0.092994188188025,
          0.09291100065855393,
          0.09289431072005064,
          0.09274029273807077,
          0.09272118944710174,
          0.09298877083265689,
          0.09285080843990755,
          0.09283804368352704,
          0.0927146705374465,
          0.09269984610326909,
          0.09260680406215256,
          0.09272167955709296
         ],
         "yaxis": "y"
        }
       ],
       "layout": {
        "hovermode": "x",
        "legend": {
         "tracegroupgap": 0
        },
        "margin": {
         "t": 60
        },
        "template": {
         "data": {
          "bar": [
           {
            "error_x": {
             "color": "#2a3f5f"
            },
            "error_y": {
             "color": "#2a3f5f"
            },
            "marker": {
             "line": {
              "color": "#E5ECF6",
              "width": 0.5
             },
             "pattern": {
              "fillmode": "overlay",
              "size": 10,
              "solidity": 0.2
             }
            },
            "type": "bar"
           }
          ],
          "barpolar": [
           {
            "marker": {
             "line": {
              "color": "#E5ECF6",
              "width": 0.5
             },
             "pattern": {
              "fillmode": "overlay",
              "size": 10,
              "solidity": 0.2
             }
            },
            "type": "barpolar"
           }
          ],
          "carpet": [
           {
            "aaxis": {
             "endlinecolor": "#2a3f5f",
             "gridcolor": "white",
             "linecolor": "white",
             "minorgridcolor": "white",
             "startlinecolor": "#2a3f5f"
            },
            "baxis": {
             "endlinecolor": "#2a3f5f",
             "gridcolor": "white",
             "linecolor": "white",
             "minorgridcolor": "white",
             "startlinecolor": "#2a3f5f"
            },
            "type": "carpet"
           }
          ],
          "choropleth": [
           {
            "colorbar": {
             "outlinewidth": 0,
             "ticks": ""
            },
            "type": "choropleth"
           }
          ],
          "contour": [
           {
            "colorbar": {
             "outlinewidth": 0,
             "ticks": ""
            },
            "colorscale": [
             [
              0,
              "#0d0887"
             ],
             [
              0.1111111111111111,
              "#46039f"
             ],
             [
              0.2222222222222222,
              "#7201a8"
             ],
             [
              0.3333333333333333,
              "#9c179e"
             ],
             [
              0.4444444444444444,
              "#bd3786"
             ],
             [
              0.5555555555555556,
              "#d8576b"
             ],
             [
              0.6666666666666666,
              "#ed7953"
             ],
             [
              0.7777777777777778,
              "#fb9f3a"
             ],
             [
              0.8888888888888888,
              "#fdca26"
             ],
             [
              1,
              "#f0f921"
             ]
            ],
            "type": "contour"
           }
          ],
          "contourcarpet": [
           {
            "colorbar": {
             "outlinewidth": 0,
             "ticks": ""
            },
            "type": "contourcarpet"
           }
          ],
          "heatmap": [
           {
            "colorbar": {
             "outlinewidth": 0,
             "ticks": ""
            },
            "colorscale": [
             [
              0,
              "#0d0887"
             ],
             [
              0.1111111111111111,
              "#46039f"
             ],
             [
              0.2222222222222222,
              "#7201a8"
             ],
             [
              0.3333333333333333,
              "#9c179e"
             ],
             [
              0.4444444444444444,
              "#bd3786"
             ],
             [
              0.5555555555555556,
              "#d8576b"
             ],
             [
              0.6666666666666666,
              "#ed7953"
             ],
             [
              0.7777777777777778,
              "#fb9f3a"
             ],
             [
              0.8888888888888888,
              "#fdca26"
             ],
             [
              1,
              "#f0f921"
             ]
            ],
            "type": "heatmap"
           }
          ],
          "heatmapgl": [
           {
            "colorbar": {
             "outlinewidth": 0,
             "ticks": ""
            },
            "colorscale": [
             [
              0,
              "#0d0887"
             ],
             [
              0.1111111111111111,
              "#46039f"
             ],
             [
              0.2222222222222222,
              "#7201a8"
             ],
             [
              0.3333333333333333,
              "#9c179e"
             ],
             [
              0.4444444444444444,
              "#bd3786"
             ],
             [
              0.5555555555555556,
              "#d8576b"
             ],
             [
              0.6666666666666666,
              "#ed7953"
             ],
             [
              0.7777777777777778,
              "#fb9f3a"
             ],
             [
              0.8888888888888888,
              "#fdca26"
             ],
             [
              1,
              "#f0f921"
             ]
            ],
            "type": "heatmapgl"
           }
          ],
          "histogram": [
           {
            "marker": {
             "pattern": {
              "fillmode": "overlay",
              "size": 10,
              "solidity": 0.2
             }
            },
            "type": "histogram"
           }
          ],
          "histogram2d": [
           {
            "colorbar": {
             "outlinewidth": 0,
             "ticks": ""
            },
            "colorscale": [
             [
              0,
              "#0d0887"
             ],
             [
              0.1111111111111111,
              "#46039f"
             ],
             [
              0.2222222222222222,
              "#7201a8"
             ],
             [
              0.3333333333333333,
              "#9c179e"
             ],
             [
              0.4444444444444444,
              "#bd3786"
             ],
             [
              0.5555555555555556,
              "#d8576b"
             ],
             [
              0.6666666666666666,
              "#ed7953"
             ],
             [
              0.7777777777777778,
              "#fb9f3a"
             ],
             [
              0.8888888888888888,
              "#fdca26"
             ],
             [
              1,
              "#f0f921"
             ]
            ],
            "type": "histogram2d"
           }
          ],
          "histogram2dcontour": [
           {
            "colorbar": {
             "outlinewidth": 0,
             "ticks": ""
            },
            "colorscale": [
             [
              0,
              "#0d0887"
             ],
             [
              0.1111111111111111,
              "#46039f"
             ],
             [
              0.2222222222222222,
              "#7201a8"
             ],
             [
              0.3333333333333333,
              "#9c179e"
             ],
             [
              0.4444444444444444,
              "#bd3786"
             ],
             [
              0.5555555555555556,
              "#d8576b"
             ],
             [
              0.6666666666666666,
              "#ed7953"
             ],
             [
              0.7777777777777778,
              "#fb9f3a"
             ],
             [
              0.8888888888888888,
              "#fdca26"
             ],
             [
              1,
              "#f0f921"
             ]
            ],
            "type": "histogram2dcontour"
           }
          ],
          "mesh3d": [
           {
            "colorbar": {
             "outlinewidth": 0,
             "ticks": ""
            },
            "type": "mesh3d"
           }
          ],
          "parcoords": [
           {
            "line": {
             "colorbar": {
              "outlinewidth": 0,
              "ticks": ""
             }
            },
            "type": "parcoords"
           }
          ],
          "pie": [
           {
            "automargin": true,
            "type": "pie"
           }
          ],
          "scatter": [
           {
            "marker": {
             "colorbar": {
              "outlinewidth": 0,
              "ticks": ""
             }
            },
            "type": "scatter"
           }
          ],
          "scatter3d": [
           {
            "line": {
             "colorbar": {
              "outlinewidth": 0,
              "ticks": ""
             }
            },
            "marker": {
             "colorbar": {
              "outlinewidth": 0,
              "ticks": ""
             }
            },
            "type": "scatter3d"
           }
          ],
          "scattercarpet": [
           {
            "marker": {
             "colorbar": {
              "outlinewidth": 0,
              "ticks": ""
             }
            },
            "type": "scattercarpet"
           }
          ],
          "scattergeo": [
           {
            "marker": {
             "colorbar": {
              "outlinewidth": 0,
              "ticks": ""
             }
            },
            "type": "scattergeo"
           }
          ],
          "scattergl": [
           {
            "marker": {
             "colorbar": {
              "outlinewidth": 0,
              "ticks": ""
             }
            },
            "type": "scattergl"
           }
          ],
          "scattermapbox": [
           {
            "marker": {
             "colorbar": {
              "outlinewidth": 0,
              "ticks": ""
             }
            },
            "type": "scattermapbox"
           }
          ],
          "scatterpolar": [
           {
            "marker": {
             "colorbar": {
              "outlinewidth": 0,
              "ticks": ""
             }
            },
            "type": "scatterpolar"
           }
          ],
          "scatterpolargl": [
           {
            "marker": {
             "colorbar": {
              "outlinewidth": 0,
              "ticks": ""
             }
            },
            "type": "scatterpolargl"
           }
          ],
          "scatterternary": [
           {
            "marker": {
             "colorbar": {
              "outlinewidth": 0,
              "ticks": ""
             }
            },
            "type": "scatterternary"
           }
          ],
          "surface": [
           {
            "colorbar": {
             "outlinewidth": 0,
             "ticks": ""
            },
            "colorscale": [
             [
              0,
              "#0d0887"
             ],
             [
              0.1111111111111111,
              "#46039f"
             ],
             [
              0.2222222222222222,
              "#7201a8"
             ],
             [
              0.3333333333333333,
              "#9c179e"
             ],
             [
              0.4444444444444444,
              "#bd3786"
             ],
             [
              0.5555555555555556,
              "#d8576b"
             ],
             [
              0.6666666666666666,
              "#ed7953"
             ],
             [
              0.7777777777777778,
              "#fb9f3a"
             ],
             [
              0.8888888888888888,
              "#fdca26"
             ],
             [
              1,
              "#f0f921"
             ]
            ],
            "type": "surface"
           }
          ],
          "table": [
           {
            "cells": {
             "fill": {
              "color": "#EBF0F8"
             },
             "line": {
              "color": "white"
             }
            },
            "header": {
             "fill": {
              "color": "#C8D4E3"
             },
             "line": {
              "color": "white"
             }
            },
            "type": "table"
           }
          ]
         },
         "layout": {
          "annotationdefaults": {
           "arrowcolor": "#2a3f5f",
           "arrowhead": 0,
           "arrowwidth": 1
          },
          "autotypenumbers": "strict",
          "coloraxis": {
           "colorbar": {
            "outlinewidth": 0,
            "ticks": ""
           }
          },
          "colorscale": {
           "diverging": [
            [
             0,
             "#8e0152"
            ],
            [
             0.1,
             "#c51b7d"
            ],
            [
             0.2,
             "#de77ae"
            ],
            [
             0.3,
             "#f1b6da"
            ],
            [
             0.4,
             "#fde0ef"
            ],
            [
             0.5,
             "#f7f7f7"
            ],
            [
             0.6,
             "#e6f5d0"
            ],
            [
             0.7,
             "#b8e186"
            ],
            [
             0.8,
             "#7fbc41"
            ],
            [
             0.9,
             "#4d9221"
            ],
            [
             1,
             "#276419"
            ]
           ],
           "sequential": [
            [
             0,
             "#0d0887"
            ],
            [
             0.1111111111111111,
             "#46039f"
            ],
            [
             0.2222222222222222,
             "#7201a8"
            ],
            [
             0.3333333333333333,
             "#9c179e"
            ],
            [
             0.4444444444444444,
             "#bd3786"
            ],
            [
             0.5555555555555556,
             "#d8576b"
            ],
            [
             0.6666666666666666,
             "#ed7953"
            ],
            [
             0.7777777777777778,
             "#fb9f3a"
            ],
            [
             0.8888888888888888,
             "#fdca26"
            ],
            [
             1,
             "#f0f921"
            ]
           ],
           "sequentialminus": [
            [
             0,
             "#0d0887"
            ],
            [
             0.1111111111111111,
             "#46039f"
            ],
            [
             0.2222222222222222,
             "#7201a8"
            ],
            [
             0.3333333333333333,
             "#9c179e"
            ],
            [
             0.4444444444444444,
             "#bd3786"
            ],
            [
             0.5555555555555556,
             "#d8576b"
            ],
            [
             0.6666666666666666,
             "#ed7953"
            ],
            [
             0.7777777777777778,
             "#fb9f3a"
            ],
            [
             0.8888888888888888,
             "#fdca26"
            ],
            [
             1,
             "#f0f921"
            ]
           ]
          },
          "colorway": [
           "#636efa",
           "#EF553B",
           "#00cc96",
           "#ab63fa",
           "#FFA15A",
           "#19d3f3",
           "#FF6692",
           "#B6E880",
           "#FF97FF",
           "#FECB52"
          ],
          "font": {
           "color": "#2a3f5f"
          },
          "geo": {
           "bgcolor": "white",
           "lakecolor": "white",
           "landcolor": "#E5ECF6",
           "showlakes": true,
           "showland": true,
           "subunitcolor": "white"
          },
          "hoverlabel": {
           "align": "left"
          },
          "hovermode": "closest",
          "mapbox": {
           "style": "light"
          },
          "paper_bgcolor": "white",
          "plot_bgcolor": "#E5ECF6",
          "polar": {
           "angularaxis": {
            "gridcolor": "white",
            "linecolor": "white",
            "ticks": ""
           },
           "bgcolor": "#E5ECF6",
           "radialaxis": {
            "gridcolor": "white",
            "linecolor": "white",
            "ticks": ""
           }
          },
          "scene": {
           "xaxis": {
            "backgroundcolor": "#E5ECF6",
            "gridcolor": "white",
            "gridwidth": 2,
            "linecolor": "white",
            "showbackground": true,
            "ticks": "",
            "zerolinecolor": "white"
           },
           "yaxis": {
            "backgroundcolor": "#E5ECF6",
            "gridcolor": "white",
            "gridwidth": 2,
            "linecolor": "white",
            "showbackground": true,
            "ticks": "",
            "zerolinecolor": "white"
           },
           "zaxis": {
            "backgroundcolor": "#E5ECF6",
            "gridcolor": "white",
            "gridwidth": 2,
            "linecolor": "white",
            "showbackground": true,
            "ticks": "",
            "zerolinecolor": "white"
           }
          },
          "shapedefaults": {
           "line": {
            "color": "#2a3f5f"
           }
          },
          "ternary": {
           "aaxis": {
            "gridcolor": "white",
            "linecolor": "white",
            "ticks": ""
           },
           "baxis": {
            "gridcolor": "white",
            "linecolor": "white",
            "ticks": ""
           },
           "bgcolor": "#E5ECF6",
           "caxis": {
            "gridcolor": "white",
            "linecolor": "white",
            "ticks": ""
           }
          },
          "title": {
           "x": 0.05
          },
          "xaxis": {
           "automargin": true,
           "gridcolor": "white",
           "linecolor": "white",
           "ticks": "",
           "title": {
            "standoff": 15
           },
           "zerolinecolor": "white",
           "zerolinewidth": 2
          },
          "yaxis": {
           "automargin": true,
           "gridcolor": "white",
           "linecolor": "white",
           "ticks": "",
           "title": {
            "standoff": 15
           },
           "zerolinecolor": "white",
           "zerolinewidth": 2
          }
         }
        },
        "title": {
         "text": "Cost function values for training iterations"
        },
        "xaxis": {
         "anchor": "y",
         "domain": [
          0,
          1
         ],
         "title": {
          "text": "iteration"
         }
        },
        "yaxis": {
         "anchor": "x",
         "domain": [
          0,
          1
         ],
         "title": {
          "text": "cost"
         }
        }
       }
      }
     },
     "metadata": {},
     "output_type": "display_data"
    }
   ],
   "source": [
    "visualize_cost(cd_bost.costs)"
   ]
  },
  {
   "cell_type": "markdown",
   "metadata": {},
   "source": [
    "Lasso Feature Selection"
   ]
  },
  {
   "cell_type": "code",
   "execution_count": 7,
   "metadata": {},
   "outputs": [
    {
     "data": {
      "text/plain": [
       "array([ 1.21124026, -0.01699858,  0.01325271,  0.        ,  0.00638783,\n",
       "        0.        ,  0.        ,  0.        ,  0.        ,  0.        ,\n",
       "        0.        ,  0.        ,  0.        , -0.32929425])"
      ]
     },
     "execution_count": 7,
     "metadata": {},
     "output_type": "execute_result"
    }
   ],
   "source": [
    "bost_greedy_theta = cd_bost.theta\n",
    "bost_greedy_theta"
   ]
  },
  {
   "cell_type": "markdown",
   "metadata": {},
   "source": [
    "### 2b. Cyclic index selection method"
   ]
  },
  {
   "cell_type": "code",
   "execution_count": 21,
   "metadata": {},
   "outputs": [
    {
     "name": "stderr",
     "output_type": "stream",
     "text": [
      " 34%|███▎      | 336/1000 [00:00<00:00, 5615.09it/s]\n"
     ]
    }
   ],
   "source": [
    "lambda_ = 0.05\n",
    "cd_bost = CoordinateDescent(lambda_ = lambda_)\n",
    "cd_bost.fit(X_bost, y_bost, tol = 10e-4, method='cyclic')"
   ]
  },
  {
   "cell_type": "code",
   "execution_count": 22,
   "metadata": {},
   "outputs": [
    {
     "data": {
      "application/vnd.plotly.v1+json": {
       "config": {
        "plotlyServerURL": "https://plot.ly"
       },
       "data": [
        {
         "legendgroup": "",
         "line": {
          "color": "#636efa",
          "dash": "solid"
         },
         "marker": {
          "symbol": "circle"
         },
         "mode": "markers+lines",
         "name": "",
         "orientation": "v",
         "showlegend": false,
         "type": "scatter",
         "x": [
          0,
          1,
          2,
          3,
          4,
          5,
          6,
          7,
          8,
          9,
          10,
          11,
          12,
          13,
          14,
          15,
          16,
          17,
          18,
          19,
          20,
          21,
          22,
          23,
          24,
          25,
          26,
          27,
          28,
          29,
          30,
          31,
          32,
          33,
          34,
          35,
          36,
          37,
          38,
          39,
          40,
          41,
          42,
          43,
          44,
          45,
          46,
          47,
          48,
          49,
          50,
          51,
          52,
          53,
          54,
          55,
          56,
          57,
          58,
          59,
          60,
          61,
          62,
          63,
          64,
          65,
          66,
          67,
          68,
          69,
          70,
          71,
          72,
          73,
          74,
          75,
          76,
          77,
          78,
          79,
          80,
          81,
          82,
          83,
          84,
          85,
          86,
          87,
          88,
          89,
          90,
          91,
          92,
          93,
          94,
          95,
          96,
          97,
          98,
          99,
          100,
          101,
          102,
          103,
          104,
          105,
          106,
          107,
          108,
          109,
          110,
          111,
          112,
          113,
          114,
          115,
          116,
          117,
          118,
          119,
          120,
          121,
          122,
          123,
          124,
          125,
          126,
          127,
          128,
          129,
          130,
          131,
          132,
          133,
          134,
          135,
          136,
          137,
          138,
          139,
          140,
          141,
          142,
          143,
          144,
          145,
          146,
          147,
          148,
          149,
          150,
          151,
          152,
          153,
          154,
          155,
          156,
          157,
          158,
          159,
          160,
          161,
          162,
          163,
          164,
          165,
          166,
          167,
          168,
          169,
          170,
          171,
          172,
          173,
          174,
          175,
          176,
          177,
          178,
          179,
          180,
          181,
          182,
          183,
          184,
          185,
          186,
          187,
          188,
          189,
          190,
          191,
          192,
          193,
          194,
          195,
          196,
          197,
          198,
          199,
          200,
          201,
          202,
          203,
          204,
          205,
          206,
          207,
          208,
          209,
          210,
          211,
          212,
          213,
          214,
          215,
          216,
          217,
          218,
          219,
          220,
          221,
          222,
          223,
          224,
          225,
          226,
          227,
          228,
          229,
          230,
          231,
          232,
          233,
          234,
          235,
          236,
          237,
          238,
          239,
          240,
          241,
          242,
          243,
          244,
          245,
          246,
          247,
          248,
          249,
          250,
          251,
          252,
          253,
          254,
          255,
          256,
          257,
          258,
          259,
          260,
          261,
          262,
          263,
          264,
          265,
          266,
          267,
          268,
          269,
          270,
          271,
          272,
          273,
          274,
          275,
          276,
          277,
          278,
          279,
          280,
          281,
          282,
          283,
          284,
          285,
          286,
          287,
          288,
          289,
          290,
          291,
          292,
          293,
          294,
          295,
          296,
          297,
          298,
          299,
          300,
          301,
          302,
          303,
          304,
          305,
          306,
          307,
          308,
          309,
          310,
          311,
          312,
          313,
          314,
          315,
          316,
          317,
          318,
          319,
          320,
          321,
          322,
          323,
          324,
          325,
          326,
          327,
          328,
          329,
          330,
          331,
          332,
          333,
          334,
          335,
          336
         ],
         "xaxis": "x",
         "y": [
          0.9999999999999999,
          0.1425652211184763,
          0.13105682007208017,
          0.12214641287121715,
          0.12156450791431185,
          0.12058157734804986,
          0.12058157734804986,
          0.12058157734804986,
          0.12058157734804986,
          0.12058157734804986,
          0.12058157734804986,
          0.12058157734804986,
          0.12058157734804986,
          0.12058157734804986,
          0.11568529328925185,
          0.11333936260434004,
          0.1137980998897341,
          0.11423907841600288,
          0.11391221875858609,
          0.11386506328462537,
          0.11391221875858609,
          0.11391221875858609,
          0.11391221875858609,
          0.11391221875858609,
          0.11391221875858609,
          0.11391221875858609,
          0.11391221875858609,
          0.11391221875858609,
          0.1101491081579607,
          0.10844920132365604,
          0.10883632393442437,
          0.10921065415309603,
          0.10910488991567158,
          0.10923058196365465,
          0.10923058196365465,
          0.10923058196365465,
          0.10923058196365465,
          0.10923058196365465,
          0.10923058196365465,
          0.10923058196365465,
          0.10923058196365465,
          0.10923058196365465,
          0.10602020819062372,
          0.10480183351526529,
          0.10513104419838673,
          0.10545001587223439,
          0.10540522513431076,
          0.10552198005748932,
          0.10552198005748932,
          0.10552198005748932,
          0.10552198005748932,
          0.10552198005748932,
          0.10552198005748932,
          0.10552198005748932,
          0.10552198005748932,
          0.10552198005748932,
          0.10280045088216325,
          0.1019436646191644,
          0.10223112423465905,
          0.10250214779427022,
          0.10264690441470022,
          0.10272731253791682,
          0.10272731253791682,
          0.10272731253791682,
          0.10272731253791682,
          0.10272731253791682,
          0.10272731253791682,
          0.10272731253791682,
          0.10272731253791682,
          0.10272731253791682,
          0.10029441909529016,
          0.09970176575377576,
          0.09994766316580758,
          0.1001683678801759,
          0.10037570791001856,
          0.10043943989514534,
          0.10043943989514534,
          0.10043943989514534,
          0.10043943989514534,
          0.10043943989514534,
          0.10043943989514534,
          0.10043943989514534,
          0.10043943989514534,
          0.10043943989514534,
          0.0983536166082965,
          0.0979521837368511,
          0.09816264125825533,
          0.09834047186118051,
          0.09858846413508071,
          0.09864366307505497,
          0.09864366307505497,
          0.09864366307505497,
          0.09864366307505497,
          0.09864366307505497,
          0.09864366307505497,
          0.09864366307505497,
          0.09864366307505497,
          0.09864366307505497,
          0.09686888477171704,
          0.09660228216211816,
          0.09678005416216558,
          0.09692007611909095,
          0.0971042023302212,
          0.09707901077252397,
          0.0971042023302212,
          0.0971042023302212,
          0.0971042023302212,
          0.0971042023302212,
          0.0971042023302212,
          0.0971042023302212,
          0.0971042023302212,
          0.0971042023302212,
          0.09573412777623327,
          0.0955598478281591,
          0.09571299893939975,
          0.09582772342073373,
          0.09582772342073373,
          0.09582994889451502,
          0.09582772342073373,
          0.09582772342073373,
          0.09582772342073373,
          0.09582772342073373,
          0.09582772342073373,
          0.09582772342073373,
          0.09582772342073373,
          0.09582772342073373,
          0.09502376357309839,
          0.09490413686783747,
          0.09503330780100078,
          0.09514077014305934,
          0.09514077014305934,
          0.09513112026963813,
          0.09514077014305934,
          0.09514077014305934,
          0.09514077014305934,
          0.09514077014305934,
          0.09514077014305934,
          0.09514077014305934,
          0.09514077014305934,
          0.09514077014305934,
          0.09450091585653143,
          0.09441755784766627,
          0.09452345073283966,
          0.094614962430043,
          0.094614962430043,
          0.09459442786613743,
          0.094614962430043,
          0.094614962430043,
          0.094614962430043,
          0.094614962430043,
          0.094614962430043,
          0.094614962430043,
          0.094614962430043,
          0.094614962430043,
          0.09409895423342204,
          0.09404085776181623,
          0.09412890789985097,
          0.09420618384553844,
          0.09420618384553844,
          0.094176234344415,
          0.09420618384553844,
          0.09420618384553844,
          0.09420618384553844,
          0.09420618384553844,
          0.09420618384553844,
          0.09420618384553844,
          0.09420618384553844,
          0.09420618384553844,
          0.09378691462543906,
          0.09374642131298544,
          0.09382003642057908,
          0.09388503351125818,
          0.09388503351125818,
          0.0938471121264997,
          0.09388503351125818,
          0.09388503351125818,
          0.09388503351125818,
          0.09388503351125818,
          0.09388503351125818,
          0.09388503351125818,
          0.09388503351125818,
          0.09388503351125818,
          0.09354266773649456,
          0.09351444302307357,
          0.09357609814070851,
          0.09363065360282072,
          0.09363065360282072,
          0.09358603864659806,
          0.09363065360282072,
          0.09363065360282072,
          0.09363065360282072,
          0.09363065360282072,
          0.09363065360282072,
          0.09363065360282072,
          0.09363065360282072,
          0.09363065360282072,
          0.09335004942571208,
          0.09333037595641808,
          0.09338202938114697,
          0.09333542610177686,
          0.09338202938114697,
          0.09343473255318312,
          0.09343473255318312,
          0.09343473255318312,
          0.09343473255318312,
          0.09343473255318312,
          0.09343473255318312,
          0.09343473255318312,
          0.09343473255318312,
          0.09343473255318312,
          0.09320601465805427,
          0.09319342021984121,
          0.09314466084972944,
          0.09326906517741129,
          0.09326906517741129,
          0.09327144039436745,
          0.09326906517741129,
          0.09326906517741129,
          0.09326906517741129,
          0.09326906517741129,
          0.09326906517741129,
          0.09326906517741129,
          0.09326906517741129,
          0.09326906517741129,
          0.09312235127162002,
          0.09311270421183707,
          0.09317550178151744,
          0.093134911540951,
          0.09317550178151744,
          0.09316195553433722,
          0.09317550178151744,
          0.09317550178151744,
          0.09317550178151744,
          0.09317550178151744,
          0.09317550178151744,
          0.09317550178151744,
          0.09317550178151744,
          0.09317550178151744,
          0.09299355501527494,
          0.09298746457919622,
          0.0929426418721631,
          0.09304668239745484,
          0.09304668239745484,
          0.09304010494077426,
          0.09304668239745484,
          0.09304668239745484,
          0.09304668239745484,
          0.09304668239745484,
          0.09304668239745484,
          0.09304668239745484,
          0.09304668239745484,
          0.09304668239745484,
          0.09294766763312412,
          0.09294285526573637,
          0.09299608676015608,
          0.09296682780958253,
          0.09299608676015608,
          0.09297723216782017,
          0.09299608676015608,
          0.09299608676015608,
          0.09299608676015608,
          0.09299608676015608,
          0.09299608676015608,
          0.09299608676015608,
          0.09299608676015608,
          0.09299608676015608,
          0.09286467786949859,
          0.09286158605424508,
          0.09282759529638893,
          0.09281875904141003,
          0.09286158605424508,
          0.09284508120208808,
          0.09286158605424508,
          0.09286158605424508,
          0.09286158605424508,
          0.09286158605424508,
          0.09286158605424508,
          0.09286158605424508,
          0.09286158605424508,
          0.09286158605424508,
          0.09278265612970739,
          0.09278087598181048,
          0.09273108795567672,
          0.09283637482054465,
          0.09283637482054465,
          0.09282235756741324,
          0.09283637482054465,
          0.09283637482054465,
          0.09283637482054465,
          0.09283637482054465,
          0.09283637482054465,
          0.09283637482054465,
          0.09283637482054465,
          0.09283637482054465,
          0.09288315395647156,
          0.09283637482054465,
          0.0928853803002869,
          0.09288518861927608,
          0.0928853803002869,
          0.09286875066125377,
          0.0928853803002869,
          0.0928853803002869,
          0.0928853803002869,
          0.0928853803002869,
          0.0928853803002869,
          0.0928853803002869,
          0.0928853803002869,
          0.0928853803002869,
          0.09280921190554298,
          0.09280725457793002,
          0.09279413049001778,
          0.09279116052417545,
          0.09280725457793002,
          0.09278728532268944,
          0.09280725457793002,
          0.09280725457793002,
          0.09280725457793002,
          0.09280725457793002,
          0.09280725457793002,
          0.09280725457793002,
          0.09280725457793002,
          0.09280725457793002,
          0.09274483499747237,
          0.09274370804377428,
          0.09271801477465569,
          0.09271650519765023,
          0.09274370804377428,
          0.09272218167409411,
          0.09274370804377428,
          0.09274370804377428,
          0.09274370804377428,
          0.09274370804377428,
          0.09274370804377428,
          0.09274370804377428,
          0.09274370804377428,
          0.09274370804377428,
          0.09278994440822985
         ],
         "yaxis": "y"
        }
       ],
       "layout": {
        "hovermode": "x",
        "legend": {
         "tracegroupgap": 0
        },
        "margin": {
         "t": 60
        },
        "template": {
         "data": {
          "bar": [
           {
            "error_x": {
             "color": "#2a3f5f"
            },
            "error_y": {
             "color": "#2a3f5f"
            },
            "marker": {
             "line": {
              "color": "#E5ECF6",
              "width": 0.5
             },
             "pattern": {
              "fillmode": "overlay",
              "size": 10,
              "solidity": 0.2
             }
            },
            "type": "bar"
           }
          ],
          "barpolar": [
           {
            "marker": {
             "line": {
              "color": "#E5ECF6",
              "width": 0.5
             },
             "pattern": {
              "fillmode": "overlay",
              "size": 10,
              "solidity": 0.2
             }
            },
            "type": "barpolar"
           }
          ],
          "carpet": [
           {
            "aaxis": {
             "endlinecolor": "#2a3f5f",
             "gridcolor": "white",
             "linecolor": "white",
             "minorgridcolor": "white",
             "startlinecolor": "#2a3f5f"
            },
            "baxis": {
             "endlinecolor": "#2a3f5f",
             "gridcolor": "white",
             "linecolor": "white",
             "minorgridcolor": "white",
             "startlinecolor": "#2a3f5f"
            },
            "type": "carpet"
           }
          ],
          "choropleth": [
           {
            "colorbar": {
             "outlinewidth": 0,
             "ticks": ""
            },
            "type": "choropleth"
           }
          ],
          "contour": [
           {
            "colorbar": {
             "outlinewidth": 0,
             "ticks": ""
            },
            "colorscale": [
             [
              0,
              "#0d0887"
             ],
             [
              0.1111111111111111,
              "#46039f"
             ],
             [
              0.2222222222222222,
              "#7201a8"
             ],
             [
              0.3333333333333333,
              "#9c179e"
             ],
             [
              0.4444444444444444,
              "#bd3786"
             ],
             [
              0.5555555555555556,
              "#d8576b"
             ],
             [
              0.6666666666666666,
              "#ed7953"
             ],
             [
              0.7777777777777778,
              "#fb9f3a"
             ],
             [
              0.8888888888888888,
              "#fdca26"
             ],
             [
              1,
              "#f0f921"
             ]
            ],
            "type": "contour"
           }
          ],
          "contourcarpet": [
           {
            "colorbar": {
             "outlinewidth": 0,
             "ticks": ""
            },
            "type": "contourcarpet"
           }
          ],
          "heatmap": [
           {
            "colorbar": {
             "outlinewidth": 0,
             "ticks": ""
            },
            "colorscale": [
             [
              0,
              "#0d0887"
             ],
             [
              0.1111111111111111,
              "#46039f"
             ],
             [
              0.2222222222222222,
              "#7201a8"
             ],
             [
              0.3333333333333333,
              "#9c179e"
             ],
             [
              0.4444444444444444,
              "#bd3786"
             ],
             [
              0.5555555555555556,
              "#d8576b"
             ],
             [
              0.6666666666666666,
              "#ed7953"
             ],
             [
              0.7777777777777778,
              "#fb9f3a"
             ],
             [
              0.8888888888888888,
              "#fdca26"
             ],
             [
              1,
              "#f0f921"
             ]
            ],
            "type": "heatmap"
           }
          ],
          "heatmapgl": [
           {
            "colorbar": {
             "outlinewidth": 0,
             "ticks": ""
            },
            "colorscale": [
             [
              0,
              "#0d0887"
             ],
             [
              0.1111111111111111,
              "#46039f"
             ],
             [
              0.2222222222222222,
              "#7201a8"
             ],
             [
              0.3333333333333333,
              "#9c179e"
             ],
             [
              0.4444444444444444,
              "#bd3786"
             ],
             [
              0.5555555555555556,
              "#d8576b"
             ],
             [
              0.6666666666666666,
              "#ed7953"
             ],
             [
              0.7777777777777778,
              "#fb9f3a"
             ],
             [
              0.8888888888888888,
              "#fdca26"
             ],
             [
              1,
              "#f0f921"
             ]
            ],
            "type": "heatmapgl"
           }
          ],
          "histogram": [
           {
            "marker": {
             "pattern": {
              "fillmode": "overlay",
              "size": 10,
              "solidity": 0.2
             }
            },
            "type": "histogram"
           }
          ],
          "histogram2d": [
           {
            "colorbar": {
             "outlinewidth": 0,
             "ticks": ""
            },
            "colorscale": [
             [
              0,
              "#0d0887"
             ],
             [
              0.1111111111111111,
              "#46039f"
             ],
             [
              0.2222222222222222,
              "#7201a8"
             ],
             [
              0.3333333333333333,
              "#9c179e"
             ],
             [
              0.4444444444444444,
              "#bd3786"
             ],
             [
              0.5555555555555556,
              "#d8576b"
             ],
             [
              0.6666666666666666,
              "#ed7953"
             ],
             [
              0.7777777777777778,
              "#fb9f3a"
             ],
             [
              0.8888888888888888,
              "#fdca26"
             ],
             [
              1,
              "#f0f921"
             ]
            ],
            "type": "histogram2d"
           }
          ],
          "histogram2dcontour": [
           {
            "colorbar": {
             "outlinewidth": 0,
             "ticks": ""
            },
            "colorscale": [
             [
              0,
              "#0d0887"
             ],
             [
              0.1111111111111111,
              "#46039f"
             ],
             [
              0.2222222222222222,
              "#7201a8"
             ],
             [
              0.3333333333333333,
              "#9c179e"
             ],
             [
              0.4444444444444444,
              "#bd3786"
             ],
             [
              0.5555555555555556,
              "#d8576b"
             ],
             [
              0.6666666666666666,
              "#ed7953"
             ],
             [
              0.7777777777777778,
              "#fb9f3a"
             ],
             [
              0.8888888888888888,
              "#fdca26"
             ],
             [
              1,
              "#f0f921"
             ]
            ],
            "type": "histogram2dcontour"
           }
          ],
          "mesh3d": [
           {
            "colorbar": {
             "outlinewidth": 0,
             "ticks": ""
            },
            "type": "mesh3d"
           }
          ],
          "parcoords": [
           {
            "line": {
             "colorbar": {
              "outlinewidth": 0,
              "ticks": ""
             }
            },
            "type": "parcoords"
           }
          ],
          "pie": [
           {
            "automargin": true,
            "type": "pie"
           }
          ],
          "scatter": [
           {
            "marker": {
             "colorbar": {
              "outlinewidth": 0,
              "ticks": ""
             }
            },
            "type": "scatter"
           }
          ],
          "scatter3d": [
           {
            "line": {
             "colorbar": {
              "outlinewidth": 0,
              "ticks": ""
             }
            },
            "marker": {
             "colorbar": {
              "outlinewidth": 0,
              "ticks": ""
             }
            },
            "type": "scatter3d"
           }
          ],
          "scattercarpet": [
           {
            "marker": {
             "colorbar": {
              "outlinewidth": 0,
              "ticks": ""
             }
            },
            "type": "scattercarpet"
           }
          ],
          "scattergeo": [
           {
            "marker": {
             "colorbar": {
              "outlinewidth": 0,
              "ticks": ""
             }
            },
            "type": "scattergeo"
           }
          ],
          "scattergl": [
           {
            "marker": {
             "colorbar": {
              "outlinewidth": 0,
              "ticks": ""
             }
            },
            "type": "scattergl"
           }
          ],
          "scattermapbox": [
           {
            "marker": {
             "colorbar": {
              "outlinewidth": 0,
              "ticks": ""
             }
            },
            "type": "scattermapbox"
           }
          ],
          "scatterpolar": [
           {
            "marker": {
             "colorbar": {
              "outlinewidth": 0,
              "ticks": ""
             }
            },
            "type": "scatterpolar"
           }
          ],
          "scatterpolargl": [
           {
            "marker": {
             "colorbar": {
              "outlinewidth": 0,
              "ticks": ""
             }
            },
            "type": "scatterpolargl"
           }
          ],
          "scatterternary": [
           {
            "marker": {
             "colorbar": {
              "outlinewidth": 0,
              "ticks": ""
             }
            },
            "type": "scatterternary"
           }
          ],
          "surface": [
           {
            "colorbar": {
             "outlinewidth": 0,
             "ticks": ""
            },
            "colorscale": [
             [
              0,
              "#0d0887"
             ],
             [
              0.1111111111111111,
              "#46039f"
             ],
             [
              0.2222222222222222,
              "#7201a8"
             ],
             [
              0.3333333333333333,
              "#9c179e"
             ],
             [
              0.4444444444444444,
              "#bd3786"
             ],
             [
              0.5555555555555556,
              "#d8576b"
             ],
             [
              0.6666666666666666,
              "#ed7953"
             ],
             [
              0.7777777777777778,
              "#fb9f3a"
             ],
             [
              0.8888888888888888,
              "#fdca26"
             ],
             [
              1,
              "#f0f921"
             ]
            ],
            "type": "surface"
           }
          ],
          "table": [
           {
            "cells": {
             "fill": {
              "color": "#EBF0F8"
             },
             "line": {
              "color": "white"
             }
            },
            "header": {
             "fill": {
              "color": "#C8D4E3"
             },
             "line": {
              "color": "white"
             }
            },
            "type": "table"
           }
          ]
         },
         "layout": {
          "annotationdefaults": {
           "arrowcolor": "#2a3f5f",
           "arrowhead": 0,
           "arrowwidth": 1
          },
          "autotypenumbers": "strict",
          "coloraxis": {
           "colorbar": {
            "outlinewidth": 0,
            "ticks": ""
           }
          },
          "colorscale": {
           "diverging": [
            [
             0,
             "#8e0152"
            ],
            [
             0.1,
             "#c51b7d"
            ],
            [
             0.2,
             "#de77ae"
            ],
            [
             0.3,
             "#f1b6da"
            ],
            [
             0.4,
             "#fde0ef"
            ],
            [
             0.5,
             "#f7f7f7"
            ],
            [
             0.6,
             "#e6f5d0"
            ],
            [
             0.7,
             "#b8e186"
            ],
            [
             0.8,
             "#7fbc41"
            ],
            [
             0.9,
             "#4d9221"
            ],
            [
             1,
             "#276419"
            ]
           ],
           "sequential": [
            [
             0,
             "#0d0887"
            ],
            [
             0.1111111111111111,
             "#46039f"
            ],
            [
             0.2222222222222222,
             "#7201a8"
            ],
            [
             0.3333333333333333,
             "#9c179e"
            ],
            [
             0.4444444444444444,
             "#bd3786"
            ],
            [
             0.5555555555555556,
             "#d8576b"
            ],
            [
             0.6666666666666666,
             "#ed7953"
            ],
            [
             0.7777777777777778,
             "#fb9f3a"
            ],
            [
             0.8888888888888888,
             "#fdca26"
            ],
            [
             1,
             "#f0f921"
            ]
           ],
           "sequentialminus": [
            [
             0,
             "#0d0887"
            ],
            [
             0.1111111111111111,
             "#46039f"
            ],
            [
             0.2222222222222222,
             "#7201a8"
            ],
            [
             0.3333333333333333,
             "#9c179e"
            ],
            [
             0.4444444444444444,
             "#bd3786"
            ],
            [
             0.5555555555555556,
             "#d8576b"
            ],
            [
             0.6666666666666666,
             "#ed7953"
            ],
            [
             0.7777777777777778,
             "#fb9f3a"
            ],
            [
             0.8888888888888888,
             "#fdca26"
            ],
            [
             1,
             "#f0f921"
            ]
           ]
          },
          "colorway": [
           "#636efa",
           "#EF553B",
           "#00cc96",
           "#ab63fa",
           "#FFA15A",
           "#19d3f3",
           "#FF6692",
           "#B6E880",
           "#FF97FF",
           "#FECB52"
          ],
          "font": {
           "color": "#2a3f5f"
          },
          "geo": {
           "bgcolor": "white",
           "lakecolor": "white",
           "landcolor": "#E5ECF6",
           "showlakes": true,
           "showland": true,
           "subunitcolor": "white"
          },
          "hoverlabel": {
           "align": "left"
          },
          "hovermode": "closest",
          "mapbox": {
           "style": "light"
          },
          "paper_bgcolor": "white",
          "plot_bgcolor": "#E5ECF6",
          "polar": {
           "angularaxis": {
            "gridcolor": "white",
            "linecolor": "white",
            "ticks": ""
           },
           "bgcolor": "#E5ECF6",
           "radialaxis": {
            "gridcolor": "white",
            "linecolor": "white",
            "ticks": ""
           }
          },
          "scene": {
           "xaxis": {
            "backgroundcolor": "#E5ECF6",
            "gridcolor": "white",
            "gridwidth": 2,
            "linecolor": "white",
            "showbackground": true,
            "ticks": "",
            "zerolinecolor": "white"
           },
           "yaxis": {
            "backgroundcolor": "#E5ECF6",
            "gridcolor": "white",
            "gridwidth": 2,
            "linecolor": "white",
            "showbackground": true,
            "ticks": "",
            "zerolinecolor": "white"
           },
           "zaxis": {
            "backgroundcolor": "#E5ECF6",
            "gridcolor": "white",
            "gridwidth": 2,
            "linecolor": "white",
            "showbackground": true,
            "ticks": "",
            "zerolinecolor": "white"
           }
          },
          "shapedefaults": {
           "line": {
            "color": "#2a3f5f"
           }
          },
          "ternary": {
           "aaxis": {
            "gridcolor": "white",
            "linecolor": "white",
            "ticks": ""
           },
           "baxis": {
            "gridcolor": "white",
            "linecolor": "white",
            "ticks": ""
           },
           "bgcolor": "#E5ECF6",
           "caxis": {
            "gridcolor": "white",
            "linecolor": "white",
            "ticks": ""
           }
          },
          "title": {
           "x": 0.05
          },
          "xaxis": {
           "automargin": true,
           "gridcolor": "white",
           "linecolor": "white",
           "ticks": "",
           "title": {
            "standoff": 15
           },
           "zerolinecolor": "white",
           "zerolinewidth": 2
          },
          "yaxis": {
           "automargin": true,
           "gridcolor": "white",
           "linecolor": "white",
           "ticks": "",
           "title": {
            "standoff": 15
           },
           "zerolinecolor": "white",
           "zerolinewidth": 2
          }
         }
        },
        "title": {
         "text": "Cost function values for training iterations"
        },
        "xaxis": {
         "anchor": "y",
         "domain": [
          0,
          1
         ],
         "title": {
          "text": "iteration"
         }
        },
        "yaxis": {
         "anchor": "x",
         "domain": [
          0,
          1
         ],
         "title": {
          "text": "cost"
         }
        }
       }
      }
     },
     "metadata": {},
     "output_type": "display_data"
    }
   ],
   "source": [
    "visualize_cost(cd_bost.costs)"
   ]
  },
  {
   "cell_type": "markdown",
   "metadata": {},
   "source": [
    "Lasso Feature Selection"
   ]
  },
  {
   "cell_type": "code",
   "execution_count": 5,
   "metadata": {},
   "outputs": [
    {
     "data": {
      "text/plain": [
       "array([ 1.21439916, -0.01774763,  0.01210772,  0.        ,  0.00578174,\n",
       "        0.        ,  0.        ,  0.        ,  0.        ,  0.        ,\n",
       "        0.        ,  0.        ,  0.        , -0.33104679])"
      ]
     },
     "execution_count": 5,
     "metadata": {},
     "output_type": "execute_result"
    }
   ],
   "source": [
    "bost_cyclic_theta = cd_bost.theta\n",
    "bost_cyclic_theta"
   ]
  },
  {
   "cell_type": "code",
   "execution_count": null,
   "metadata": {},
   "outputs": [],
   "source": []
  },
  {
   "cell_type": "markdown",
   "metadata": {},
   "source": [
    "### 2c. Randomized index selection method"
   ]
  },
  {
   "cell_type": "code",
   "execution_count": 65,
   "metadata": {},
   "outputs": [
    {
     "name": "stderr",
     "output_type": "stream",
     "text": [
      "100%|██████████| 1000/1000 [00:00<00:00, 4846.47it/s]\n"
     ]
    }
   ],
   "source": [
    "lambda_ = 0.05\n",
    "cd_bost = CoordinateDescent(lambda_ = lambda_)\n",
    "cd_bost.fit(X_bost, y_bost, tol = 10e-4, method='randomized')"
   ]
  },
  {
   "cell_type": "code",
   "execution_count": 25,
   "metadata": {},
   "outputs": [
    {
     "data": {
      "application/vnd.plotly.v1+json": {
       "config": {
        "plotlyServerURL": "https://plot.ly"
       },
       "data": [
        {
         "legendgroup": "",
         "line": {
          "color": "#636efa",
          "dash": "solid"
         },
         "marker": {
          "symbol": "circle"
         },
         "mode": "markers+lines",
         "name": "",
         "orientation": "v",
         "showlegend": false,
         "type": "scatter",
         "x": [
          0,
          1,
          2,
          3,
          4,
          5,
          6,
          7,
          8,
          9,
          10,
          11,
          12,
          13,
          14,
          15,
          16,
          17,
          18,
          19,
          20,
          21,
          22,
          23,
          24,
          25,
          26,
          27,
          28,
          29,
          30,
          31,
          32,
          33,
          34,
          35,
          36,
          37,
          38,
          39,
          40,
          41,
          42,
          43,
          44,
          45,
          46,
          47,
          48,
          49,
          50,
          51,
          52,
          53,
          54,
          55,
          56,
          57,
          58,
          59,
          60,
          61,
          62,
          63,
          64,
          65,
          66,
          67,
          68,
          69,
          70,
          71,
          72,
          73,
          74,
          75,
          76,
          77,
          78,
          79,
          80,
          81,
          82,
          83,
          84,
          85,
          86,
          87,
          88,
          89,
          90,
          91,
          92,
          93,
          94,
          95,
          96,
          97,
          98,
          99,
          100,
          101,
          102,
          103,
          104,
          105,
          106,
          107,
          108,
          109,
          110,
          111,
          112,
          113,
          114,
          115,
          116,
          117,
          118,
          119,
          120,
          121,
          122,
          123,
          124,
          125,
          126,
          127,
          128,
          129,
          130,
          131,
          132,
          133,
          134,
          135,
          136,
          137,
          138,
          139,
          140,
          141,
          142,
          143,
          144,
          145,
          146,
          147,
          148,
          149,
          150,
          151,
          152,
          153,
          154,
          155,
          156,
          157,
          158,
          159,
          160,
          161,
          162,
          163,
          164,
          165,
          166,
          167,
          168,
          169,
          170,
          171,
          172,
          173,
          174,
          175,
          176,
          177,
          178,
          179,
          180,
          181,
          182,
          183,
          184,
          185,
          186,
          187,
          188,
          189,
          190,
          191,
          192,
          193,
          194,
          195,
          196,
          197,
          198,
          199,
          200,
          201,
          202,
          203,
          204,
          205,
          206,
          207,
          208,
          209,
          210,
          211,
          212,
          213,
          214,
          215,
          216,
          217,
          218,
          219,
          220,
          221,
          222,
          223,
          224,
          225,
          226,
          227,
          228,
          229,
          230,
          231,
          232,
          233,
          234,
          235,
          236,
          237,
          238,
          239,
          240,
          241,
          242,
          243,
          244,
          245,
          246,
          247,
          248,
          249,
          250,
          251,
          252,
          253,
          254,
          255,
          256,
          257,
          258,
          259,
          260,
          261,
          262,
          263,
          264,
          265,
          266,
          267,
          268,
          269,
          270,
          271,
          272,
          273,
          274,
          275,
          276,
          277,
          278,
          279,
          280,
          281,
          282,
          283,
          284,
          285,
          286,
          287,
          288,
          289,
          290,
          291,
          292,
          293,
          294,
          295,
          296,
          297,
          298,
          299,
          300,
          301,
          302,
          303,
          304,
          305,
          306,
          307,
          308,
          309,
          310,
          311,
          312,
          313,
          314,
          315,
          316,
          317,
          318,
          319,
          320,
          321,
          322,
          323,
          324,
          325,
          326,
          327,
          328,
          329,
          330,
          331,
          332,
          333,
          334,
          335,
          336,
          337,
          338,
          339,
          340,
          341,
          342,
          343,
          344,
          345,
          346,
          347,
          348,
          349,
          350,
          351,
          352,
          353,
          354,
          355,
          356,
          357,
          358,
          359,
          360,
          361,
          362,
          363,
          364,
          365,
          366,
          367,
          368,
          369,
          370,
          371,
          372,
          373,
          374,
          375,
          376,
          377,
          378,
          379,
          380,
          381,
          382,
          383,
          384,
          385,
          386,
          387,
          388,
          389,
          390,
          391,
          392,
          393,
          394,
          395,
          396,
          397,
          398,
          399,
          400,
          401,
          402,
          403,
          404,
          405,
          406,
          407,
          408,
          409,
          410,
          411,
          412,
          413,
          414,
          415,
          416,
          417,
          418,
          419,
          420,
          421,
          422,
          423,
          424,
          425,
          426,
          427,
          428,
          429,
          430,
          431,
          432,
          433,
          434,
          435,
          436,
          437,
          438,
          439,
          440,
          441,
          442,
          443,
          444,
          445,
          446,
          447,
          448,
          449,
          450,
          451,
          452,
          453,
          454,
          455,
          456,
          457,
          458,
          459,
          460,
          461,
          462,
          463,
          464,
          465,
          466,
          467,
          468,
          469,
          470,
          471,
          472,
          473,
          474,
          475,
          476,
          477,
          478,
          479,
          480,
          481,
          482,
          483,
          484,
          485,
          486,
          487,
          488,
          489,
          490,
          491,
          492,
          493,
          494,
          495,
          496,
          497,
          498,
          499,
          500,
          501,
          502,
          503,
          504,
          505,
          506,
          507,
          508,
          509,
          510,
          511,
          512,
          513,
          514,
          515,
          516,
          517,
          518,
          519,
          520,
          521,
          522,
          523,
          524,
          525,
          526,
          527,
          528,
          529,
          530,
          531,
          532,
          533,
          534,
          535,
          536,
          537,
          538,
          539,
          540,
          541,
          542,
          543,
          544,
          545,
          546,
          547,
          548,
          549,
          550,
          551,
          552,
          553,
          554,
          555,
          556,
          557,
          558,
          559,
          560,
          561,
          562,
          563,
          564,
          565,
          566,
          567,
          568,
          569,
          570,
          571,
          572,
          573,
          574,
          575,
          576,
          577,
          578,
          579,
          580,
          581,
          582,
          583,
          584,
          585,
          586,
          587,
          588,
          589,
          590,
          591,
          592,
          593,
          594,
          595,
          596,
          597,
          598,
          599,
          600,
          601,
          602,
          603,
          604,
          605,
          606,
          607,
          608,
          609,
          610,
          611,
          612,
          613,
          614,
          615,
          616,
          617,
          618,
          619,
          620,
          621
         ],
         "xaxis": "x",
         "y": [
          0.9999999999999999,
          0.6842031156792712,
          0.6842031156792712,
          0.6842031156792712,
          0.6399698177624039,
          0.6399698177624039,
          0.5060922103011141,
          0.5037617537201126,
          0.49362510415958283,
          0.491875348821027,
          0.46014321627889243,
          0.37721504137570483,
          0.37721504137570483,
          0.3324932714399006,
          0.2793459984086545,
          0.2793459984086545,
          0.2580316437550318,
          0.2534900575182116,
          0.24709840945186484,
          0.2463824158971679,
          0.24684055068630462,
          0.24561499996351271,
          0.2462249038451998,
          0.24494625202806702,
          0.24086171481540547,
          0.24143666698745286,
          0.24143666698745286,
          0.24091503447129564,
          0.24017260979616512,
          0.24079008010736255,
          0.2411426951908056,
          0.2405032885559003,
          0.23916054565543773,
          0.23735186988337117,
          0.23450088256674254,
          0.21953319836612978,
          0.2154822740678572,
          0.21089775733629373,
          0.21084435190537282,
          0.21134838406951484,
          0.21025709236542256,
          0.21025709236542256,
          0.20842203118701202,
          0.2066090338278922,
          0.20657820697886378,
          0.2066090338278922,
          0.2066090338278922,
          0.2066090338278922,
          0.20630652465531407,
          0.20634547075042686,
          0.20630652465531407,
          0.2068799041900744,
          0.20577499109146186,
          0.20472795504216937,
          0.200680485516527,
          0.2012709628435648,
          0.20087333626787823,
          0.20120639614729932,
          0.20120639614729932,
          0.17752899107639963,
          0.1754356541888496,
          0.1756813273220266,
          0.1562351405766669,
          0.1558288505510229,
          0.15537936694003818,
          0.1558334336210353,
          0.15321091629586567,
          0.14766562618488963,
          0.14766562618488963,
          0.14666031635783738,
          0.1455250279913762,
          0.14582694878951044,
          0.14094807500521428,
          0.13664443568542295,
          0.1366427203659556,
          0.13413917683528348,
          0.13298401912418925,
          0.13188559609658665,
          0.1293163873131891,
          0.12807334920648789,
          0.12426337747938329,
          0.1248606940663463,
          0.1253944033214235,
          0.12432777339853485,
          0.12426247596708499,
          0.12426247596708499,
          0.1243735272159957,
          0.12338315303227995,
          0.12204806380437816,
          0.12204806380437816,
          0.12204806380437816,
          0.11885722235285003,
          0.11885722235285003,
          0.11784839131389407,
          0.11784839131389407,
          0.11771384944984838,
          0.11761218332031706,
          0.11753271548620539,
          0.11753271548620539,
          0.11753271548620539,
          0.11753271548620539,
          0.11815646049354202,
          0.11815646049354202,
          0.11802535395336071,
          0.11802535395336071,
          0.11802535395336071,
          0.11802535395336071,
          0.11802535395336071,
          0.11802535395336071,
          0.11802535395336071,
          0.11496462697100074,
          0.11496462697100074,
          0.11496462697100074,
          0.11496462697100074,
          0.11496462697100074,
          0.11485486806781994,
          0.11485486806781994,
          0.11487588447952407,
          0.11485486806781994,
          0.11485486806781994,
          0.11482931026842161,
          0.1143364852342919,
          0.1143364852342919,
          0.1143364852342919,
          0.1143364852342919,
          0.1143364852342919,
          0.1143364852342919,
          0.1143364852342919,
          0.11430199373506544,
          0.114220864644032,
          0.114220864644032,
          0.114220864644032,
          0.114220864644032,
          0.11427265380894491,
          0.11430953572426544,
          0.1133211984135426,
          0.1133211984135426,
          0.1133211984135426,
          0.1133211984135426,
          0.1133211984135426,
          0.1138087381488916,
          0.1138087381488916,
          0.1138087381488916,
          0.11209703456939007,
          0.11209703456939007,
          0.11141320027278974,
          0.11141320027278974,
          0.1117647203694376,
          0.1117647203694376,
          0.1117647203694376,
          0.11026851584518321,
          0.11070318755277833,
          0.11070318755277833,
          0.11070318755277833,
          0.11070318755277833,
          0.10969813428828395,
          0.10969813428828395,
          0.10948037417478768,
          0.10942367471623901,
          0.10942367471623901,
          0.10942367471623901,
          0.11000698127025804,
          0.11000698127025804,
          0.11000698127025804,
          0.11000698127025804,
          0.11000698127025804,
          0.10949344251827232,
          0.10949344251827232,
          0.10897705584176831,
          0.10897705584176831,
          0.10655576878705386,
          0.10655576878705386,
          0.10655576878705386,
          0.10655576878705386,
          0.10655576878705386,
          0.10655576878705386,
          0.10655576878705386,
          0.10655576878705386,
          0.10655576878705386,
          0.10655576878705386,
          0.10655576878705386,
          0.10655576878705386,
          0.10650907605789423,
          0.10710720845825045,
          0.10658709758109045,
          0.10658709758109045,
          0.10658709758109045,
          0.10658709758109045,
          0.10658709758109045,
          0.1069652678532934,
          0.106050404739613,
          0.1055318587476872,
          0.1055318587476872,
          0.1055318587476872,
          0.1055318587476872,
          0.1055318587476872,
          0.1055318587476872,
          0.1055318587476872,
          0.10552017907260891,
          0.10552017907260891,
          0.10545218537797192,
          0.10545218537797192,
          0.10545218537797192,
          0.10545218537797192,
          0.10545218537797192,
          0.10545218537797192,
          0.10545218537797192,
          0.10555016985917828,
          0.10555016985917828,
          0.10353298224768531,
          0.10382856780145777,
          0.10382856780145777,
          0.1040811176899033,
          0.1040811176899033,
          0.1040811176899033,
          0.1040811176899033,
          0.1040811176899033,
          0.1042958377572354,
          0.1042958377572354,
          0.1042958377572354,
          0.1042958377572354,
          0.10447767950814209,
          0.10447767950814209,
          0.10447767950814209,
          0.10447767950814209,
          0.10447767950814209,
          0.10447767950814209,
          0.10447767950814209,
          0.10496641834012606,
          0.10445545583636438,
          0.10445545583636438,
          0.10445545583636438,
          0.10445545583636438,
          0.10445545583636438,
          0.10445545583636438,
          0.10445545583636438,
          0.10445545583636438,
          0.10445545583636438,
          0.10445545583636438,
          0.10445545583636438,
          0.10445545583636438,
          0.10491621243617646,
          0.10491621243617646,
          0.10491621243617646,
          0.10491621243617646,
          0.10491621243617646,
          0.10491621243617646,
          0.1045994975442414,
          0.10447430476969674,
          0.10466835021063417,
          0.10466835021063417,
          0.10466835021063417,
          0.10488697374429698,
          0.10477991928070869,
          0.10477991928070869,
          0.10477991928070869,
          0.10473192243923413,
          0.10477991928070869,
          0.10477991928070869,
          0.10477991928070869,
          0.10477991928070869,
          0.10477991928070869,
          0.10477991928070869,
          0.10389205515755981,
          0.10448599842194761,
          0.10448599842194761,
          0.10441491896549789,
          0.10441491896549789,
          0.10441491896549789,
          0.10441491896549789,
          0.10441491896549789,
          0.10441491896549789,
          0.10441491896549789,
          0.10441491896549789,
          0.10441491896549789,
          0.10441491896549789,
          0.10441491896549789,
          0.10441491896549789,
          0.10441232883456564,
          0.10441491896549789,
          0.10441491896549789,
          0.10447433254312627,
          0.10447433254312627,
          0.10447115117947621,
          0.10447433254312627,
          0.10447433254312627,
          0.10450486668106634,
          0.10447433254312627,
          0.10447115117947621,
          0.10447433254312627,
          0.10447433254312627,
          0.10447433254312627,
          0.10441833451017647,
          0.10441833451017647,
          0.10441833451017647,
          0.10441833451017647,
          0.10441833451017647,
          0.10448299590785899,
          0.10448299590785899,
          0.10355957155679217,
          0.10355957155679217,
          0.10156372900322283,
          0.10156372900322283,
          0.1018815653295732,
          0.1018815653295732,
          0.1018815653295732,
          0.10202146448907833,
          0.10202146448907833,
          0.10202146448907833,
          0.10202146448907833,
          0.10139943984211928,
          0.10175480536597789,
          0.10034527368865497,
          0.10061911984056177,
          0.10070312412135027,
          0.10070312412135027,
          0.10070312412135027,
          0.10070312412135027,
          0.10070312412135027,
          0.10022613601961415,
          0.10022613601961415,
          0.10022613601961415,
          0.10022613601961415,
          0.10081353142736765,
          0.10094697984840034,
          0.10094697984840034,
          0.1009972463972571,
          0.1009972463972571,
          0.10057769742380296,
          0.10057769742380296,
          0.10057769742380296,
          0.10057769742380296,
          0.10057769742380296,
          0.10057769742380296,
          0.10057769742380296,
          0.09974027466376792,
          0.09974027466376792,
          0.09974027466376792,
          0.09974027466376792,
          0.09905283856105375,
          0.09938184973441834,
          0.09966141527824211,
          0.09968651562497671,
          0.09968651562497671,
          0.09966141527824211,
          0.09966141527824211,
          0.09966141527824211,
          0.09966141527824211,
          0.09966141527824211,
          0.09968651562497671,
          0.09966141527824211,
          0.10027267037214799,
          0.10027267037214799,
          0.10027267037214799,
          0.10027267037214799,
          0.09964160761328339,
          0.09964160761328339,
          0.09984268923123943,
          0.10019690337850841,
          0.10019690337850841,
          0.10019690337850841,
          0.09925502251351398,
          0.09925502251351398,
          0.09925502251351398,
          0.0990878413733301,
          0.0990878413733301,
          0.0990878413733301,
          0.0990878413733301,
          0.0990878413733301,
          0.0990878413733301,
          0.0990878413733301,
          0.0990878413733301,
          0.0990878413733301,
          0.0990878413733301,
          0.0990878413733301,
          0.0994977240264213,
          0.09845402974202762,
          0.09845402974202762,
          0.09845402974202762,
          0.09845402974202762,
          0.09881206240031093,
          0.09870533409061813,
          0.09870533409061813,
          0.09842261672066056,
          0.09842261672066056,
          0.09842261672066056,
          0.09836933513846002,
          0.09836933513846002,
          0.09836933513846002,
          0.09836933513846002,
          0.09836933513846002,
          0.09836933513846002,
          0.09815850821649463,
          0.09815850821649463,
          0.09814320463450271,
          0.09828232459290995,
          0.09828232459290995,
          0.09828232459290995,
          0.09828182381266243,
          0.09828232459290995,
          0.0981557937284954,
          0.0981582333921476,
          0.0981582333921476,
          0.0981557937284954,
          0.09778610421691332,
          0.09778610421691332,
          0.09778610421691332,
          0.09801142514404163,
          0.09801142514404163,
          0.09801142514404163,
          0.09801142514404163,
          0.09801142514404163,
          0.09801142514404163,
          0.09801142514404163,
          0.09801142514404163,
          0.09801142514404163,
          0.09801142514404163,
          0.09801142514404163,
          0.09801142514404163,
          0.09800969033983262,
          0.09800969033983262,
          0.09800969033983262,
          0.09800969033983262,
          0.09800969033983262,
          0.09800969033983262,
          0.09800969033983262,
          0.09688104058551796,
          0.0966649224226418,
          0.0966649224226418,
          0.0966649224226418,
          0.0966649224226418,
          0.0966649224226418,
          0.09586064489817431,
          0.09586064489817431,
          0.09586064489817431,
          0.09604706552335035,
          0.0959318364460483,
          0.0958242611459777,
          0.0958242611459777,
          0.0958242611459777,
          0.09570411259622541,
          0.09619000291599608,
          0.09619000291599608,
          0.09619000291599608,
          0.09615649245155061,
          0.09615649245155061,
          0.09649609219467063,
          0.09649609219467063,
          0.09649609219467063,
          0.09668354845949692,
          0.09611263925584904,
          0.09611447571834207,
          0.09611263925584904,
          0.09611263925584904,
          0.09611263925584904,
          0.09611447571834207,
          0.09611263925584904,
          0.09611263925584904,
          0.09571047345504169,
          0.09571047345504169,
          0.09607274104916336,
          0.09605789046405286,
          0.09516625456267278,
          0.09516625456267278,
          0.09516625456267278,
          0.09501871902784781,
          0.09501871902784781,
          0.09437774225630441,
          0.09437774225630441,
          0.09437774225630441,
          0.09437774225630441,
          0.09437774225630441,
          0.09447925240848255,
          0.09445809967866103,
          0.09447925240848255,
          0.09447925240848255,
          0.09447925240848255,
          0.09443313842678248,
          0.09447925240848255,
          0.09447925240848255,
          0.09447925240848255,
          0.09447925240848255,
          0.09437631209968741,
          0.09457891163542778,
          0.09457891163542778,
          0.09457891163542778,
          0.09414587764813995,
          0.09414587764813995,
          0.09414587764813995,
          0.09414587764813995,
          0.09414587764813995,
          0.09414587764813995,
          0.0941684976817807,
          0.09414587764813995,
          0.09407351352488372,
          0.09407351352488372,
          0.09364810091042046,
          0.09364810091042046,
          0.09364810091042046,
          0.09364810091042046,
          0.09364810091042046,
          0.09364810091042046,
          0.09364810091042046,
          0.09364810091042046,
          0.09364810091042046,
          0.09364810091042046,
          0.09360643644108323,
          0.09349043079267862,
          0.09349043079267862,
          0.09349043079267862,
          0.09349043079267862,
          0.09325022594381524,
          0.09325022594381524,
          0.09325022594381524,
          0.09325022594381524,
          0.09325022594381524,
          0.09325022594381524,
          0.09339660107204308,
          0.09339660107204308,
          0.09339660107204308,
          0.09336604651234,
          0.09336604651234,
          0.09358571803135633,
          0.09358571803135633,
          0.09358571803135633,
          0.09358571803135633,
          0.09358571803135633,
          0.09358571803135633,
          0.09358571803135633,
          0.09358571803135633,
          0.09341501363651115,
          0.09339402249509363,
          0.09341501363651115,
          0.09341501363651115,
          0.09344702292720947,
          0.09339072588426726,
          0.09347357956845048,
          0.09347357956845048,
          0.09347357956845048,
          0.09347357956845048,
          0.09347357956845048,
          0.09347357956845048,
          0.09347357956845048,
          0.09347357956845048,
          0.09354095307502988,
          0.09354095307502988,
          0.09354095307502988,
          0.09334414950404224,
          0.09334414950404224,
          0.09334414950404224,
          0.09334414950404224,
          0.09334414950404224,
          0.09334414950404224,
          0.09338689366842189,
          0.09334414950404224,
          0.09334414950404224,
          0.09334414950404224,
          0.09338689366842189,
          0.09338073718600684,
          0.09334414950404224,
          0.09334414950404224,
          0.09334414950404224,
          0.09334414950404224,
          0.09338689366842189,
          0.09338073718600684,
          0.09334414950404224,
          0.09334414950404224,
          0.09332605984636277,
          0.0932902663986888,
          0.09332605984636277,
          0.0933814114666827,
          0.0933814114666827,
          0.0933814114666827,
          0.0933814114666827,
          0.0933814114666827,
          0.09337265829450536,
          0.0933814114666827,
          0.0933814114666827,
          0.0933814114666827,
          0.0933814114666827,
          0.0933814114666827,
          0.0933814114666827,
          0.0933814114666827,
          0.0933814114666827,
          0.09319536534544844,
          0.09323007486232628,
          0.09319536534544844,
          0.09319536534544844,
          0.09323007486232628,
          0.09319536534544844,
          0.09319536534544844,
          0.09319536534544844,
          0.09319536534544844,
          0.09331916550231537,
          0.09331284421027906,
          0.09329194591863825,
          0.09329960974944618,
          0.09331284421027906,
          0.09329960974944618,
          0.09331284421027906,
          0.09331284421027906,
          0.09331284421027906,
          0.09331284421027906,
          0.09336157451767421,
          0.09331284421027906,
          0.09331284421027906,
          0.09331284421027906,
          0.09331284421027906,
          0.09331284421027906,
          0.09329960974944618,
          0.09331284421027906,
          0.09331284421027906,
          0.09331284421027906,
          0.09329194591863825,
          0.09329960974944618,
          0.09336157451767421,
          0.09331284421027906,
          0.09331284421027906,
          0.09331284421027906,
          0.09329960974944618,
          0.09331284421027906,
          0.09336157451767421
         ],
         "yaxis": "y"
        }
       ],
       "layout": {
        "hovermode": "x",
        "legend": {
         "tracegroupgap": 0
        },
        "margin": {
         "t": 60
        },
        "template": {
         "data": {
          "bar": [
           {
            "error_x": {
             "color": "#2a3f5f"
            },
            "error_y": {
             "color": "#2a3f5f"
            },
            "marker": {
             "line": {
              "color": "#E5ECF6",
              "width": 0.5
             },
             "pattern": {
              "fillmode": "overlay",
              "size": 10,
              "solidity": 0.2
             }
            },
            "type": "bar"
           }
          ],
          "barpolar": [
           {
            "marker": {
             "line": {
              "color": "#E5ECF6",
              "width": 0.5
             },
             "pattern": {
              "fillmode": "overlay",
              "size": 10,
              "solidity": 0.2
             }
            },
            "type": "barpolar"
           }
          ],
          "carpet": [
           {
            "aaxis": {
             "endlinecolor": "#2a3f5f",
             "gridcolor": "white",
             "linecolor": "white",
             "minorgridcolor": "white",
             "startlinecolor": "#2a3f5f"
            },
            "baxis": {
             "endlinecolor": "#2a3f5f",
             "gridcolor": "white",
             "linecolor": "white",
             "minorgridcolor": "white",
             "startlinecolor": "#2a3f5f"
            },
            "type": "carpet"
           }
          ],
          "choropleth": [
           {
            "colorbar": {
             "outlinewidth": 0,
             "ticks": ""
            },
            "type": "choropleth"
           }
          ],
          "contour": [
           {
            "colorbar": {
             "outlinewidth": 0,
             "ticks": ""
            },
            "colorscale": [
             [
              0,
              "#0d0887"
             ],
             [
              0.1111111111111111,
              "#46039f"
             ],
             [
              0.2222222222222222,
              "#7201a8"
             ],
             [
              0.3333333333333333,
              "#9c179e"
             ],
             [
              0.4444444444444444,
              "#bd3786"
             ],
             [
              0.5555555555555556,
              "#d8576b"
             ],
             [
              0.6666666666666666,
              "#ed7953"
             ],
             [
              0.7777777777777778,
              "#fb9f3a"
             ],
             [
              0.8888888888888888,
              "#fdca26"
             ],
             [
              1,
              "#f0f921"
             ]
            ],
            "type": "contour"
           }
          ],
          "contourcarpet": [
           {
            "colorbar": {
             "outlinewidth": 0,
             "ticks": ""
            },
            "type": "contourcarpet"
           }
          ],
          "heatmap": [
           {
            "colorbar": {
             "outlinewidth": 0,
             "ticks": ""
            },
            "colorscale": [
             [
              0,
              "#0d0887"
             ],
             [
              0.1111111111111111,
              "#46039f"
             ],
             [
              0.2222222222222222,
              "#7201a8"
             ],
             [
              0.3333333333333333,
              "#9c179e"
             ],
             [
              0.4444444444444444,
              "#bd3786"
             ],
             [
              0.5555555555555556,
              "#d8576b"
             ],
             [
              0.6666666666666666,
              "#ed7953"
             ],
             [
              0.7777777777777778,
              "#fb9f3a"
             ],
             [
              0.8888888888888888,
              "#fdca26"
             ],
             [
              1,
              "#f0f921"
             ]
            ],
            "type": "heatmap"
           }
          ],
          "heatmapgl": [
           {
            "colorbar": {
             "outlinewidth": 0,
             "ticks": ""
            },
            "colorscale": [
             [
              0,
              "#0d0887"
             ],
             [
              0.1111111111111111,
              "#46039f"
             ],
             [
              0.2222222222222222,
              "#7201a8"
             ],
             [
              0.3333333333333333,
              "#9c179e"
             ],
             [
              0.4444444444444444,
              "#bd3786"
             ],
             [
              0.5555555555555556,
              "#d8576b"
             ],
             [
              0.6666666666666666,
              "#ed7953"
             ],
             [
              0.7777777777777778,
              "#fb9f3a"
             ],
             [
              0.8888888888888888,
              "#fdca26"
             ],
             [
              1,
              "#f0f921"
             ]
            ],
            "type": "heatmapgl"
           }
          ],
          "histogram": [
           {
            "marker": {
             "pattern": {
              "fillmode": "overlay",
              "size": 10,
              "solidity": 0.2
             }
            },
            "type": "histogram"
           }
          ],
          "histogram2d": [
           {
            "colorbar": {
             "outlinewidth": 0,
             "ticks": ""
            },
            "colorscale": [
             [
              0,
              "#0d0887"
             ],
             [
              0.1111111111111111,
              "#46039f"
             ],
             [
              0.2222222222222222,
              "#7201a8"
             ],
             [
              0.3333333333333333,
              "#9c179e"
             ],
             [
              0.4444444444444444,
              "#bd3786"
             ],
             [
              0.5555555555555556,
              "#d8576b"
             ],
             [
              0.6666666666666666,
              "#ed7953"
             ],
             [
              0.7777777777777778,
              "#fb9f3a"
             ],
             [
              0.8888888888888888,
              "#fdca26"
             ],
             [
              1,
              "#f0f921"
             ]
            ],
            "type": "histogram2d"
           }
          ],
          "histogram2dcontour": [
           {
            "colorbar": {
             "outlinewidth": 0,
             "ticks": ""
            },
            "colorscale": [
             [
              0,
              "#0d0887"
             ],
             [
              0.1111111111111111,
              "#46039f"
             ],
             [
              0.2222222222222222,
              "#7201a8"
             ],
             [
              0.3333333333333333,
              "#9c179e"
             ],
             [
              0.4444444444444444,
              "#bd3786"
             ],
             [
              0.5555555555555556,
              "#d8576b"
             ],
             [
              0.6666666666666666,
              "#ed7953"
             ],
             [
              0.7777777777777778,
              "#fb9f3a"
             ],
             [
              0.8888888888888888,
              "#fdca26"
             ],
             [
              1,
              "#f0f921"
             ]
            ],
            "type": "histogram2dcontour"
           }
          ],
          "mesh3d": [
           {
            "colorbar": {
             "outlinewidth": 0,
             "ticks": ""
            },
            "type": "mesh3d"
           }
          ],
          "parcoords": [
           {
            "line": {
             "colorbar": {
              "outlinewidth": 0,
              "ticks": ""
             }
            },
            "type": "parcoords"
           }
          ],
          "pie": [
           {
            "automargin": true,
            "type": "pie"
           }
          ],
          "scatter": [
           {
            "marker": {
             "colorbar": {
              "outlinewidth": 0,
              "ticks": ""
             }
            },
            "type": "scatter"
           }
          ],
          "scatter3d": [
           {
            "line": {
             "colorbar": {
              "outlinewidth": 0,
              "ticks": ""
             }
            },
            "marker": {
             "colorbar": {
              "outlinewidth": 0,
              "ticks": ""
             }
            },
            "type": "scatter3d"
           }
          ],
          "scattercarpet": [
           {
            "marker": {
             "colorbar": {
              "outlinewidth": 0,
              "ticks": ""
             }
            },
            "type": "scattercarpet"
           }
          ],
          "scattergeo": [
           {
            "marker": {
             "colorbar": {
              "outlinewidth": 0,
              "ticks": ""
             }
            },
            "type": "scattergeo"
           }
          ],
          "scattergl": [
           {
            "marker": {
             "colorbar": {
              "outlinewidth": 0,
              "ticks": ""
             }
            },
            "type": "scattergl"
           }
          ],
          "scattermapbox": [
           {
            "marker": {
             "colorbar": {
              "outlinewidth": 0,
              "ticks": ""
             }
            },
            "type": "scattermapbox"
           }
          ],
          "scatterpolar": [
           {
            "marker": {
             "colorbar": {
              "outlinewidth": 0,
              "ticks": ""
             }
            },
            "type": "scatterpolar"
           }
          ],
          "scatterpolargl": [
           {
            "marker": {
             "colorbar": {
              "outlinewidth": 0,
              "ticks": ""
             }
            },
            "type": "scatterpolargl"
           }
          ],
          "scatterternary": [
           {
            "marker": {
             "colorbar": {
              "outlinewidth": 0,
              "ticks": ""
             }
            },
            "type": "scatterternary"
           }
          ],
          "surface": [
           {
            "colorbar": {
             "outlinewidth": 0,
             "ticks": ""
            },
            "colorscale": [
             [
              0,
              "#0d0887"
             ],
             [
              0.1111111111111111,
              "#46039f"
             ],
             [
              0.2222222222222222,
              "#7201a8"
             ],
             [
              0.3333333333333333,
              "#9c179e"
             ],
             [
              0.4444444444444444,
              "#bd3786"
             ],
             [
              0.5555555555555556,
              "#d8576b"
             ],
             [
              0.6666666666666666,
              "#ed7953"
             ],
             [
              0.7777777777777778,
              "#fb9f3a"
             ],
             [
              0.8888888888888888,
              "#fdca26"
             ],
             [
              1,
              "#f0f921"
             ]
            ],
            "type": "surface"
           }
          ],
          "table": [
           {
            "cells": {
             "fill": {
              "color": "#EBF0F8"
             },
             "line": {
              "color": "white"
             }
            },
            "header": {
             "fill": {
              "color": "#C8D4E3"
             },
             "line": {
              "color": "white"
             }
            },
            "type": "table"
           }
          ]
         },
         "layout": {
          "annotationdefaults": {
           "arrowcolor": "#2a3f5f",
           "arrowhead": 0,
           "arrowwidth": 1
          },
          "autotypenumbers": "strict",
          "coloraxis": {
           "colorbar": {
            "outlinewidth": 0,
            "ticks": ""
           }
          },
          "colorscale": {
           "diverging": [
            [
             0,
             "#8e0152"
            ],
            [
             0.1,
             "#c51b7d"
            ],
            [
             0.2,
             "#de77ae"
            ],
            [
             0.3,
             "#f1b6da"
            ],
            [
             0.4,
             "#fde0ef"
            ],
            [
             0.5,
             "#f7f7f7"
            ],
            [
             0.6,
             "#e6f5d0"
            ],
            [
             0.7,
             "#b8e186"
            ],
            [
             0.8,
             "#7fbc41"
            ],
            [
             0.9,
             "#4d9221"
            ],
            [
             1,
             "#276419"
            ]
           ],
           "sequential": [
            [
             0,
             "#0d0887"
            ],
            [
             0.1111111111111111,
             "#46039f"
            ],
            [
             0.2222222222222222,
             "#7201a8"
            ],
            [
             0.3333333333333333,
             "#9c179e"
            ],
            [
             0.4444444444444444,
             "#bd3786"
            ],
            [
             0.5555555555555556,
             "#d8576b"
            ],
            [
             0.6666666666666666,
             "#ed7953"
            ],
            [
             0.7777777777777778,
             "#fb9f3a"
            ],
            [
             0.8888888888888888,
             "#fdca26"
            ],
            [
             1,
             "#f0f921"
            ]
           ],
           "sequentialminus": [
            [
             0,
             "#0d0887"
            ],
            [
             0.1111111111111111,
             "#46039f"
            ],
            [
             0.2222222222222222,
             "#7201a8"
            ],
            [
             0.3333333333333333,
             "#9c179e"
            ],
            [
             0.4444444444444444,
             "#bd3786"
            ],
            [
             0.5555555555555556,
             "#d8576b"
            ],
            [
             0.6666666666666666,
             "#ed7953"
            ],
            [
             0.7777777777777778,
             "#fb9f3a"
            ],
            [
             0.8888888888888888,
             "#fdca26"
            ],
            [
             1,
             "#f0f921"
            ]
           ]
          },
          "colorway": [
           "#636efa",
           "#EF553B",
           "#00cc96",
           "#ab63fa",
           "#FFA15A",
           "#19d3f3",
           "#FF6692",
           "#B6E880",
           "#FF97FF",
           "#FECB52"
          ],
          "font": {
           "color": "#2a3f5f"
          },
          "geo": {
           "bgcolor": "white",
           "lakecolor": "white",
           "landcolor": "#E5ECF6",
           "showlakes": true,
           "showland": true,
           "subunitcolor": "white"
          },
          "hoverlabel": {
           "align": "left"
          },
          "hovermode": "closest",
          "mapbox": {
           "style": "light"
          },
          "paper_bgcolor": "white",
          "plot_bgcolor": "#E5ECF6",
          "polar": {
           "angularaxis": {
            "gridcolor": "white",
            "linecolor": "white",
            "ticks": ""
           },
           "bgcolor": "#E5ECF6",
           "radialaxis": {
            "gridcolor": "white",
            "linecolor": "white",
            "ticks": ""
           }
          },
          "scene": {
           "xaxis": {
            "backgroundcolor": "#E5ECF6",
            "gridcolor": "white",
            "gridwidth": 2,
            "linecolor": "white",
            "showbackground": true,
            "ticks": "",
            "zerolinecolor": "white"
           },
           "yaxis": {
            "backgroundcolor": "#E5ECF6",
            "gridcolor": "white",
            "gridwidth": 2,
            "linecolor": "white",
            "showbackground": true,
            "ticks": "",
            "zerolinecolor": "white"
           },
           "zaxis": {
            "backgroundcolor": "#E5ECF6",
            "gridcolor": "white",
            "gridwidth": 2,
            "linecolor": "white",
            "showbackground": true,
            "ticks": "",
            "zerolinecolor": "white"
           }
          },
          "shapedefaults": {
           "line": {
            "color": "#2a3f5f"
           }
          },
          "ternary": {
           "aaxis": {
            "gridcolor": "white",
            "linecolor": "white",
            "ticks": ""
           },
           "baxis": {
            "gridcolor": "white",
            "linecolor": "white",
            "ticks": ""
           },
           "bgcolor": "#E5ECF6",
           "caxis": {
            "gridcolor": "white",
            "linecolor": "white",
            "ticks": ""
           }
          },
          "title": {
           "x": 0.05
          },
          "xaxis": {
           "automargin": true,
           "gridcolor": "white",
           "linecolor": "white",
           "ticks": "",
           "title": {
            "standoff": 15
           },
           "zerolinecolor": "white",
           "zerolinewidth": 2
          },
          "yaxis": {
           "automargin": true,
           "gridcolor": "white",
           "linecolor": "white",
           "ticks": "",
           "title": {
            "standoff": 15
           },
           "zerolinecolor": "white",
           "zerolinewidth": 2
          }
         }
        },
        "title": {
         "text": "Cost function values for training iterations"
        },
        "xaxis": {
         "anchor": "y",
         "domain": [
          0,
          1
         ],
         "title": {
          "text": "iteration"
         }
        },
        "yaxis": {
         "anchor": "x",
         "domain": [
          0,
          1
         ],
         "title": {
          "text": "cost"
         }
        }
       }
      }
     },
     "metadata": {},
     "output_type": "display_data"
    }
   ],
   "source": [
    "visualize_cost(cd_bost.costs)"
   ]
  },
  {
   "cell_type": "markdown",
   "metadata": {},
   "source": [
    "Lasso Feature Selection"
   ]
  },
  {
   "cell_type": "code",
   "execution_count": 3,
   "metadata": {},
   "outputs": [
    {
     "data": {
      "text/plain": [
       "array([ 1.20107082, -0.01889477,  0.01495472,  0.        ,  0.00604809,\n",
       "        0.        ,  0.        ,  0.        ,  0.        ,  0.        ,\n",
       "        0.        ,  0.        ,  0.        , -0.31674859])"
      ]
     },
     "execution_count": 3,
     "metadata": {},
     "output_type": "execute_result"
    }
   ],
   "source": [
    "bost_rand_theta = cd_bost.theta\n",
    "bost_rand_theta"
   ]
  },
  {
   "cell_type": "markdown",
   "metadata": {},
   "source": [
    "### 2d. Sklearn Lasso Regression"
   ]
  },
  {
   "cell_type": "code",
   "execution_count": 92,
   "metadata": {},
   "outputs": [
    {
     "data": {
      "text/plain": [
       "array([ 0.05724642, -0.02000438,  0.02120922, -0.        ,  0.02949011,\n",
       "       -0.        ,  0.        , -0.        , -0.        , -0.        ,\n",
       "       -0.        , -0.        ,  0.        , -0.42596015])"
      ]
     },
     "execution_count": 92,
     "metadata": {},
     "output_type": "execute_result"
    }
   ],
   "source": [
    "l = Lasso(alpha=0.00005) # strange alpha value due to our unusual normalization after data loading\n",
    "l.fit(X_bost, y_bost)\n",
    "bost_sklearn_theta = l.coef_\n",
    "bost_sklearn_theta[0] = l.intercept_\n",
    "\n",
    "bost_sklearn_theta\n"
   ]
  },
  {
   "cell_type": "markdown",
   "metadata": {},
   "source": [
    "### 2e. Comparison of thetas' estimations for each method"
   ]
  },
  {
   "cell_type": "markdown",
   "metadata": {},
   "source": [
    "'Cyclic' index selection"
   ]
  },
  {
   "cell_type": "code",
   "execution_count": 97,
   "metadata": {},
   "outputs": [
    {
     "data": {
      "text/plain": [
       "array([ 1.21439916, -0.01774763,  0.01210772,  0.        ,  0.00578174,\n",
       "        0.        ,  0.        ,  0.        ,  0.        ,  0.        ,\n",
       "        0.        ,  0.        ,  0.        , -0.33104679])"
      ]
     },
     "execution_count": 97,
     "metadata": {},
     "output_type": "execute_result"
    }
   ],
   "source": [
    "bost_cyclic_theta"
   ]
  },
  {
   "cell_type": "markdown",
   "metadata": {},
   "source": [
    "'Randomized' index selection"
   ]
  },
  {
   "cell_type": "code",
   "execution_count": 98,
   "metadata": {},
   "outputs": [
    {
     "data": {
      "text/plain": [
       "array([ 1.20107082, -0.01889477,  0.01495472,  0.        ,  0.00604809,\n",
       "        0.        ,  0.        ,  0.        ,  0.        ,  0.        ,\n",
       "        0.        ,  0.        ,  0.        , -0.31674859])"
      ]
     },
     "execution_count": 98,
     "metadata": {},
     "output_type": "execute_result"
    }
   ],
   "source": [
    "bost_rand_theta"
   ]
  },
  {
   "cell_type": "markdown",
   "metadata": {},
   "source": [
    "'Greedy' index selection"
   ]
  },
  {
   "cell_type": "code",
   "execution_count": 17,
   "metadata": {},
   "outputs": [
    {
     "data": {
      "text/plain": [
       "array([ 1.21124026, -0.01699858,  0.01325271,  0.        ,  0.00638783,\n",
       "        0.        ,  0.        ,  0.        ,  0.        ,  0.        ,\n",
       "        0.        ,  0.        ,  0.        , -0.32929425])"
      ]
     },
     "execution_count": 17,
     "metadata": {},
     "output_type": "execute_result"
    }
   ],
   "source": [
    "bost_greedy_theta"
   ]
  },
  {
   "cell_type": "markdown",
   "metadata": {},
   "source": [
    "Standard deviation for coordinate-descent results"
   ]
  },
  {
   "cell_type": "code",
   "execution_count": 93,
   "metadata": {},
   "outputs": [
    {
     "data": {
      "text/plain": [
       "array([0.00568664, 0.00077978, 0.00116967, 0.        , 0.00024804,\n",
       "       0.        , 0.        , 0.        , 0.        , 0.        ,\n",
       "       0.        , 0.        , 0.        , 0.00636748])"
      ]
     },
     "execution_count": 93,
     "metadata": {},
     "output_type": "execute_result"
    }
   ],
   "source": [
    "boston_std = np.std(np.array([bost_cyclic_theta, bost_rand_theta, bost_greedy_theta]), axis=0)\n",
    "boston_std"
   ]
  },
  {
   "cell_type": "markdown",
   "metadata": {},
   "source": [
    "Mean for coordinate-descent results"
   ]
  },
  {
   "cell_type": "code",
   "execution_count": 94,
   "metadata": {},
   "outputs": [
    {
     "data": {
      "text/plain": [
       "array([ 1.20890341, -0.01788033,  0.01343838,  0.        ,  0.00607255,\n",
       "        0.        ,  0.        ,  0.        ,  0.        ,  0.        ,\n",
       "        0.        ,  0.        ,  0.        , -0.32569654])"
      ]
     },
     "execution_count": 94,
     "metadata": {},
     "output_type": "execute_result"
    }
   ],
   "source": [
    "boston_mean = np.mean(np.array([bost_cyclic_theta, bost_rand_theta, bost_greedy_theta]), axis=0)\n",
    "boston_mean"
   ]
  },
  {
   "cell_type": "markdown",
   "metadata": {},
   "source": [
    "The difference between mean coordinate descent results and sklearn Lasso results"
   ]
  },
  {
   "cell_type": "code",
   "execution_count": 96,
   "metadata": {},
   "outputs": [
    {
     "data": {
      "text/plain": [
       "array([1.15165699, 0.00212405, 0.00777084, 0.        , 0.02341756,\n",
       "       0.        , 0.        , 0.        , 0.        , 0.        ,\n",
       "       0.        , 0.        , 0.        , 0.10026361])"
      ]
     },
     "execution_count": 96,
     "metadata": {},
     "output_type": "execute_result"
    }
   ],
   "source": [
    "boston_diff = np.abs(boston_mean - bost_sklearn_theta)\n",
    "boston_diff"
   ]
  },
  {
   "cell_type": "markdown",
   "metadata": {},
   "source": [
    "***"
   ]
  },
  {
   "cell_type": "markdown",
   "metadata": {},
   "source": [
    "## 3. BlogFeedback Dataset\n",
    "#samples: 52 387 \n",
    "\n",
    "#features: 280\n",
    "\n",
    "[Source](https://archive.ics.uci.edu/ml/datasets/BlogFeedback)"
   ]
  },
  {
   "cell_type": "markdown",
   "metadata": {},
   "source": [
    "## Loading data"
   ]
  },
  {
   "cell_type": "code",
   "execution_count": 99,
   "metadata": {},
   "outputs": [],
   "source": [
    "df = pd.read_csv('./data/blogData_train.csv', header=None)\n",
    "y = df[280].to_numpy()\n",
    "X = df.drop(280, axis=1).to_numpy()"
   ]
  },
  {
   "cell_type": "code",
   "execution_count": 100,
   "metadata": {},
   "outputs": [
    {
     "data": {
      "text/plain": [
       "(52397, 280)"
      ]
     },
     "execution_count": 100,
     "metadata": {},
     "output_type": "execute_result"
    }
   ],
   "source": [
    "X.shape"
   ]
  },
  {
   "cell_type": "code",
   "execution_count": 101,
   "metadata": {},
   "outputs": [],
   "source": [
    "y = y.reshape((-1, 1))\n",
    "X = np.hstack([np.ones(X.shape[0]).reshape((X.shape[0], 1)), X])\n",
    "\n",
    "\n",
    "# normalization\n",
    "n = Normalizer()\n",
    "\n",
    "X = n.fit_transform(X)\n",
    "y = n.fit_transform(y)"
   ]
  },
  {
   "cell_type": "markdown",
   "metadata": {},
   "source": [
    "### 3a. Greedy index selection method"
   ]
  },
  {
   "cell_type": "code",
   "execution_count": 114,
   "metadata": {},
   "outputs": [
    {
     "name": "stderr",
     "output_type": "stream",
     "text": [
      "100%|██████████| 100/100 [00:07<00:00, 12.90it/s]\n"
     ]
    }
   ],
   "source": [
    "lambda_ = 0.001\n",
    "cd = CoordinateDescent(lambda_ = lambda_)\n",
    "cd.fit(X, y, iters=100, tol = 10e-12, method='greedy')\n",
    "blog_greedy_theta = cd.theta"
   ]
  },
  {
   "cell_type": "code",
   "execution_count": 115,
   "metadata": {},
   "outputs": [
    {
     "data": {
      "text/plain": [
       "array([-2.34573259e+00,  0.00000000e+00, -5.54468490e-01, -7.64237639e+00,\n",
       "        7.35817950e-02, -1.98789605e-01,  0.00000000e+00,  0.00000000e+00,\n",
       "        0.00000000e+00,  2.02484923e-01,  0.00000000e+00,  0.00000000e+00,\n",
       "       -2.44491350e+00,  0.00000000e+00,  0.00000000e+00,  1.22677932e+01,\n",
       "       -5.90559993e-01,  0.00000000e+00,  0.00000000e+00,  0.00000000e+00,\n",
       "        0.00000000e+00,  0.00000000e+00,  9.31925351e+00,  0.00000000e+00,\n",
       "        0.00000000e+00,  0.00000000e+00,  0.00000000e+00, -2.20023061e-01,\n",
       "        0.00000000e+00,  0.00000000e+00,  7.63167758e+00, -2.38830772e+01,\n",
       "        0.00000000e+00,  0.00000000e+00,  0.00000000e+00, -1.30073148e+01,\n",
       "        0.00000000e+00,  0.00000000e+00,  0.00000000e+00,  0.00000000e+00,\n",
       "        0.00000000e+00,  0.00000000e+00,  0.00000000e+00,  0.00000000e+00,\n",
       "        0.00000000e+00,  0.00000000e+00,  0.00000000e+00,  0.00000000e+00,\n",
       "        3.40147206e+00,  0.00000000e+00,  0.00000000e+00,  0.00000000e+00,\n",
       "        0.00000000e+00,  0.00000000e+00,  8.62402682e-01,  0.00000000e+00,\n",
       "        0.00000000e+00,  3.56278823e+00,  0.00000000e+00,  0.00000000e+00,\n",
       "        0.00000000e+00,  0.00000000e+00,  0.00000000e+00,  0.00000000e+00,\n",
       "        1.60883923e+02,  0.00000000e+00,  0.00000000e+00,  0.00000000e+00,\n",
       "        0.00000000e+00,  0.00000000e+00,  0.00000000e+00,  0.00000000e+00,\n",
       "        3.21495136e+02,  0.00000000e+00,  0.00000000e+00,  0.00000000e+00,\n",
       "        0.00000000e+00,  0.00000000e+00,  0.00000000e+00,  7.25342032e+01,\n",
       "        0.00000000e+00,  0.00000000e+00,  5.39447929e+02,  0.00000000e+00,\n",
       "        0.00000000e+00,  0.00000000e+00,  2.98666738e+02,  0.00000000e+00,\n",
       "        0.00000000e+00,  0.00000000e+00,  0.00000000e+00,  0.00000000e+00,\n",
       "        0.00000000e+00,  0.00000000e+00, -4.85774298e+01, -4.40209730e+02,\n",
       "        0.00000000e+00,  0.00000000e+00,  0.00000000e+00,  0.00000000e+00,\n",
       "        0.00000000e+00,  0.00000000e+00,  0.00000000e+00,  3.87177872e+02,\n",
       "        2.87904802e+02,  2.18126590e+02,  0.00000000e+00,  0.00000000e+00,\n",
       "        0.00000000e+00, -1.70000112e+03,  0.00000000e+00,  0.00000000e+00,\n",
       "        0.00000000e+00,  0.00000000e+00,  3.38835841e+02,  0.00000000e+00,\n",
       "       -4.19229413e+01,  0.00000000e+00,  0.00000000e+00,  0.00000000e+00,\n",
       "        3.54591662e+02,  0.00000000e+00,  0.00000000e+00,  0.00000000e+00,\n",
       "       -4.06356753e+02,  0.00000000e+00,  0.00000000e+00,  0.00000000e+00,\n",
       "        0.00000000e+00,  0.00000000e+00,  0.00000000e+00,  0.00000000e+00,\n",
       "        0.00000000e+00,  0.00000000e+00,  0.00000000e+00,  0.00000000e+00,\n",
       "        0.00000000e+00,  6.55613580e+02,  0.00000000e+00,  0.00000000e+00,\n",
       "        0.00000000e+00,  0.00000000e+00,  0.00000000e+00,  0.00000000e+00,\n",
       "        0.00000000e+00,  0.00000000e+00,  0.00000000e+00,  0.00000000e+00,\n",
       "        0.00000000e+00, -4.09672825e+02,  6.66336358e+01,  2.99526014e+01,\n",
       "        5.19078752e+01,  1.30614488e+01,  1.73517471e+02,  0.00000000e+00,\n",
       "        0.00000000e+00,  0.00000000e+00,  0.00000000e+00,  6.46591885e+02,\n",
       "        0.00000000e+00,  0.00000000e+00,  0.00000000e+00,  5.40661271e+02,\n",
       "        0.00000000e+00,  0.00000000e+00,  0.00000000e+00,  0.00000000e+00,\n",
       "       -2.41752238e+02,  0.00000000e+00,  0.00000000e+00,  6.85888885e+02,\n",
       "        0.00000000e+00,  0.00000000e+00,  0.00000000e+00,  0.00000000e+00,\n",
       "        0.00000000e+00,  3.78754815e+02, -5.10713042e+01, -1.15404310e+03,\n",
       "        0.00000000e+00,  8.37438589e+01,  0.00000000e+00,  4.00827232e+01,\n",
       "        0.00000000e+00,  6.09861640e+02,  0.00000000e+00,  0.00000000e+00,\n",
       "        0.00000000e+00,  1.38340976e+02,  0.00000000e+00,  0.00000000e+00,\n",
       "        2.17698697e+00,  1.81237709e+02,  0.00000000e+00,  0.00000000e+00,\n",
       "        0.00000000e+00,  0.00000000e+00, -3.68675252e+02,  0.00000000e+00,\n",
       "       -9.02900991e+01,  0.00000000e+00,  9.70147701e+01,  0.00000000e+00,\n",
       "        0.00000000e+00,  0.00000000e+00,  0.00000000e+00,  0.00000000e+00,\n",
       "        4.85774298e+01,  0.00000000e+00,  1.55088604e+02,  0.00000000e+00,\n",
       "        0.00000000e+00,  0.00000000e+00,  0.00000000e+00,  0.00000000e+00,\n",
       "        0.00000000e+00,  0.00000000e+00,  0.00000000e+00,  0.00000000e+00,\n",
       "        0.00000000e+00,  0.00000000e+00,  0.00000000e+00,  0.00000000e+00,\n",
       "        0.00000000e+00,  0.00000000e+00,  0.00000000e+00,  0.00000000e+00,\n",
       "        0.00000000e+00,  1.34883588e+02,  0.00000000e+00,  0.00000000e+00,\n",
       "        2.43440455e+02,  0.00000000e+00,  1.76712859e+02,  0.00000000e+00,\n",
       "       -3.42212915e+02,  0.00000000e+00,  0.00000000e+00,  0.00000000e+00,\n",
       "        0.00000000e+00,  0.00000000e+00,  6.00082448e+01,  0.00000000e+00,\n",
       "       -3.53066862e+02,  0.00000000e+00,  0.00000000e+00,  0.00000000e+00,\n",
       "        0.00000000e+00,  0.00000000e+00,  0.00000000e+00,  0.00000000e+00,\n",
       "        0.00000000e+00, -5.08838789e+02,  0.00000000e+00,  5.52832798e+02,\n",
       "        0.00000000e+00,  0.00000000e+00,  2.30357346e+02,  0.00000000e+00,\n",
       "        0.00000000e+00,  0.00000000e+00,  0.00000000e+00,  0.00000000e+00,\n",
       "        0.00000000e+00, -8.40794499e-01,  8.18397283e-01,  0.00000000e+00,\n",
       "        0.00000000e+00,  0.00000000e+00,  0.00000000e+00,  0.00000000e+00,\n",
       "        0.00000000e+00,  0.00000000e+00,  1.80027584e+00,  0.00000000e+00,\n",
       "        0.00000000e+00,  0.00000000e+00,  0.00000000e+00,  0.00000000e+00,\n",
       "        9.65966319e-01])"
      ]
     },
     "execution_count": 115,
     "metadata": {},
     "output_type": "execute_result"
    }
   ],
   "source": [
    "blog_greedy_theta"
   ]
  },
  {
   "cell_type": "markdown",
   "metadata": {},
   "source": [
    "Number of irrelevant features:"
   ]
  },
  {
   "cell_type": "code",
   "execution_count": 116,
   "metadata": {},
   "outputs": [
    {
     "data": {
      "text/plain": [
       "211"
      ]
     },
     "execution_count": 116,
     "metadata": {},
     "output_type": "execute_result"
    }
   ],
   "source": [
    "np.count_nonzero(np.abs(blog_greedy_theta) < 10**-12)"
   ]
  },
  {
   "cell_type": "code",
   "execution_count": 148,
   "metadata": {},
   "outputs": [
    {
     "data": {
      "application/vnd.plotly.v1+json": {
       "config": {
        "plotlyServerURL": "https://plot.ly"
       },
       "data": [
        {
         "legendgroup": "",
         "line": {
          "color": "#636efa",
          "dash": "solid"
         },
         "marker": {
          "symbol": "circle"
         },
         "mode": "markers+lines",
         "name": "",
         "orientation": "v",
         "showlegend": false,
         "type": "scatter",
         "x": [
          0,
          1,
          2,
          3,
          4,
          5,
          6,
          7,
          8,
          9,
          10,
          11,
          12,
          13,
          14,
          15,
          16,
          17,
          18,
          19,
          20,
          21,
          22,
          23,
          24,
          25,
          26,
          27,
          28,
          29,
          30,
          31,
          32,
          33,
          34,
          35,
          36,
          37,
          38,
          39,
          40,
          41,
          42,
          43,
          44,
          45,
          46,
          47,
          48,
          49,
          50,
          51,
          52,
          53,
          54,
          55,
          56,
          57,
          58,
          59,
          60,
          61,
          62,
          63,
          64,
          65,
          66,
          67,
          68,
          69,
          70,
          71,
          72,
          73,
          74,
          75,
          76,
          77,
          78,
          79,
          80,
          81,
          82,
          83,
          84,
          85,
          86,
          87,
          88,
          89,
          90,
          91,
          92,
          93,
          94,
          95,
          96,
          97,
          98,
          99,
          100
         ],
         "xaxis": "x",
         "y": [
          18838,
          18799.228851088064,
          18761.27181394779,
          18280.524025471936,
          17610.236139121265,
          17609.361119237965,
          17403.688398175364,
          17353.302942789127,
          17033.10795315255,
          16996.392600508014,
          16951.56828388272,
          16951.535032511165,
          16685.282444255557,
          16388.579796532096,
          14428.961189470352,
          14424.70695032999,
          14421.028099244582,
          15074.98943190031,
          15036.420220247306,
          15036.359531283644,
          14987.149431665997,
          14983.101376521507,
          14982.878145198845,
          14979.627027630031,
          14979.024567088136,
          14109.893832084086,
          14109.873038184991,
          14084.516261406807,
          14083.39693821798,
          14072.650370600355,
          13992.63600073751,
          13972.832228033942,
          13971.950617503742,
          13971.950617503742,
          13971.576548896679,
          13839.620284239407,
          13837.062304165209,
          13836.719385731203,
          13836.701479965457,
          13836.546402543667,
          13836.162226506707,
          13836.162226506707,
          13767.009551373845,
          13767.009551373845,
          13767.0018294953,
          13766.995868212713,
          13746.881042628238,
          13737.27237923161,
          13737.27237923161,
          13737.260460671976,
          13737.260460671976,
          13736.983931270372,
          13519.38905273789,
          13512.5495392847,
          13512.5495392847,
          13512.558686440563,
          13511.982806114853,
          13500.619946226781,
          13494.428063338268,
          13494.428063338268,
          13494.428063338268,
          13486.830845104198,
          13486.830845104198,
          13472.772975967295,
          13407.423983554223,
          13368.938049547483,
          13353.509802063663,
          13229.940970023594,
          13229.828631935085,
          13219.388268276125,
          13219.388268276125,
          13218.084978424708,
          13140.05102350797,
          13117.467067878686,
          13093.454803377093,
          13015.48372213526,
          13015.120275728092,
          13015.120275728092,
          13015.117687193837,
          13015.063112303245,
          13011.565884710706,
          13009.100062756524,
          13009.100062756524,
          13008.680108933688,
          13008.304134244283,
          12940.910120925735,
          12940.910120925735,
          12940.910120925735,
          12939.244898034276,
          12939.02184631239,
          12896.289252646151,
          12884.50365292558,
          12884.50365292558,
          12873.929807465458,
          12873.492491357028,
          12873.408725295498,
          12873.408725295498,
          12873.408725295498,
          12872.922990962037,
          12872.713027490034,
          12872.638101604598
         ],
         "yaxis": "y"
        }
       ],
       "layout": {
        "hovermode": "x",
        "legend": {
         "tracegroupgap": 0
        },
        "margin": {
         "t": 60
        },
        "template": {
         "data": {
          "bar": [
           {
            "error_x": {
             "color": "#2a3f5f"
            },
            "error_y": {
             "color": "#2a3f5f"
            },
            "marker": {
             "line": {
              "color": "#E5ECF6",
              "width": 0.5
             },
             "pattern": {
              "fillmode": "overlay",
              "size": 10,
              "solidity": 0.2
             }
            },
            "type": "bar"
           }
          ],
          "barpolar": [
           {
            "marker": {
             "line": {
              "color": "#E5ECF6",
              "width": 0.5
             },
             "pattern": {
              "fillmode": "overlay",
              "size": 10,
              "solidity": 0.2
             }
            },
            "type": "barpolar"
           }
          ],
          "carpet": [
           {
            "aaxis": {
             "endlinecolor": "#2a3f5f",
             "gridcolor": "white",
             "linecolor": "white",
             "minorgridcolor": "white",
             "startlinecolor": "#2a3f5f"
            },
            "baxis": {
             "endlinecolor": "#2a3f5f",
             "gridcolor": "white",
             "linecolor": "white",
             "minorgridcolor": "white",
             "startlinecolor": "#2a3f5f"
            },
            "type": "carpet"
           }
          ],
          "choropleth": [
           {
            "colorbar": {
             "outlinewidth": 0,
             "ticks": ""
            },
            "type": "choropleth"
           }
          ],
          "contour": [
           {
            "colorbar": {
             "outlinewidth": 0,
             "ticks": ""
            },
            "colorscale": [
             [
              0,
              "#0d0887"
             ],
             [
              0.1111111111111111,
              "#46039f"
             ],
             [
              0.2222222222222222,
              "#7201a8"
             ],
             [
              0.3333333333333333,
              "#9c179e"
             ],
             [
              0.4444444444444444,
              "#bd3786"
             ],
             [
              0.5555555555555556,
              "#d8576b"
             ],
             [
              0.6666666666666666,
              "#ed7953"
             ],
             [
              0.7777777777777778,
              "#fb9f3a"
             ],
             [
              0.8888888888888888,
              "#fdca26"
             ],
             [
              1,
              "#f0f921"
             ]
            ],
            "type": "contour"
           }
          ],
          "contourcarpet": [
           {
            "colorbar": {
             "outlinewidth": 0,
             "ticks": ""
            },
            "type": "contourcarpet"
           }
          ],
          "heatmap": [
           {
            "colorbar": {
             "outlinewidth": 0,
             "ticks": ""
            },
            "colorscale": [
             [
              0,
              "#0d0887"
             ],
             [
              0.1111111111111111,
              "#46039f"
             ],
             [
              0.2222222222222222,
              "#7201a8"
             ],
             [
              0.3333333333333333,
              "#9c179e"
             ],
             [
              0.4444444444444444,
              "#bd3786"
             ],
             [
              0.5555555555555556,
              "#d8576b"
             ],
             [
              0.6666666666666666,
              "#ed7953"
             ],
             [
              0.7777777777777778,
              "#fb9f3a"
             ],
             [
              0.8888888888888888,
              "#fdca26"
             ],
             [
              1,
              "#f0f921"
             ]
            ],
            "type": "heatmap"
           }
          ],
          "heatmapgl": [
           {
            "colorbar": {
             "outlinewidth": 0,
             "ticks": ""
            },
            "colorscale": [
             [
              0,
              "#0d0887"
             ],
             [
              0.1111111111111111,
              "#46039f"
             ],
             [
              0.2222222222222222,
              "#7201a8"
             ],
             [
              0.3333333333333333,
              "#9c179e"
             ],
             [
              0.4444444444444444,
              "#bd3786"
             ],
             [
              0.5555555555555556,
              "#d8576b"
             ],
             [
              0.6666666666666666,
              "#ed7953"
             ],
             [
              0.7777777777777778,
              "#fb9f3a"
             ],
             [
              0.8888888888888888,
              "#fdca26"
             ],
             [
              1,
              "#f0f921"
             ]
            ],
            "type": "heatmapgl"
           }
          ],
          "histogram": [
           {
            "marker": {
             "pattern": {
              "fillmode": "overlay",
              "size": 10,
              "solidity": 0.2
             }
            },
            "type": "histogram"
           }
          ],
          "histogram2d": [
           {
            "colorbar": {
             "outlinewidth": 0,
             "ticks": ""
            },
            "colorscale": [
             [
              0,
              "#0d0887"
             ],
             [
              0.1111111111111111,
              "#46039f"
             ],
             [
              0.2222222222222222,
              "#7201a8"
             ],
             [
              0.3333333333333333,
              "#9c179e"
             ],
             [
              0.4444444444444444,
              "#bd3786"
             ],
             [
              0.5555555555555556,
              "#d8576b"
             ],
             [
              0.6666666666666666,
              "#ed7953"
             ],
             [
              0.7777777777777778,
              "#fb9f3a"
             ],
             [
              0.8888888888888888,
              "#fdca26"
             ],
             [
              1,
              "#f0f921"
             ]
            ],
            "type": "histogram2d"
           }
          ],
          "histogram2dcontour": [
           {
            "colorbar": {
             "outlinewidth": 0,
             "ticks": ""
            },
            "colorscale": [
             [
              0,
              "#0d0887"
             ],
             [
              0.1111111111111111,
              "#46039f"
             ],
             [
              0.2222222222222222,
              "#7201a8"
             ],
             [
              0.3333333333333333,
              "#9c179e"
             ],
             [
              0.4444444444444444,
              "#bd3786"
             ],
             [
              0.5555555555555556,
              "#d8576b"
             ],
             [
              0.6666666666666666,
              "#ed7953"
             ],
             [
              0.7777777777777778,
              "#fb9f3a"
             ],
             [
              0.8888888888888888,
              "#fdca26"
             ],
             [
              1,
              "#f0f921"
             ]
            ],
            "type": "histogram2dcontour"
           }
          ],
          "mesh3d": [
           {
            "colorbar": {
             "outlinewidth": 0,
             "ticks": ""
            },
            "type": "mesh3d"
           }
          ],
          "parcoords": [
           {
            "line": {
             "colorbar": {
              "outlinewidth": 0,
              "ticks": ""
             }
            },
            "type": "parcoords"
           }
          ],
          "pie": [
           {
            "automargin": true,
            "type": "pie"
           }
          ],
          "scatter": [
           {
            "marker": {
             "colorbar": {
              "outlinewidth": 0,
              "ticks": ""
             }
            },
            "type": "scatter"
           }
          ],
          "scatter3d": [
           {
            "line": {
             "colorbar": {
              "outlinewidth": 0,
              "ticks": ""
             }
            },
            "marker": {
             "colorbar": {
              "outlinewidth": 0,
              "ticks": ""
             }
            },
            "type": "scatter3d"
           }
          ],
          "scattercarpet": [
           {
            "marker": {
             "colorbar": {
              "outlinewidth": 0,
              "ticks": ""
             }
            },
            "type": "scattercarpet"
           }
          ],
          "scattergeo": [
           {
            "marker": {
             "colorbar": {
              "outlinewidth": 0,
              "ticks": ""
             }
            },
            "type": "scattergeo"
           }
          ],
          "scattergl": [
           {
            "marker": {
             "colorbar": {
              "outlinewidth": 0,
              "ticks": ""
             }
            },
            "type": "scattergl"
           }
          ],
          "scattermapbox": [
           {
            "marker": {
             "colorbar": {
              "outlinewidth": 0,
              "ticks": ""
             }
            },
            "type": "scattermapbox"
           }
          ],
          "scatterpolar": [
           {
            "marker": {
             "colorbar": {
              "outlinewidth": 0,
              "ticks": ""
             }
            },
            "type": "scatterpolar"
           }
          ],
          "scatterpolargl": [
           {
            "marker": {
             "colorbar": {
              "outlinewidth": 0,
              "ticks": ""
             }
            },
            "type": "scatterpolargl"
           }
          ],
          "scatterternary": [
           {
            "marker": {
             "colorbar": {
              "outlinewidth": 0,
              "ticks": ""
             }
            },
            "type": "scatterternary"
           }
          ],
          "surface": [
           {
            "colorbar": {
             "outlinewidth": 0,
             "ticks": ""
            },
            "colorscale": [
             [
              0,
              "#0d0887"
             ],
             [
              0.1111111111111111,
              "#46039f"
             ],
             [
              0.2222222222222222,
              "#7201a8"
             ],
             [
              0.3333333333333333,
              "#9c179e"
             ],
             [
              0.4444444444444444,
              "#bd3786"
             ],
             [
              0.5555555555555556,
              "#d8576b"
             ],
             [
              0.6666666666666666,
              "#ed7953"
             ],
             [
              0.7777777777777778,
              "#fb9f3a"
             ],
             [
              0.8888888888888888,
              "#fdca26"
             ],
             [
              1,
              "#f0f921"
             ]
            ],
            "type": "surface"
           }
          ],
          "table": [
           {
            "cells": {
             "fill": {
              "color": "#EBF0F8"
             },
             "line": {
              "color": "white"
             }
            },
            "header": {
             "fill": {
              "color": "#C8D4E3"
             },
             "line": {
              "color": "white"
             }
            },
            "type": "table"
           }
          ]
         },
         "layout": {
          "annotationdefaults": {
           "arrowcolor": "#2a3f5f",
           "arrowhead": 0,
           "arrowwidth": 1
          },
          "autotypenumbers": "strict",
          "coloraxis": {
           "colorbar": {
            "outlinewidth": 0,
            "ticks": ""
           }
          },
          "colorscale": {
           "diverging": [
            [
             0,
             "#8e0152"
            ],
            [
             0.1,
             "#c51b7d"
            ],
            [
             0.2,
             "#de77ae"
            ],
            [
             0.3,
             "#f1b6da"
            ],
            [
             0.4,
             "#fde0ef"
            ],
            [
             0.5,
             "#f7f7f7"
            ],
            [
             0.6,
             "#e6f5d0"
            ],
            [
             0.7,
             "#b8e186"
            ],
            [
             0.8,
             "#7fbc41"
            ],
            [
             0.9,
             "#4d9221"
            ],
            [
             1,
             "#276419"
            ]
           ],
           "sequential": [
            [
             0,
             "#0d0887"
            ],
            [
             0.1111111111111111,
             "#46039f"
            ],
            [
             0.2222222222222222,
             "#7201a8"
            ],
            [
             0.3333333333333333,
             "#9c179e"
            ],
            [
             0.4444444444444444,
             "#bd3786"
            ],
            [
             0.5555555555555556,
             "#d8576b"
            ],
            [
             0.6666666666666666,
             "#ed7953"
            ],
            [
             0.7777777777777778,
             "#fb9f3a"
            ],
            [
             0.8888888888888888,
             "#fdca26"
            ],
            [
             1,
             "#f0f921"
            ]
           ],
           "sequentialminus": [
            [
             0,
             "#0d0887"
            ],
            [
             0.1111111111111111,
             "#46039f"
            ],
            [
             0.2222222222222222,
             "#7201a8"
            ],
            [
             0.3333333333333333,
             "#9c179e"
            ],
            [
             0.4444444444444444,
             "#bd3786"
            ],
            [
             0.5555555555555556,
             "#d8576b"
            ],
            [
             0.6666666666666666,
             "#ed7953"
            ],
            [
             0.7777777777777778,
             "#fb9f3a"
            ],
            [
             0.8888888888888888,
             "#fdca26"
            ],
            [
             1,
             "#f0f921"
            ]
           ]
          },
          "colorway": [
           "#636efa",
           "#EF553B",
           "#00cc96",
           "#ab63fa",
           "#FFA15A",
           "#19d3f3",
           "#FF6692",
           "#B6E880",
           "#FF97FF",
           "#FECB52"
          ],
          "font": {
           "color": "#2a3f5f"
          },
          "geo": {
           "bgcolor": "white",
           "lakecolor": "white",
           "landcolor": "#E5ECF6",
           "showlakes": true,
           "showland": true,
           "subunitcolor": "white"
          },
          "hoverlabel": {
           "align": "left"
          },
          "hovermode": "closest",
          "mapbox": {
           "style": "light"
          },
          "paper_bgcolor": "white",
          "plot_bgcolor": "#E5ECF6",
          "polar": {
           "angularaxis": {
            "gridcolor": "white",
            "linecolor": "white",
            "ticks": ""
           },
           "bgcolor": "#E5ECF6",
           "radialaxis": {
            "gridcolor": "white",
            "linecolor": "white",
            "ticks": ""
           }
          },
          "scene": {
           "xaxis": {
            "backgroundcolor": "#E5ECF6",
            "gridcolor": "white",
            "gridwidth": 2,
            "linecolor": "white",
            "showbackground": true,
            "ticks": "",
            "zerolinecolor": "white"
           },
           "yaxis": {
            "backgroundcolor": "#E5ECF6",
            "gridcolor": "white",
            "gridwidth": 2,
            "linecolor": "white",
            "showbackground": true,
            "ticks": "",
            "zerolinecolor": "white"
           },
           "zaxis": {
            "backgroundcolor": "#E5ECF6",
            "gridcolor": "white",
            "gridwidth": 2,
            "linecolor": "white",
            "showbackground": true,
            "ticks": "",
            "zerolinecolor": "white"
           }
          },
          "shapedefaults": {
           "line": {
            "color": "#2a3f5f"
           }
          },
          "ternary": {
           "aaxis": {
            "gridcolor": "white",
            "linecolor": "white",
            "ticks": ""
           },
           "baxis": {
            "gridcolor": "white",
            "linecolor": "white",
            "ticks": ""
           },
           "bgcolor": "#E5ECF6",
           "caxis": {
            "gridcolor": "white",
            "linecolor": "white",
            "ticks": ""
           }
          },
          "title": {
           "x": 0.05
          },
          "xaxis": {
           "automargin": true,
           "gridcolor": "white",
           "linecolor": "white",
           "ticks": "",
           "title": {
            "standoff": 15
           },
           "zerolinecolor": "white",
           "zerolinewidth": 2
          },
          "yaxis": {
           "automargin": true,
           "gridcolor": "white",
           "linecolor": "white",
           "ticks": "",
           "title": {
            "standoff": 15
           },
           "zerolinecolor": "white",
           "zerolinewidth": 2
          }
         }
        },
        "title": {
         "text": "Cost function values for training iterations"
        },
        "xaxis": {
         "anchor": "y",
         "domain": [
          0,
          1
         ],
         "title": {
          "text": "iteration"
         }
        },
        "yaxis": {
         "anchor": "x",
         "domain": [
          0,
          1
         ],
         "title": {
          "text": "cost"
         }
        }
       }
      }
     },
     "metadata": {},
     "output_type": "display_data"
    }
   ],
   "source": [
    "visualize_cost(cd.costs)"
   ]
  },
  {
   "cell_type": "markdown",
   "metadata": {},
   "source": [
    "### 3b. Cyclic index selection method"
   ]
  },
  {
   "cell_type": "code",
   "execution_count": 120,
   "metadata": {},
   "outputs": [
    {
     "name": "stderr",
     "output_type": "stream",
     "text": [
      "100%|██████████| 100/100 [00:08<00:00, 11.95it/s]\n"
     ]
    }
   ],
   "source": [
    "lambda_ = 0.001\n",
    "cd = CoordinateDescent(lambda_=lambda_)\n",
    "cd.fit(X, y, iters=100, tol=10e-12, method='cyclic')\n",
    "blog_cyclic_theta = cd.theta\n"
   ]
  },
  {
   "cell_type": "code",
   "execution_count": 122,
   "metadata": {},
   "outputs": [
    {
     "data": {
      "text/plain": [
       "array([ 0.00000000e+00,  2.57445332e+00,  1.90492387e+00,  0.00000000e+00,\n",
       "        0.00000000e+00,  0.00000000e+00,  0.00000000e+00,  0.00000000e+00,\n",
       "        0.00000000e+00,  0.00000000e+00,  0.00000000e+00,  0.00000000e+00,\n",
       "        0.00000000e+00,  0.00000000e+00,  0.00000000e+00,  0.00000000e+00,\n",
       "        0.00000000e+00,  2.19927290e-01, -1.32342753e+01,  0.00000000e+00,\n",
       "        5.87275173e+00,  0.00000000e+00,  0.00000000e+00,  0.00000000e+00,\n",
       "        0.00000000e+00,  0.00000000e+00,  0.00000000e+00, -1.24202533e+01,\n",
       "        0.00000000e+00,  0.00000000e+00,  0.00000000e+00, -4.52561300e+00,\n",
       "        0.00000000e+00,  0.00000000e+00,  1.75438306e+00, -1.48655345e+01,\n",
       "        7.89755665e+00,  0.00000000e+00,  0.00000000e+00,  0.00000000e+00,\n",
       "        0.00000000e+00,  0.00000000e+00, -4.16753603e+00,  0.00000000e+00,\n",
       "        0.00000000e+00,  0.00000000e+00,  0.00000000e+00,  0.00000000e+00,\n",
       "       -1.06169835e+00,  0.00000000e+00,  0.00000000e+00,  0.00000000e+00,\n",
       "        2.13272803e+00,  3.50370496e+00, -6.62736003e-02,  2.42991140e+00,\n",
       "        0.00000000e+00,  0.00000000e+00,  0.00000000e+00,  0.00000000e+00,\n",
       "       -9.51063026e-02, -1.88662236e-01,  0.00000000e+00,  0.00000000e+00,\n",
       "        0.00000000e+00,  0.00000000e+00,  0.00000000e+00,  0.00000000e+00,\n",
       "        1.01891567e+02,  3.41505784e+02,  0.00000000e+00,  0.00000000e+00,\n",
       "        0.00000000e+00,  0.00000000e+00, -3.37588205e+01,  9.21478656e+02,\n",
       "        0.00000000e+00,  1.77550429e+02,  0.00000000e+00,  0.00000000e+00,\n",
       "        0.00000000e+00,  0.00000000e+00,  0.00000000e+00,  0.00000000e+00,\n",
       "        0.00000000e+00,  0.00000000e+00,  0.00000000e+00,  0.00000000e+00,\n",
       "        0.00000000e+00,  0.00000000e+00,  0.00000000e+00,  0.00000000e+00,\n",
       "        0.00000000e+00,  0.00000000e+00,  0.00000000e+00,  0.00000000e+00,\n",
       "        5.21369360e+01,  0.00000000e+00,  0.00000000e+00,  0.00000000e+00,\n",
       "        0.00000000e+00,  0.00000000e+00,  1.04557800e+02,  6.91769343e+02,\n",
       "        0.00000000e+00,  0.00000000e+00,  0.00000000e+00,  0.00000000e+00,\n",
       "        0.00000000e+00,  0.00000000e+00,  0.00000000e+00, -7.21273198e+01,\n",
       "        0.00000000e+00,  0.00000000e+00,  1.44038690e+02,  0.00000000e+00,\n",
       "        5.65648614e+01,  5.05206897e+02,  0.00000000e+00,  0.00000000e+00,\n",
       "        5.50182023e+01,  0.00000000e+00,  1.22341825e+02,  0.00000000e+00,\n",
       "       -2.57644068e+02,  0.00000000e+00,  0.00000000e+00,  3.01619074e+02,\n",
       "        0.00000000e+00,  0.00000000e+00,  0.00000000e+00,  0.00000000e+00,\n",
       "        0.00000000e+00,  0.00000000e+00,  0.00000000e+00,  1.16626187e+02,\n",
       "        0.00000000e+00,  0.00000000e+00,  0.00000000e+00,  4.54080576e+02,\n",
       "        0.00000000e+00,  0.00000000e+00,  2.08454825e+02, -5.36701740e+00,\n",
       "        0.00000000e+00,  2.26282056e+02,  0.00000000e+00,  3.17180306e+01,\n",
       "        0.00000000e+00,  0.00000000e+00,  4.23684330e+01,  5.29374002e+01,\n",
       "        0.00000000e+00,  3.31073940e+01,  8.44109399e+01,  0.00000000e+00,\n",
       "        0.00000000e+00,  0.00000000e+00,  0.00000000e+00,  0.00000000e+00,\n",
       "        0.00000000e+00, -5.29374002e+01,  1.00065092e+02,  0.00000000e+00,\n",
       "        0.00000000e+00, -1.32353885e+00, -1.12918836e+03,  0.00000000e+00,\n",
       "        0.00000000e+00,  0.00000000e+00,  0.00000000e+00,  1.80969286e+02,\n",
       "        0.00000000e+00,  0.00000000e+00,  0.00000000e+00,  0.00000000e+00,\n",
       "        1.97420154e+02,  0.00000000e+00,  0.00000000e+00,  0.00000000e+00,\n",
       "        0.00000000e+00,  2.05532906e+02,  0.00000000e+00,  0.00000000e+00,\n",
       "        0.00000000e+00,  0.00000000e+00,  0.00000000e+00,  0.00000000e+00,\n",
       "        0.00000000e+00,  2.62887883e+02,  0.00000000e+00,  0.00000000e+00,\n",
       "        0.00000000e+00,  0.00000000e+00,  5.73034181e+02,  0.00000000e+00,\n",
       "        0.00000000e+00,  0.00000000e+00,  0.00000000e+00,  0.00000000e+00,\n",
       "        0.00000000e+00,  0.00000000e+00,  2.86408431e+02, -6.94307872e+01,\n",
       "        0.00000000e+00,  2.21703244e+02,  1.91849903e+02,  0.00000000e+00,\n",
       "        5.34124700e+01,  1.62921042e+02,  0.00000000e+00,  0.00000000e+00,\n",
       "        0.00000000e+00,  0.00000000e+00,  0.00000000e+00,  0.00000000e+00,\n",
       "        0.00000000e+00,  0.00000000e+00,  1.09301626e+03,  0.00000000e+00,\n",
       "        0.00000000e+00,  0.00000000e+00,  0.00000000e+00,  0.00000000e+00,\n",
       "        0.00000000e+00,  0.00000000e+00,  0.00000000e+00,  0.00000000e+00,\n",
       "        0.00000000e+00,  0.00000000e+00,  0.00000000e+00,  5.73533024e+02,\n",
       "        0.00000000e+00,  0.00000000e+00,  0.00000000e+00,  1.22117977e+03,\n",
       "       -4.96094406e+03,  4.23800690e+02,  1.62221376e+02,  0.00000000e+00,\n",
       "        0.00000000e+00,  0.00000000e+00,  2.42257421e+02,  0.00000000e+00,\n",
       "       -3.70378984e+02,  0.00000000e+00, -2.96842302e+01,  0.00000000e+00,\n",
       "        0.00000000e+00,  0.00000000e+00, -1.40720375e+03,  0.00000000e+00,\n",
       "        0.00000000e+00,  0.00000000e+00,  0.00000000e+00,  0.00000000e+00,\n",
       "        0.00000000e+00,  0.00000000e+00,  0.00000000e+00,  0.00000000e+00,\n",
       "        3.08884354e+02,  0.00000000e+00, -1.81580857e+02,  0.00000000e+00,\n",
       "       -5.07355903e+00, -5.61671109e+00,  0.00000000e+00,  0.00000000e+00,\n",
       "        0.00000000e+00,  0.00000000e+00,  4.42687578e+00,  0.00000000e+00,\n",
       "        0.00000000e+00, -2.29695899e+00,  0.00000000e+00,  0.00000000e+00,\n",
       "        0.00000000e+00,  0.00000000e+00,  0.00000000e+00,  0.00000000e+00,\n",
       "        0.00000000e+00])"
      ]
     },
     "execution_count": 122,
     "metadata": {},
     "output_type": "execute_result"
    }
   ],
   "source": [
    "blog_cyclic_theta"
   ]
  },
  {
   "cell_type": "markdown",
   "metadata": {},
   "source": [
    "Number of irrelevant features:"
   ]
  },
  {
   "cell_type": "code",
   "execution_count": 123,
   "metadata": {},
   "outputs": [
    {
     "data": {
      "text/plain": [
       "206"
      ]
     },
     "execution_count": 123,
     "metadata": {},
     "output_type": "execute_result"
    }
   ],
   "source": [
    "np.count_nonzero(np.abs(blog_cyclic_theta) < 10**-12)"
   ]
  },
  {
   "cell_type": "code",
   "execution_count": 121,
   "metadata": {},
   "outputs": [
    {
     "data": {
      "application/vnd.plotly.v1+json": {
       "config": {
        "plotlyServerURL": "https://plot.ly"
       },
       "data": [
        {
         "legendgroup": "",
         "line": {
          "color": "#636efa",
          "dash": "solid"
         },
         "marker": {
          "symbol": "circle"
         },
         "mode": "markers+lines",
         "name": "",
         "orientation": "v",
         "showlegend": false,
         "type": "scatter",
         "x": [
          0,
          1,
          2,
          3,
          4,
          5,
          6,
          7,
          8,
          9,
          10,
          11,
          12,
          13,
          14,
          15,
          16,
          17,
          18,
          19,
          20,
          21,
          22,
          23,
          24,
          25,
          26,
          27,
          28,
          29,
          30,
          31,
          32,
          33,
          34,
          35,
          36,
          37,
          38,
          39,
          40,
          41,
          42,
          43,
          44,
          45,
          46,
          47,
          48,
          49,
          50,
          51,
          52,
          53,
          54,
          55,
          56,
          57,
          58,
          59,
          60,
          61,
          62,
          63,
          64,
          65,
          66,
          67,
          68,
          69,
          70,
          71,
          72,
          73,
          74,
          75,
          76,
          77,
          78,
          79,
          80,
          81,
          82,
          83,
          84,
          85,
          86,
          87,
          88,
          89,
          90,
          91,
          92,
          93,
          94,
          95,
          96,
          97,
          98,
          99,
          100
         ],
         "xaxis": "x",
         "y": [
          18838,
          18827.880740199016,
          18824.231403298567,
          18824.231403298567,
          18731.284419800497,
          18462.695826913852,
          18449.6444777885,
          18440.83259178487,
          18440.826620097898,
          18223.83442477681,
          17794.255142013593,
          17766.736075294037,
          17766.736075294037,
          17756.613304287184,
          15229.939934907472,
          15228.471139234829,
          15228.471139234829,
          15217.95747106843,
          14873.812710758364,
          14872.978713081246,
          14620.472770340564,
          14620.150759040915,
          14620.150759040915,
          14612.78550508115,
          14611.733253111672,
          14504.744641119854,
          14501.916195933509,
          13919.643983214044,
          13554.546328807708,
          13554.546328807708,
          13542.221244822776,
          13535.074727509851,
          13109.102172739196,
          13109.02778636161,
          12963.463932224893,
          12962.598073706511,
          12943.243037166378,
          12937.96512838574,
          12928.754062543443,
          12928.754062543443,
          12911.682680267862,
          12827.27892962116,
          12827.225245824646,
          12827.225245824646,
          12825.137370059107,
          12787.97541465581,
          12787.192503563016,
          12787.019721480146,
          12780.850919892435,
          12780.758224581494,
          12778.979844428803,
          12778.900312024009,
          12778.898981401537,
          12778.898036280632,
          12776.270450435597,
          12770.843366270088,
          12672.67888467485,
          12672.20205803038,
          12672.20205803038,
          12660.768895741101,
          12658.499930952219,
          12646.922894380257,
          12641.906140981564,
          12641.906140981564,
          12636.203801506075,
          12636.04238015821,
          12374.556212188312,
          12045.244513591453,
          12041.881231361089,
          12041.40541297684,
          11991.681278108532,
          11991.40416298283,
          11990.162566335908,
          11989.772510181021,
          11940.029787074283,
          11939.585324995598,
          11921.24677170131,
          11921.177835583745,
          11914.961842651515,
          11914.590172065702,
          11910.372996735065,
          11910.412293202873,
          11892.933793258166,
          11890.234794017775,
          11888.577744491968,
          11888.260680381465,
          11876.374690576768,
          11867.012060246074,
          11865.077434530851,
          11862.65320402076,
          11862.616011628257,
          11858.96708418764,
          11858.967009006843,
          11858.81920449191,
          11858.591454172463,
          11855.50256883443,
          11855.300349316962,
          11844.58730570195,
          11844.58730570195,
          11844.58730570195,
          11844.130011410012
         ],
         "yaxis": "y"
        }
       ],
       "layout": {
        "hovermode": "x",
        "legend": {
         "tracegroupgap": 0
        },
        "margin": {
         "t": 60
        },
        "template": {
         "data": {
          "bar": [
           {
            "error_x": {
             "color": "#2a3f5f"
            },
            "error_y": {
             "color": "#2a3f5f"
            },
            "marker": {
             "line": {
              "color": "#E5ECF6",
              "width": 0.5
             },
             "pattern": {
              "fillmode": "overlay",
              "size": 10,
              "solidity": 0.2
             }
            },
            "type": "bar"
           }
          ],
          "barpolar": [
           {
            "marker": {
             "line": {
              "color": "#E5ECF6",
              "width": 0.5
             },
             "pattern": {
              "fillmode": "overlay",
              "size": 10,
              "solidity": 0.2
             }
            },
            "type": "barpolar"
           }
          ],
          "carpet": [
           {
            "aaxis": {
             "endlinecolor": "#2a3f5f",
             "gridcolor": "white",
             "linecolor": "white",
             "minorgridcolor": "white",
             "startlinecolor": "#2a3f5f"
            },
            "baxis": {
             "endlinecolor": "#2a3f5f",
             "gridcolor": "white",
             "linecolor": "white",
             "minorgridcolor": "white",
             "startlinecolor": "#2a3f5f"
            },
            "type": "carpet"
           }
          ],
          "choropleth": [
           {
            "colorbar": {
             "outlinewidth": 0,
             "ticks": ""
            },
            "type": "choropleth"
           }
          ],
          "contour": [
           {
            "colorbar": {
             "outlinewidth": 0,
             "ticks": ""
            },
            "colorscale": [
             [
              0,
              "#0d0887"
             ],
             [
              0.1111111111111111,
              "#46039f"
             ],
             [
              0.2222222222222222,
              "#7201a8"
             ],
             [
              0.3333333333333333,
              "#9c179e"
             ],
             [
              0.4444444444444444,
              "#bd3786"
             ],
             [
              0.5555555555555556,
              "#d8576b"
             ],
             [
              0.6666666666666666,
              "#ed7953"
             ],
             [
              0.7777777777777778,
              "#fb9f3a"
             ],
             [
              0.8888888888888888,
              "#fdca26"
             ],
             [
              1,
              "#f0f921"
             ]
            ],
            "type": "contour"
           }
          ],
          "contourcarpet": [
           {
            "colorbar": {
             "outlinewidth": 0,
             "ticks": ""
            },
            "type": "contourcarpet"
           }
          ],
          "heatmap": [
           {
            "colorbar": {
             "outlinewidth": 0,
             "ticks": ""
            },
            "colorscale": [
             [
              0,
              "#0d0887"
             ],
             [
              0.1111111111111111,
              "#46039f"
             ],
             [
              0.2222222222222222,
              "#7201a8"
             ],
             [
              0.3333333333333333,
              "#9c179e"
             ],
             [
              0.4444444444444444,
              "#bd3786"
             ],
             [
              0.5555555555555556,
              "#d8576b"
             ],
             [
              0.6666666666666666,
              "#ed7953"
             ],
             [
              0.7777777777777778,
              "#fb9f3a"
             ],
             [
              0.8888888888888888,
              "#fdca26"
             ],
             [
              1,
              "#f0f921"
             ]
            ],
            "type": "heatmap"
           }
          ],
          "heatmapgl": [
           {
            "colorbar": {
             "outlinewidth": 0,
             "ticks": ""
            },
            "colorscale": [
             [
              0,
              "#0d0887"
             ],
             [
              0.1111111111111111,
              "#46039f"
             ],
             [
              0.2222222222222222,
              "#7201a8"
             ],
             [
              0.3333333333333333,
              "#9c179e"
             ],
             [
              0.4444444444444444,
              "#bd3786"
             ],
             [
              0.5555555555555556,
              "#d8576b"
             ],
             [
              0.6666666666666666,
              "#ed7953"
             ],
             [
              0.7777777777777778,
              "#fb9f3a"
             ],
             [
              0.8888888888888888,
              "#fdca26"
             ],
             [
              1,
              "#f0f921"
             ]
            ],
            "type": "heatmapgl"
           }
          ],
          "histogram": [
           {
            "marker": {
             "pattern": {
              "fillmode": "overlay",
              "size": 10,
              "solidity": 0.2
             }
            },
            "type": "histogram"
           }
          ],
          "histogram2d": [
           {
            "colorbar": {
             "outlinewidth": 0,
             "ticks": ""
            },
            "colorscale": [
             [
              0,
              "#0d0887"
             ],
             [
              0.1111111111111111,
              "#46039f"
             ],
             [
              0.2222222222222222,
              "#7201a8"
             ],
             [
              0.3333333333333333,
              "#9c179e"
             ],
             [
              0.4444444444444444,
              "#bd3786"
             ],
             [
              0.5555555555555556,
              "#d8576b"
             ],
             [
              0.6666666666666666,
              "#ed7953"
             ],
             [
              0.7777777777777778,
              "#fb9f3a"
             ],
             [
              0.8888888888888888,
              "#fdca26"
             ],
             [
              1,
              "#f0f921"
             ]
            ],
            "type": "histogram2d"
           }
          ],
          "histogram2dcontour": [
           {
            "colorbar": {
             "outlinewidth": 0,
             "ticks": ""
            },
            "colorscale": [
             [
              0,
              "#0d0887"
             ],
             [
              0.1111111111111111,
              "#46039f"
             ],
             [
              0.2222222222222222,
              "#7201a8"
             ],
             [
              0.3333333333333333,
              "#9c179e"
             ],
             [
              0.4444444444444444,
              "#bd3786"
             ],
             [
              0.5555555555555556,
              "#d8576b"
             ],
             [
              0.6666666666666666,
              "#ed7953"
             ],
             [
              0.7777777777777778,
              "#fb9f3a"
             ],
             [
              0.8888888888888888,
              "#fdca26"
             ],
             [
              1,
              "#f0f921"
             ]
            ],
            "type": "histogram2dcontour"
           }
          ],
          "mesh3d": [
           {
            "colorbar": {
             "outlinewidth": 0,
             "ticks": ""
            },
            "type": "mesh3d"
           }
          ],
          "parcoords": [
           {
            "line": {
             "colorbar": {
              "outlinewidth": 0,
              "ticks": ""
             }
            },
            "type": "parcoords"
           }
          ],
          "pie": [
           {
            "automargin": true,
            "type": "pie"
           }
          ],
          "scatter": [
           {
            "marker": {
             "colorbar": {
              "outlinewidth": 0,
              "ticks": ""
             }
            },
            "type": "scatter"
           }
          ],
          "scatter3d": [
           {
            "line": {
             "colorbar": {
              "outlinewidth": 0,
              "ticks": ""
             }
            },
            "marker": {
             "colorbar": {
              "outlinewidth": 0,
              "ticks": ""
             }
            },
            "type": "scatter3d"
           }
          ],
          "scattercarpet": [
           {
            "marker": {
             "colorbar": {
              "outlinewidth": 0,
              "ticks": ""
             }
            },
            "type": "scattercarpet"
           }
          ],
          "scattergeo": [
           {
            "marker": {
             "colorbar": {
              "outlinewidth": 0,
              "ticks": ""
             }
            },
            "type": "scattergeo"
           }
          ],
          "scattergl": [
           {
            "marker": {
             "colorbar": {
              "outlinewidth": 0,
              "ticks": ""
             }
            },
            "type": "scattergl"
           }
          ],
          "scattermapbox": [
           {
            "marker": {
             "colorbar": {
              "outlinewidth": 0,
              "ticks": ""
             }
            },
            "type": "scattermapbox"
           }
          ],
          "scatterpolar": [
           {
            "marker": {
             "colorbar": {
              "outlinewidth": 0,
              "ticks": ""
             }
            },
            "type": "scatterpolar"
           }
          ],
          "scatterpolargl": [
           {
            "marker": {
             "colorbar": {
              "outlinewidth": 0,
              "ticks": ""
             }
            },
            "type": "scatterpolargl"
           }
          ],
          "scatterternary": [
           {
            "marker": {
             "colorbar": {
              "outlinewidth": 0,
              "ticks": ""
             }
            },
            "type": "scatterternary"
           }
          ],
          "surface": [
           {
            "colorbar": {
             "outlinewidth": 0,
             "ticks": ""
            },
            "colorscale": [
             [
              0,
              "#0d0887"
             ],
             [
              0.1111111111111111,
              "#46039f"
             ],
             [
              0.2222222222222222,
              "#7201a8"
             ],
             [
              0.3333333333333333,
              "#9c179e"
             ],
             [
              0.4444444444444444,
              "#bd3786"
             ],
             [
              0.5555555555555556,
              "#d8576b"
             ],
             [
              0.6666666666666666,
              "#ed7953"
             ],
             [
              0.7777777777777778,
              "#fb9f3a"
             ],
             [
              0.8888888888888888,
              "#fdca26"
             ],
             [
              1,
              "#f0f921"
             ]
            ],
            "type": "surface"
           }
          ],
          "table": [
           {
            "cells": {
             "fill": {
              "color": "#EBF0F8"
             },
             "line": {
              "color": "white"
             }
            },
            "header": {
             "fill": {
              "color": "#C8D4E3"
             },
             "line": {
              "color": "white"
             }
            },
            "type": "table"
           }
          ]
         },
         "layout": {
          "annotationdefaults": {
           "arrowcolor": "#2a3f5f",
           "arrowhead": 0,
           "arrowwidth": 1
          },
          "autotypenumbers": "strict",
          "coloraxis": {
           "colorbar": {
            "outlinewidth": 0,
            "ticks": ""
           }
          },
          "colorscale": {
           "diverging": [
            [
             0,
             "#8e0152"
            ],
            [
             0.1,
             "#c51b7d"
            ],
            [
             0.2,
             "#de77ae"
            ],
            [
             0.3,
             "#f1b6da"
            ],
            [
             0.4,
             "#fde0ef"
            ],
            [
             0.5,
             "#f7f7f7"
            ],
            [
             0.6,
             "#e6f5d0"
            ],
            [
             0.7,
             "#b8e186"
            ],
            [
             0.8,
             "#7fbc41"
            ],
            [
             0.9,
             "#4d9221"
            ],
            [
             1,
             "#276419"
            ]
           ],
           "sequential": [
            [
             0,
             "#0d0887"
            ],
            [
             0.1111111111111111,
             "#46039f"
            ],
            [
             0.2222222222222222,
             "#7201a8"
            ],
            [
             0.3333333333333333,
             "#9c179e"
            ],
            [
             0.4444444444444444,
             "#bd3786"
            ],
            [
             0.5555555555555556,
             "#d8576b"
            ],
            [
             0.6666666666666666,
             "#ed7953"
            ],
            [
             0.7777777777777778,
             "#fb9f3a"
            ],
            [
             0.8888888888888888,
             "#fdca26"
            ],
            [
             1,
             "#f0f921"
            ]
           ],
           "sequentialminus": [
            [
             0,
             "#0d0887"
            ],
            [
             0.1111111111111111,
             "#46039f"
            ],
            [
             0.2222222222222222,
             "#7201a8"
            ],
            [
             0.3333333333333333,
             "#9c179e"
            ],
            [
             0.4444444444444444,
             "#bd3786"
            ],
            [
             0.5555555555555556,
             "#d8576b"
            ],
            [
             0.6666666666666666,
             "#ed7953"
            ],
            [
             0.7777777777777778,
             "#fb9f3a"
            ],
            [
             0.8888888888888888,
             "#fdca26"
            ],
            [
             1,
             "#f0f921"
            ]
           ]
          },
          "colorway": [
           "#636efa",
           "#EF553B",
           "#00cc96",
           "#ab63fa",
           "#FFA15A",
           "#19d3f3",
           "#FF6692",
           "#B6E880",
           "#FF97FF",
           "#FECB52"
          ],
          "font": {
           "color": "#2a3f5f"
          },
          "geo": {
           "bgcolor": "white",
           "lakecolor": "white",
           "landcolor": "#E5ECF6",
           "showlakes": true,
           "showland": true,
           "subunitcolor": "white"
          },
          "hoverlabel": {
           "align": "left"
          },
          "hovermode": "closest",
          "mapbox": {
           "style": "light"
          },
          "paper_bgcolor": "white",
          "plot_bgcolor": "#E5ECF6",
          "polar": {
           "angularaxis": {
            "gridcolor": "white",
            "linecolor": "white",
            "ticks": ""
           },
           "bgcolor": "#E5ECF6",
           "radialaxis": {
            "gridcolor": "white",
            "linecolor": "white",
            "ticks": ""
           }
          },
          "scene": {
           "xaxis": {
            "backgroundcolor": "#E5ECF6",
            "gridcolor": "white",
            "gridwidth": 2,
            "linecolor": "white",
            "showbackground": true,
            "ticks": "",
            "zerolinecolor": "white"
           },
           "yaxis": {
            "backgroundcolor": "#E5ECF6",
            "gridcolor": "white",
            "gridwidth": 2,
            "linecolor": "white",
            "showbackground": true,
            "ticks": "",
            "zerolinecolor": "white"
           },
           "zaxis": {
            "backgroundcolor": "#E5ECF6",
            "gridcolor": "white",
            "gridwidth": 2,
            "linecolor": "white",
            "showbackground": true,
            "ticks": "",
            "zerolinecolor": "white"
           }
          },
          "shapedefaults": {
           "line": {
            "color": "#2a3f5f"
           }
          },
          "ternary": {
           "aaxis": {
            "gridcolor": "white",
            "linecolor": "white",
            "ticks": ""
           },
           "baxis": {
            "gridcolor": "white",
            "linecolor": "white",
            "ticks": ""
           },
           "bgcolor": "#E5ECF6",
           "caxis": {
            "gridcolor": "white",
            "linecolor": "white",
            "ticks": ""
           }
          },
          "title": {
           "x": 0.05
          },
          "xaxis": {
           "automargin": true,
           "gridcolor": "white",
           "linecolor": "white",
           "ticks": "",
           "title": {
            "standoff": 15
           },
           "zerolinecolor": "white",
           "zerolinewidth": 2
          },
          "yaxis": {
           "automargin": true,
           "gridcolor": "white",
           "linecolor": "white",
           "ticks": "",
           "title": {
            "standoff": 15
           },
           "zerolinecolor": "white",
           "zerolinewidth": 2
          }
         }
        },
        "title": {
         "text": "Cost function values for training iterations"
        },
        "xaxis": {
         "anchor": "y",
         "domain": [
          0,
          1
         ],
         "title": {
          "text": "iteration"
         }
        },
        "yaxis": {
         "anchor": "x",
         "domain": [
          0,
          1
         ],
         "title": {
          "text": "cost"
         }
        }
       }
      }
     },
     "metadata": {},
     "output_type": "display_data"
    }
   ],
   "source": [
    "visualize_cost(cd.costs)"
   ]
  },
  {
   "cell_type": "markdown",
   "metadata": {},
   "source": [
    "### 3c. Randomized index selection method"
   ]
  },
  {
   "cell_type": "code",
   "execution_count": 129,
   "metadata": {},
   "outputs": [
    {
     "name": "stderr",
     "output_type": "stream",
     "text": [
      "100%|██████████| 100/100 [00:07<00:00, 12.74it/s]\n"
     ]
    }
   ],
   "source": [
    "lambda_ = 0.001\n",
    "cd = CoordinateDescent(lambda_ = lambda_)\n",
    "cd.fit(X, y, iters=100, tol = 10e-12, method='randomized')\n",
    "blog_randomized_theta = cd.theta"
   ]
  },
  {
   "cell_type": "code",
   "execution_count": 130,
   "metadata": {},
   "outputs": [
    {
     "data": {
      "text/plain": [
       "array([-8.92307636e+00,  0.00000000e+00,  0.00000000e+00,  0.00000000e+00,\n",
       "        0.00000000e+00,  7.37295098e-01,  0.00000000e+00,  1.28658539e+01,\n",
       "        0.00000000e+00,  0.00000000e+00,  4.50289294e+00,  0.00000000e+00,\n",
       "        0.00000000e+00,  0.00000000e+00,  0.00000000e+00,  0.00000000e+00,\n",
       "        0.00000000e+00,  0.00000000e+00,  0.00000000e+00,  0.00000000e+00,\n",
       "        0.00000000e+00,  6.35357458e+00,  0.00000000e+00,  0.00000000e+00,\n",
       "        0.00000000e+00,  0.00000000e+00,  0.00000000e+00,  0.00000000e+00,\n",
       "        0.00000000e+00,  0.00000000e+00, -9.13374223e+00, -1.02909651e+00,\n",
       "        9.47703980e-01,  0.00000000e+00,  0.00000000e+00,  0.00000000e+00,\n",
       "        0.00000000e+00,  1.73571474e+01,  0.00000000e+00,  7.89458764e-01,\n",
       "        0.00000000e+00,  0.00000000e+00, -6.27276917e+00, -1.10032567e+01,\n",
       "        1.12551435e+00,  0.00000000e+00,  0.00000000e+00, -2.26675406e+00,\n",
       "        0.00000000e+00, -2.09372763e+00,  0.00000000e+00,  0.00000000e+00,\n",
       "        0.00000000e+00,  0.00000000e+00,  0.00000000e+00,  0.00000000e+00,\n",
       "        0.00000000e+00,  0.00000000e+00,  0.00000000e+00,  8.77547647e+00,\n",
       "        3.00609949e+00,  0.00000000e+00,  0.00000000e+00,  0.00000000e+00,\n",
       "        0.00000000e+00, -3.66649733e+03,  0.00000000e+00,  0.00000000e+00,\n",
       "        0.00000000e+00,  0.00000000e+00,  0.00000000e+00,  0.00000000e+00,\n",
       "        0.00000000e+00,  0.00000000e+00,  0.00000000e+00,  0.00000000e+00,\n",
       "        0.00000000e+00,  0.00000000e+00,  0.00000000e+00,  2.18869262e+02,\n",
       "        0.00000000e+00,  0.00000000e+00,  0.00000000e+00,  0.00000000e+00,\n",
       "        0.00000000e+00,  0.00000000e+00,  1.54131593e+02, -1.98381555e+02,\n",
       "        0.00000000e+00,  0.00000000e+00,  0.00000000e+00,  8.21773994e+02,\n",
       "        0.00000000e+00,  0.00000000e+00,  0.00000000e+00,  0.00000000e+00,\n",
       "        0.00000000e+00,  0.00000000e+00,  0.00000000e+00,  0.00000000e+00,\n",
       "        8.50196808e+01,  8.79259369e+01,  0.00000000e+00,  2.05950795e+02,\n",
       "        0.00000000e+00,  0.00000000e+00,  0.00000000e+00,  0.00000000e+00,\n",
       "        0.00000000e+00,  0.00000000e+00,  1.07496568e+02,  0.00000000e+00,\n",
       "        0.00000000e+00,  0.00000000e+00,  0.00000000e+00,  1.46509595e+02,\n",
       "        5.30989099e+01,  0.00000000e+00,  0.00000000e+00,  0.00000000e+00,\n",
       "        2.75970583e+02,  5.14696455e+02,  9.87534090e+01,  0.00000000e+00,\n",
       "        0.00000000e+00,  0.00000000e+00,  0.00000000e+00,  7.12384419e+02,\n",
       "        0.00000000e+00,  0.00000000e+00,  0.00000000e+00,  1.40793764e+02,\n",
       "        0.00000000e+00,  0.00000000e+00,  0.00000000e+00,  1.61194962e+02,\n",
       "        0.00000000e+00,  0.00000000e+00,  0.00000000e+00,  0.00000000e+00,\n",
       "        0.00000000e+00,  0.00000000e+00,  1.98827880e+02,  0.00000000e+00,\n",
       "        0.00000000e+00,  1.68649675e+02, -3.07813609e+01,  0.00000000e+00,\n",
       "        0.00000000e+00,  0.00000000e+00,  0.00000000e+00,  0.00000000e+00,\n",
       "        0.00000000e+00,  2.79839627e+01,  0.00000000e+00,  0.00000000e+00,\n",
       "        0.00000000e+00,  0.00000000e+00,  0.00000000e+00,  0.00000000e+00,\n",
       "        0.00000000e+00,  0.00000000e+00,  2.09361662e+02,  2.82018792e+02,\n",
       "        0.00000000e+00,  0.00000000e+00,  0.00000000e+00,  0.00000000e+00,\n",
       "       -2.99323177e+02, -5.71491862e+02,  2.29219987e+02,  0.00000000e+00,\n",
       "       -7.86616553e+02,  0.00000000e+00,  0.00000000e+00,  0.00000000e+00,\n",
       "        0.00000000e+00,  0.00000000e+00, -1.87984100e+02,  0.00000000e+00,\n",
       "        0.00000000e+00,  0.00000000e+00,  5.13200602e+02,  2.42304864e+02,\n",
       "        0.00000000e+00,  0.00000000e+00,  0.00000000e+00,  0.00000000e+00,\n",
       "        0.00000000e+00,  0.00000000e+00,  0.00000000e+00,  0.00000000e+00,\n",
       "        0.00000000e+00,  0.00000000e+00,  0.00000000e+00,  3.62877130e+02,\n",
       "        5.76792126e+01,  0.00000000e+00,  0.00000000e+00,  0.00000000e+00,\n",
       "        0.00000000e+00,  0.00000000e+00,  0.00000000e+00, -8.86118985e+01,\n",
       "        0.00000000e+00,  6.13049599e+02,  0.00000000e+00,  0.00000000e+00,\n",
       "        0.00000000e+00,  7.24629151e+02,  0.00000000e+00,  0.00000000e+00,\n",
       "        0.00000000e+00,  0.00000000e+00,  0.00000000e+00,  0.00000000e+00,\n",
       "        0.00000000e+00,  0.00000000e+00,  0.00000000e+00,  0.00000000e+00,\n",
       "        0.00000000e+00,  0.00000000e+00,  0.00000000e+00,  0.00000000e+00,\n",
       "        0.00000000e+00,  0.00000000e+00,  0.00000000e+00,  0.00000000e+00,\n",
       "        0.00000000e+00,  0.00000000e+00,  0.00000000e+00,  0.00000000e+00,\n",
       "        0.00000000e+00,  1.90550824e+02,  0.00000000e+00,  0.00000000e+00,\n",
       "        0.00000000e+00,  2.79733978e+02,  0.00000000e+00,  0.00000000e+00,\n",
       "        0.00000000e+00,  0.00000000e+00,  0.00000000e+00, -1.90053449e+02,\n",
       "        0.00000000e+00,  0.00000000e+00,  0.00000000e+00,  3.60165195e+02,\n",
       "        0.00000000e+00,  0.00000000e+00,  0.00000000e+00,  7.26064196e+02,\n",
       "        1.49351895e+02, -1.40611514e+03,  0.00000000e+00,  0.00000000e+00,\n",
       "        0.00000000e+00,  0.00000000e+00,  0.00000000e+00,  5.57192726e+02,\n",
       "        0.00000000e+00,  3.23911910e+02,  0.00000000e+00, -7.59972740e+00,\n",
       "        0.00000000e+00,  0.00000000e+00,  0.00000000e+00,  0.00000000e+00,\n",
       "        0.00000000e+00, -7.94984520e-01,  0.00000000e+00,  0.00000000e+00,\n",
       "       -1.05640398e+01, -9.37191442e+00,  0.00000000e+00,  0.00000000e+00,\n",
       "        0.00000000e+00,  0.00000000e+00,  0.00000000e+00,  0.00000000e+00,\n",
       "        0.00000000e+00])"
      ]
     },
     "execution_count": 130,
     "metadata": {},
     "output_type": "execute_result"
    }
   ],
   "source": [
    "blog_randomized_theta"
   ]
  },
  {
   "cell_type": "markdown",
   "metadata": {},
   "source": [
    "Number of irrelevant features:"
   ]
  },
  {
   "cell_type": "code",
   "execution_count": 131,
   "metadata": {},
   "outputs": [
    {
     "data": {
      "text/plain": [
       "216"
      ]
     },
     "execution_count": 131,
     "metadata": {},
     "output_type": "execute_result"
    }
   ],
   "source": [
    "np.count_nonzero(np.abs(blog_randomized_theta) < 10**-12)"
   ]
  },
  {
   "cell_type": "code",
   "execution_count": 107,
   "metadata": {},
   "outputs": [
    {
     "data": {
      "application/vnd.plotly.v1+json": {
       "config": {
        "plotlyServerURL": "https://plot.ly"
       },
       "data": [
        {
         "legendgroup": "",
         "line": {
          "color": "#636efa",
          "dash": "solid"
         },
         "marker": {
          "symbol": "circle"
         },
         "mode": "markers+lines",
         "name": "",
         "orientation": "v",
         "showlegend": false,
         "type": "scatter",
         "x": [
          0,
          1,
          2,
          3,
          4,
          5,
          6,
          7,
          8,
          9,
          10,
          11,
          12,
          13,
          14,
          15,
          16,
          17,
          18,
          19,
          20,
          21,
          22,
          23,
          24,
          25,
          26,
          27,
          28,
          29,
          30,
          31,
          32,
          33,
          34,
          35,
          36,
          37,
          38,
          39,
          40,
          41,
          42,
          43,
          44,
          45,
          46,
          47,
          48,
          49,
          50,
          51,
          52,
          53,
          54,
          55,
          56,
          57,
          58,
          59,
          60,
          61,
          62,
          63,
          64,
          65,
          66,
          67,
          68,
          69,
          70,
          71,
          72,
          73,
          74,
          75,
          76,
          77,
          78,
          79,
          80,
          81,
          82,
          83,
          84,
          85,
          86,
          87,
          88,
          89,
          90,
          91,
          92,
          93,
          94,
          95,
          96,
          97,
          98,
          99,
          100
         ],
         "xaxis": "x",
         "y": [
          18838,
          18831.72981502374,
          18831.696334398126,
          18831.66100971283,
          18831.66100971283,
          18823.8560581414,
          18808.20990030365,
          18800.9143623645,
          17777.91409031936,
          17953.981351709343,
          17953.746997089343,
          17898.14278277012,
          17596.91068820344,
          17593.31306051852,
          17573.782923174054,
          17570.83895073276,
          17526.548642098503,
          17388.712334717464,
          17311.797049376826,
          17201.994450881437,
          17193.699038399594,
          17191.703239792747,
          17189.63503977007,
          17181.79125750557,
          17181.79125750557,
          14248.046532234863,
          14238.712481473853,
          14102.376351081544,
          13970.208069789429,
          13950.526559049633,
          13950.302345269147,
          13537.258754467182,
          13534.258437190338,
          13534.245732623145,
          13529.156520279892,
          13526.265210635345,
          13502.735303424273,
          13498.210119455212,
          13495.443371199775,
          13487.528071757359,
          13487.418314025856,
          13484.718014461752,
          13484.476928790189,
          13483.106665796273,
          13482.27766987764,
          13481.482667980994,
          13481.360559678173,
          13386.657432590853,
          13372.820448593819,
          13360.653651395978,
          13360.324969247711,
          13356.52699823544,
          13306.034063101255,
          13211.088276366403,
          13209.641796524676,
          13195.423633198692,
          13195.412934016907,
          13186.441780758461,
          13185.810423752586,
          13184.667524821956,
          13184.589447546192,
          13184.589447546192,
          13183.664735490189,
          13183.664735490189,
          13057.9510089109,
          12939.16230885241,
          12939.16230885241,
          12928.068332553356,
          12927.2917354768,
          12927.2917354768,
          12926.8496196801,
          12924.982757200023,
          12924.420008827059,
          12924.420008827059,
          12924.270446168213,
          12924.206381260905,
          12923.635203193962,
          13075.11112540534,
          13074.371626635073,
          12916.389585084948,
          12910.092193596955,
          12910.092193596955,
          12909.459258358886,
          12908.70015057378,
          12908.70015057378,
          12826.199637955793,
          12794.765373046228,
          12792.055977223226,
          12767.31830594794,
          12741.700190939328,
          12741.258859758464,
          12737.938440366643,
          12703.289654343384,
          12703.289654343384,
          12702.791403396966,
          12702.791403396966,
          12702.6015909514,
          12702.6015909514,
          12702.6015909514,
          12701.845474878462,
          12701.845474878462
         ],
         "yaxis": "y"
        }
       ],
       "layout": {
        "hovermode": "x",
        "legend": {
         "tracegroupgap": 0
        },
        "margin": {
         "t": 60
        },
        "template": {
         "data": {
          "bar": [
           {
            "error_x": {
             "color": "#2a3f5f"
            },
            "error_y": {
             "color": "#2a3f5f"
            },
            "marker": {
             "line": {
              "color": "#E5ECF6",
              "width": 0.5
             },
             "pattern": {
              "fillmode": "overlay",
              "size": 10,
              "solidity": 0.2
             }
            },
            "type": "bar"
           }
          ],
          "barpolar": [
           {
            "marker": {
             "line": {
              "color": "#E5ECF6",
              "width": 0.5
             },
             "pattern": {
              "fillmode": "overlay",
              "size": 10,
              "solidity": 0.2
             }
            },
            "type": "barpolar"
           }
          ],
          "carpet": [
           {
            "aaxis": {
             "endlinecolor": "#2a3f5f",
             "gridcolor": "white",
             "linecolor": "white",
             "minorgridcolor": "white",
             "startlinecolor": "#2a3f5f"
            },
            "baxis": {
             "endlinecolor": "#2a3f5f",
             "gridcolor": "white",
             "linecolor": "white",
             "minorgridcolor": "white",
             "startlinecolor": "#2a3f5f"
            },
            "type": "carpet"
           }
          ],
          "choropleth": [
           {
            "colorbar": {
             "outlinewidth": 0,
             "ticks": ""
            },
            "type": "choropleth"
           }
          ],
          "contour": [
           {
            "colorbar": {
             "outlinewidth": 0,
             "ticks": ""
            },
            "colorscale": [
             [
              0,
              "#0d0887"
             ],
             [
              0.1111111111111111,
              "#46039f"
             ],
             [
              0.2222222222222222,
              "#7201a8"
             ],
             [
              0.3333333333333333,
              "#9c179e"
             ],
             [
              0.4444444444444444,
              "#bd3786"
             ],
             [
              0.5555555555555556,
              "#d8576b"
             ],
             [
              0.6666666666666666,
              "#ed7953"
             ],
             [
              0.7777777777777778,
              "#fb9f3a"
             ],
             [
              0.8888888888888888,
              "#fdca26"
             ],
             [
              1,
              "#f0f921"
             ]
            ],
            "type": "contour"
           }
          ],
          "contourcarpet": [
           {
            "colorbar": {
             "outlinewidth": 0,
             "ticks": ""
            },
            "type": "contourcarpet"
           }
          ],
          "heatmap": [
           {
            "colorbar": {
             "outlinewidth": 0,
             "ticks": ""
            },
            "colorscale": [
             [
              0,
              "#0d0887"
             ],
             [
              0.1111111111111111,
              "#46039f"
             ],
             [
              0.2222222222222222,
              "#7201a8"
             ],
             [
              0.3333333333333333,
              "#9c179e"
             ],
             [
              0.4444444444444444,
              "#bd3786"
             ],
             [
              0.5555555555555556,
              "#d8576b"
             ],
             [
              0.6666666666666666,
              "#ed7953"
             ],
             [
              0.7777777777777778,
              "#fb9f3a"
             ],
             [
              0.8888888888888888,
              "#fdca26"
             ],
             [
              1,
              "#f0f921"
             ]
            ],
            "type": "heatmap"
           }
          ],
          "heatmapgl": [
           {
            "colorbar": {
             "outlinewidth": 0,
             "ticks": ""
            },
            "colorscale": [
             [
              0,
              "#0d0887"
             ],
             [
              0.1111111111111111,
              "#46039f"
             ],
             [
              0.2222222222222222,
              "#7201a8"
             ],
             [
              0.3333333333333333,
              "#9c179e"
             ],
             [
              0.4444444444444444,
              "#bd3786"
             ],
             [
              0.5555555555555556,
              "#d8576b"
             ],
             [
              0.6666666666666666,
              "#ed7953"
             ],
             [
              0.7777777777777778,
              "#fb9f3a"
             ],
             [
              0.8888888888888888,
              "#fdca26"
             ],
             [
              1,
              "#f0f921"
             ]
            ],
            "type": "heatmapgl"
           }
          ],
          "histogram": [
           {
            "marker": {
             "pattern": {
              "fillmode": "overlay",
              "size": 10,
              "solidity": 0.2
             }
            },
            "type": "histogram"
           }
          ],
          "histogram2d": [
           {
            "colorbar": {
             "outlinewidth": 0,
             "ticks": ""
            },
            "colorscale": [
             [
              0,
              "#0d0887"
             ],
             [
              0.1111111111111111,
              "#46039f"
             ],
             [
              0.2222222222222222,
              "#7201a8"
             ],
             [
              0.3333333333333333,
              "#9c179e"
             ],
             [
              0.4444444444444444,
              "#bd3786"
             ],
             [
              0.5555555555555556,
              "#d8576b"
             ],
             [
              0.6666666666666666,
              "#ed7953"
             ],
             [
              0.7777777777777778,
              "#fb9f3a"
             ],
             [
              0.8888888888888888,
              "#fdca26"
             ],
             [
              1,
              "#f0f921"
             ]
            ],
            "type": "histogram2d"
           }
          ],
          "histogram2dcontour": [
           {
            "colorbar": {
             "outlinewidth": 0,
             "ticks": ""
            },
            "colorscale": [
             [
              0,
              "#0d0887"
             ],
             [
              0.1111111111111111,
              "#46039f"
             ],
             [
              0.2222222222222222,
              "#7201a8"
             ],
             [
              0.3333333333333333,
              "#9c179e"
             ],
             [
              0.4444444444444444,
              "#bd3786"
             ],
             [
              0.5555555555555556,
              "#d8576b"
             ],
             [
              0.6666666666666666,
              "#ed7953"
             ],
             [
              0.7777777777777778,
              "#fb9f3a"
             ],
             [
              0.8888888888888888,
              "#fdca26"
             ],
             [
              1,
              "#f0f921"
             ]
            ],
            "type": "histogram2dcontour"
           }
          ],
          "mesh3d": [
           {
            "colorbar": {
             "outlinewidth": 0,
             "ticks": ""
            },
            "type": "mesh3d"
           }
          ],
          "parcoords": [
           {
            "line": {
             "colorbar": {
              "outlinewidth": 0,
              "ticks": ""
             }
            },
            "type": "parcoords"
           }
          ],
          "pie": [
           {
            "automargin": true,
            "type": "pie"
           }
          ],
          "scatter": [
           {
            "marker": {
             "colorbar": {
              "outlinewidth": 0,
              "ticks": ""
             }
            },
            "type": "scatter"
           }
          ],
          "scatter3d": [
           {
            "line": {
             "colorbar": {
              "outlinewidth": 0,
              "ticks": ""
             }
            },
            "marker": {
             "colorbar": {
              "outlinewidth": 0,
              "ticks": ""
             }
            },
            "type": "scatter3d"
           }
          ],
          "scattercarpet": [
           {
            "marker": {
             "colorbar": {
              "outlinewidth": 0,
              "ticks": ""
             }
            },
            "type": "scattercarpet"
           }
          ],
          "scattergeo": [
           {
            "marker": {
             "colorbar": {
              "outlinewidth": 0,
              "ticks": ""
             }
            },
            "type": "scattergeo"
           }
          ],
          "scattergl": [
           {
            "marker": {
             "colorbar": {
              "outlinewidth": 0,
              "ticks": ""
             }
            },
            "type": "scattergl"
           }
          ],
          "scattermapbox": [
           {
            "marker": {
             "colorbar": {
              "outlinewidth": 0,
              "ticks": ""
             }
            },
            "type": "scattermapbox"
           }
          ],
          "scatterpolar": [
           {
            "marker": {
             "colorbar": {
              "outlinewidth": 0,
              "ticks": ""
             }
            },
            "type": "scatterpolar"
           }
          ],
          "scatterpolargl": [
           {
            "marker": {
             "colorbar": {
              "outlinewidth": 0,
              "ticks": ""
             }
            },
            "type": "scatterpolargl"
           }
          ],
          "scatterternary": [
           {
            "marker": {
             "colorbar": {
              "outlinewidth": 0,
              "ticks": ""
             }
            },
            "type": "scatterternary"
           }
          ],
          "surface": [
           {
            "colorbar": {
             "outlinewidth": 0,
             "ticks": ""
            },
            "colorscale": [
             [
              0,
              "#0d0887"
             ],
             [
              0.1111111111111111,
              "#46039f"
             ],
             [
              0.2222222222222222,
              "#7201a8"
             ],
             [
              0.3333333333333333,
              "#9c179e"
             ],
             [
              0.4444444444444444,
              "#bd3786"
             ],
             [
              0.5555555555555556,
              "#d8576b"
             ],
             [
              0.6666666666666666,
              "#ed7953"
             ],
             [
              0.7777777777777778,
              "#fb9f3a"
             ],
             [
              0.8888888888888888,
              "#fdca26"
             ],
             [
              1,
              "#f0f921"
             ]
            ],
            "type": "surface"
           }
          ],
          "table": [
           {
            "cells": {
             "fill": {
              "color": "#EBF0F8"
             },
             "line": {
              "color": "white"
             }
            },
            "header": {
             "fill": {
              "color": "#C8D4E3"
             },
             "line": {
              "color": "white"
             }
            },
            "type": "table"
           }
          ]
         },
         "layout": {
          "annotationdefaults": {
           "arrowcolor": "#2a3f5f",
           "arrowhead": 0,
           "arrowwidth": 1
          },
          "autotypenumbers": "strict",
          "coloraxis": {
           "colorbar": {
            "outlinewidth": 0,
            "ticks": ""
           }
          },
          "colorscale": {
           "diverging": [
            [
             0,
             "#8e0152"
            ],
            [
             0.1,
             "#c51b7d"
            ],
            [
             0.2,
             "#de77ae"
            ],
            [
             0.3,
             "#f1b6da"
            ],
            [
             0.4,
             "#fde0ef"
            ],
            [
             0.5,
             "#f7f7f7"
            ],
            [
             0.6,
             "#e6f5d0"
            ],
            [
             0.7,
             "#b8e186"
            ],
            [
             0.8,
             "#7fbc41"
            ],
            [
             0.9,
             "#4d9221"
            ],
            [
             1,
             "#276419"
            ]
           ],
           "sequential": [
            [
             0,
             "#0d0887"
            ],
            [
             0.1111111111111111,
             "#46039f"
            ],
            [
             0.2222222222222222,
             "#7201a8"
            ],
            [
             0.3333333333333333,
             "#9c179e"
            ],
            [
             0.4444444444444444,
             "#bd3786"
            ],
            [
             0.5555555555555556,
             "#d8576b"
            ],
            [
             0.6666666666666666,
             "#ed7953"
            ],
            [
             0.7777777777777778,
             "#fb9f3a"
            ],
            [
             0.8888888888888888,
             "#fdca26"
            ],
            [
             1,
             "#f0f921"
            ]
           ],
           "sequentialminus": [
            [
             0,
             "#0d0887"
            ],
            [
             0.1111111111111111,
             "#46039f"
            ],
            [
             0.2222222222222222,
             "#7201a8"
            ],
            [
             0.3333333333333333,
             "#9c179e"
            ],
            [
             0.4444444444444444,
             "#bd3786"
            ],
            [
             0.5555555555555556,
             "#d8576b"
            ],
            [
             0.6666666666666666,
             "#ed7953"
            ],
            [
             0.7777777777777778,
             "#fb9f3a"
            ],
            [
             0.8888888888888888,
             "#fdca26"
            ],
            [
             1,
             "#f0f921"
            ]
           ]
          },
          "colorway": [
           "#636efa",
           "#EF553B",
           "#00cc96",
           "#ab63fa",
           "#FFA15A",
           "#19d3f3",
           "#FF6692",
           "#B6E880",
           "#FF97FF",
           "#FECB52"
          ],
          "font": {
           "color": "#2a3f5f"
          },
          "geo": {
           "bgcolor": "white",
           "lakecolor": "white",
           "landcolor": "#E5ECF6",
           "showlakes": true,
           "showland": true,
           "subunitcolor": "white"
          },
          "hoverlabel": {
           "align": "left"
          },
          "hovermode": "closest",
          "mapbox": {
           "style": "light"
          },
          "paper_bgcolor": "white",
          "plot_bgcolor": "#E5ECF6",
          "polar": {
           "angularaxis": {
            "gridcolor": "white",
            "linecolor": "white",
            "ticks": ""
           },
           "bgcolor": "#E5ECF6",
           "radialaxis": {
            "gridcolor": "white",
            "linecolor": "white",
            "ticks": ""
           }
          },
          "scene": {
           "xaxis": {
            "backgroundcolor": "#E5ECF6",
            "gridcolor": "white",
            "gridwidth": 2,
            "linecolor": "white",
            "showbackground": true,
            "ticks": "",
            "zerolinecolor": "white"
           },
           "yaxis": {
            "backgroundcolor": "#E5ECF6",
            "gridcolor": "white",
            "gridwidth": 2,
            "linecolor": "white",
            "showbackground": true,
            "ticks": "",
            "zerolinecolor": "white"
           },
           "zaxis": {
            "backgroundcolor": "#E5ECF6",
            "gridcolor": "white",
            "gridwidth": 2,
            "linecolor": "white",
            "showbackground": true,
            "ticks": "",
            "zerolinecolor": "white"
           }
          },
          "shapedefaults": {
           "line": {
            "color": "#2a3f5f"
           }
          },
          "ternary": {
           "aaxis": {
            "gridcolor": "white",
            "linecolor": "white",
            "ticks": ""
           },
           "baxis": {
            "gridcolor": "white",
            "linecolor": "white",
            "ticks": ""
           },
           "bgcolor": "#E5ECF6",
           "caxis": {
            "gridcolor": "white",
            "linecolor": "white",
            "ticks": ""
           }
          },
          "title": {
           "x": 0.05
          },
          "xaxis": {
           "automargin": true,
           "gridcolor": "white",
           "linecolor": "white",
           "ticks": "",
           "title": {
            "standoff": 15
           },
           "zerolinecolor": "white",
           "zerolinewidth": 2
          },
          "yaxis": {
           "automargin": true,
           "gridcolor": "white",
           "linecolor": "white",
           "ticks": "",
           "title": {
            "standoff": 15
           },
           "zerolinecolor": "white",
           "zerolinewidth": 2
          }
         }
        },
        "title": {
         "text": "Cost function values for training iterations"
        },
        "xaxis": {
         "anchor": "y",
         "domain": [
          0,
          1
         ],
         "title": {
          "text": "iteration"
         }
        },
        "yaxis": {
         "anchor": "x",
         "domain": [
          0,
          1
         ],
         "title": {
          "text": "cost"
         }
        }
       }
      }
     },
     "metadata": {},
     "output_type": "display_data"
    }
   ],
   "source": [
    "visualize_cost(cd.costs)"
   ]
  },
  {
   "cell_type": "markdown",
   "metadata": {},
   "source": [
    "### 3d. Sklearn Lasso Regression"
   ]
  },
  {
   "cell_type": "code",
   "execution_count": 139,
   "metadata": {},
   "outputs": [
    {
     "data": {
      "text/plain": [
       "array([-0.12946457,  0.        , -0.        , -0.        ,  0.80449642,\n",
       "        0.        ,  0.        , -0.        ,  0.        ,  0.        ,\n",
       "        0.        ,  0.        , -0.        ,  0.        ,  0.        ,\n",
       "        0.        ,  0.        , -0.        , -0.        ,  0.36414409,\n",
       "        0.        ,  0.        ,  0.        , -0.        ,  0.        ,\n",
       "       -0.        ,  0.        , -0.        ,  0.        , -0.        ,\n",
       "        0.        ,  0.        , -0.        ,  0.        , -0.        ,\n",
       "        0.        ,  0.        , -0.        ,  0.        , -0.        ,\n",
       "        0.        ,  0.        , -0.        ,  0.        , -0.        ,\n",
       "        0.        ,  0.        , -0.        ,  0.        , -0.        ,\n",
       "       -0.        ,  1.03939191,  2.17165443,  0.        ,  0.        ,\n",
       "        0.        ,  0.        ,  0.        ,  0.        ,  0.        ,\n",
       "        0.        , -0.27610316,  0.36957734, -0.        ,  0.        ,\n",
       "       -0.        , -0.        ,  0.        ,  0.        ,  0.        ,\n",
       "       -0.        ,  0.        ,  0.        , -0.        ,  0.        ,\n",
       "        0.        , -0.        ,  0.        , -0.        ,  0.        ,\n",
       "       -0.        , -0.        ,  0.        ,  0.        , -0.        ,\n",
       "        0.        ,  0.        , -0.        , -0.        , -0.        ,\n",
       "       -0.        , -0.        ,  0.        , -0.        , -0.        ,\n",
       "       -0.        ,  0.        , -0.        ,  0.        ,  0.        ,\n",
       "        0.        , -0.        , -0.        ,  0.        ,  0.        ,\n",
       "        0.        ,  0.        ,  0.        ,  0.        , -0.        ,\n",
       "       -0.        , -0.        , -0.        ,  0.        ,  0.        ,\n",
       "        0.        , -0.        ,  0.        , -0.        ,  0.        ,\n",
       "       -0.        ,  0.        , -0.        ,  0.        , -0.        ,\n",
       "        0.        ,  0.        ,  0.        ,  0.        ,  0.        ,\n",
       "       -0.        ,  0.        , -0.        , -0.        ,  0.        ,\n",
       "        0.        ,  0.        ,  0.        , -0.        , -0.        ,\n",
       "        0.        , -0.        ,  0.        , -0.        , -0.        ,\n",
       "       -0.        , -0.        ,  0.        , -0.        , -0.        ,\n",
       "       -0.        , -0.        ,  0.        , -0.        ,  0.        ,\n",
       "       -0.        , -0.        ,  0.        , -0.        ,  0.        ,\n",
       "        0.        , -0.        ,  0.        ,  0.        ,  0.        ,\n",
       "        0.        , -0.        , -0.        , -0.        , -0.        ,\n",
       "       -0.        ,  0.        , -0.        , -0.        ,  0.        ,\n",
       "        0.        ,  0.        ,  0.        , -0.        , -0.        ,\n",
       "        0.        ,  0.        , -0.        ,  0.        , -0.        ,\n",
       "        0.        , -0.        ,  0.        , -0.        ,  0.        ,\n",
       "       -0.        ,  0.        , -0.        , -0.        ,  0.        ,\n",
       "        0.        , -0.        ,  0.        , -0.        , -0.        ,\n",
       "       -0.        , -0.        ,  0.        , -0.        , -0.        ,\n",
       "        0.        , -0.        ,  0.        , -0.        ,  0.        ,\n",
       "        0.        ,  0.        , -0.        , -0.        ,  0.        ,\n",
       "        0.        ,  0.        ,  0.        ,  0.        , -0.        ,\n",
       "       -0.        ,  0.        ,  0.        , -0.        , -0.        ,\n",
       "        0.        ,  0.        ,  0.        ,  0.        ,  0.        ,\n",
       "       -0.        ,  0.        , -0.        ,  0.        ,  0.        ,\n",
       "        0.        , -0.        ,  0.        ,  0.        ,  0.        ,\n",
       "        0.        ,  0.        ,  0.        , -0.        , -0.        ,\n",
       "       -0.        , -0.        ,  0.        ,  0.        , -0.        ,\n",
       "       -0.        ,  0.        , -0.        , -0.        ,  0.        ,\n",
       "        0.        , -0.        ,  0.        ,  0.        ,  0.        ,\n",
       "        0.        ,  0.        , -0.        ,  0.        , -0.        ,\n",
       "       -0.        , -0.        , -0.        , -0.        , -0.        ,\n",
       "       -0.        , -0.        , -0.        , -0.        , -0.        ,\n",
       "       -0.        , -0.        ,  0.        ,  0.        ,  0.        ,\n",
       "        0.        ])"
      ]
     },
     "execution_count": 139,
     "metadata": {},
     "output_type": "execute_result"
    }
   ],
   "source": [
    "l = Lasso(alpha=0.001, max_iter=100) # strange alpha value due to our unusual normalization after data loading\n",
    "l.fit(X, y)\n",
    "blog_sklearn_theta = l.coef_\n",
    "blog_sklearn_theta[0] = l.intercept_\n",
    "\n",
    "blog_sklearn_theta"
   ]
  },
  {
   "cell_type": "code",
   "execution_count": 140,
   "metadata": {},
   "outputs": [
    {
     "data": {
      "text/plain": [
       "274"
      ]
     },
     "execution_count": 140,
     "metadata": {},
     "output_type": "execute_result"
    }
   ],
   "source": [
    "np.count_nonzero(np.abs(blog_sklearn_theta) < 10**-12)"
   ]
  },
  {
   "cell_type": "markdown",
   "metadata": {},
   "source": [
    "### 3e. Comparison of thetas' estimations for each method"
   ]
  },
  {
   "cell_type": "markdown",
   "metadata": {},
   "source": [
    "'Cyclic' index selection"
   ]
  },
  {
   "cell_type": "code",
   "execution_count": 134,
   "metadata": {},
   "outputs": [
    {
     "data": {
      "text/plain": [
       "array([ 0.00000000e+00,  2.57445332e+00,  1.90492387e+00,  0.00000000e+00,\n",
       "        0.00000000e+00,  0.00000000e+00,  0.00000000e+00,  0.00000000e+00,\n",
       "        0.00000000e+00,  0.00000000e+00,  0.00000000e+00,  0.00000000e+00,\n",
       "        0.00000000e+00,  0.00000000e+00,  0.00000000e+00,  0.00000000e+00,\n",
       "        0.00000000e+00,  2.19927290e-01, -1.32342753e+01,  0.00000000e+00,\n",
       "        5.87275173e+00,  0.00000000e+00,  0.00000000e+00,  0.00000000e+00,\n",
       "        0.00000000e+00,  0.00000000e+00,  0.00000000e+00, -1.24202533e+01,\n",
       "        0.00000000e+00,  0.00000000e+00,  0.00000000e+00, -4.52561300e+00,\n",
       "        0.00000000e+00,  0.00000000e+00,  1.75438306e+00, -1.48655345e+01,\n",
       "        7.89755665e+00,  0.00000000e+00,  0.00000000e+00,  0.00000000e+00,\n",
       "        0.00000000e+00,  0.00000000e+00, -4.16753603e+00,  0.00000000e+00,\n",
       "        0.00000000e+00,  0.00000000e+00,  0.00000000e+00,  0.00000000e+00,\n",
       "       -1.06169835e+00,  0.00000000e+00,  0.00000000e+00,  0.00000000e+00,\n",
       "        2.13272803e+00,  3.50370496e+00, -6.62736003e-02,  2.42991140e+00,\n",
       "        0.00000000e+00,  0.00000000e+00,  0.00000000e+00,  0.00000000e+00,\n",
       "       -9.51063026e-02, -1.88662236e-01,  0.00000000e+00,  0.00000000e+00,\n",
       "        0.00000000e+00,  0.00000000e+00,  0.00000000e+00,  0.00000000e+00,\n",
       "        1.01891567e+02,  3.41505784e+02,  0.00000000e+00,  0.00000000e+00,\n",
       "        0.00000000e+00,  0.00000000e+00, -3.37588205e+01,  9.21478656e+02,\n",
       "        0.00000000e+00,  1.77550429e+02,  0.00000000e+00,  0.00000000e+00,\n",
       "        0.00000000e+00,  0.00000000e+00,  0.00000000e+00,  0.00000000e+00,\n",
       "        0.00000000e+00,  0.00000000e+00,  0.00000000e+00,  0.00000000e+00,\n",
       "        0.00000000e+00,  0.00000000e+00,  0.00000000e+00,  0.00000000e+00,\n",
       "        0.00000000e+00,  0.00000000e+00,  0.00000000e+00,  0.00000000e+00,\n",
       "        5.21369360e+01,  0.00000000e+00,  0.00000000e+00,  0.00000000e+00,\n",
       "        0.00000000e+00,  0.00000000e+00,  1.04557800e+02,  6.91769343e+02,\n",
       "        0.00000000e+00,  0.00000000e+00,  0.00000000e+00,  0.00000000e+00,\n",
       "        0.00000000e+00,  0.00000000e+00,  0.00000000e+00, -7.21273198e+01,\n",
       "        0.00000000e+00,  0.00000000e+00,  1.44038690e+02,  0.00000000e+00,\n",
       "        5.65648614e+01,  5.05206897e+02,  0.00000000e+00,  0.00000000e+00,\n",
       "        5.50182023e+01,  0.00000000e+00,  1.22341825e+02,  0.00000000e+00,\n",
       "       -2.57644068e+02,  0.00000000e+00,  0.00000000e+00,  3.01619074e+02,\n",
       "        0.00000000e+00,  0.00000000e+00,  0.00000000e+00,  0.00000000e+00,\n",
       "        0.00000000e+00,  0.00000000e+00,  0.00000000e+00,  1.16626187e+02,\n",
       "        0.00000000e+00,  0.00000000e+00,  0.00000000e+00,  4.54080576e+02,\n",
       "        0.00000000e+00,  0.00000000e+00,  2.08454825e+02, -5.36701740e+00,\n",
       "        0.00000000e+00,  2.26282056e+02,  0.00000000e+00,  3.17180306e+01,\n",
       "        0.00000000e+00,  0.00000000e+00,  4.23684330e+01,  5.29374002e+01,\n",
       "        0.00000000e+00,  3.31073940e+01,  8.44109399e+01,  0.00000000e+00,\n",
       "        0.00000000e+00,  0.00000000e+00,  0.00000000e+00,  0.00000000e+00,\n",
       "        0.00000000e+00, -5.29374002e+01,  1.00065092e+02,  0.00000000e+00,\n",
       "        0.00000000e+00, -1.32353885e+00, -1.12918836e+03,  0.00000000e+00,\n",
       "        0.00000000e+00,  0.00000000e+00,  0.00000000e+00,  1.80969286e+02,\n",
       "        0.00000000e+00,  0.00000000e+00,  0.00000000e+00,  0.00000000e+00,\n",
       "        1.97420154e+02,  0.00000000e+00,  0.00000000e+00,  0.00000000e+00,\n",
       "        0.00000000e+00,  2.05532906e+02,  0.00000000e+00,  0.00000000e+00,\n",
       "        0.00000000e+00,  0.00000000e+00,  0.00000000e+00,  0.00000000e+00,\n",
       "        0.00000000e+00,  2.62887883e+02,  0.00000000e+00,  0.00000000e+00,\n",
       "        0.00000000e+00,  0.00000000e+00,  5.73034181e+02,  0.00000000e+00,\n",
       "        0.00000000e+00,  0.00000000e+00,  0.00000000e+00,  0.00000000e+00,\n",
       "        0.00000000e+00,  0.00000000e+00,  2.86408431e+02, -6.94307872e+01,\n",
       "        0.00000000e+00,  2.21703244e+02,  1.91849903e+02,  0.00000000e+00,\n",
       "        5.34124700e+01,  1.62921042e+02,  0.00000000e+00,  0.00000000e+00,\n",
       "        0.00000000e+00,  0.00000000e+00,  0.00000000e+00,  0.00000000e+00,\n",
       "        0.00000000e+00,  0.00000000e+00,  1.09301626e+03,  0.00000000e+00,\n",
       "        0.00000000e+00,  0.00000000e+00,  0.00000000e+00,  0.00000000e+00,\n",
       "        0.00000000e+00,  0.00000000e+00,  0.00000000e+00,  0.00000000e+00,\n",
       "        0.00000000e+00,  0.00000000e+00,  0.00000000e+00,  5.73533024e+02,\n",
       "        0.00000000e+00,  0.00000000e+00,  0.00000000e+00,  1.22117977e+03,\n",
       "       -4.96094406e+03,  4.23800690e+02,  1.62221376e+02,  0.00000000e+00,\n",
       "        0.00000000e+00,  0.00000000e+00,  2.42257421e+02,  0.00000000e+00,\n",
       "       -3.70378984e+02,  0.00000000e+00, -2.96842302e+01,  0.00000000e+00,\n",
       "        0.00000000e+00,  0.00000000e+00, -1.40720375e+03,  0.00000000e+00,\n",
       "        0.00000000e+00,  0.00000000e+00,  0.00000000e+00,  0.00000000e+00,\n",
       "        0.00000000e+00,  0.00000000e+00,  0.00000000e+00,  0.00000000e+00,\n",
       "        3.08884354e+02,  0.00000000e+00, -1.81580857e+02,  0.00000000e+00,\n",
       "       -5.07355903e+00, -5.61671109e+00,  0.00000000e+00,  0.00000000e+00,\n",
       "        0.00000000e+00,  0.00000000e+00,  4.42687578e+00,  0.00000000e+00,\n",
       "        0.00000000e+00, -2.29695899e+00,  0.00000000e+00,  0.00000000e+00,\n",
       "        0.00000000e+00,  0.00000000e+00,  0.00000000e+00,  0.00000000e+00,\n",
       "        0.00000000e+00])"
      ]
     },
     "execution_count": 134,
     "metadata": {},
     "output_type": "execute_result"
    }
   ],
   "source": [
    "blog_cyclic_theta"
   ]
  },
  {
   "cell_type": "markdown",
   "metadata": {},
   "source": [
    "'Randomized' index selection"
   ]
  },
  {
   "cell_type": "code",
   "execution_count": 136,
   "metadata": {},
   "outputs": [
    {
     "data": {
      "text/plain": [
       "array([-8.92307636e+00,  0.00000000e+00,  0.00000000e+00,  0.00000000e+00,\n",
       "        0.00000000e+00,  7.37295098e-01,  0.00000000e+00,  1.28658539e+01,\n",
       "        0.00000000e+00,  0.00000000e+00,  4.50289294e+00,  0.00000000e+00,\n",
       "        0.00000000e+00,  0.00000000e+00,  0.00000000e+00,  0.00000000e+00,\n",
       "        0.00000000e+00,  0.00000000e+00,  0.00000000e+00,  0.00000000e+00,\n",
       "        0.00000000e+00,  6.35357458e+00,  0.00000000e+00,  0.00000000e+00,\n",
       "        0.00000000e+00,  0.00000000e+00,  0.00000000e+00,  0.00000000e+00,\n",
       "        0.00000000e+00,  0.00000000e+00, -9.13374223e+00, -1.02909651e+00,\n",
       "        9.47703980e-01,  0.00000000e+00,  0.00000000e+00,  0.00000000e+00,\n",
       "        0.00000000e+00,  1.73571474e+01,  0.00000000e+00,  7.89458764e-01,\n",
       "        0.00000000e+00,  0.00000000e+00, -6.27276917e+00, -1.10032567e+01,\n",
       "        1.12551435e+00,  0.00000000e+00,  0.00000000e+00, -2.26675406e+00,\n",
       "        0.00000000e+00, -2.09372763e+00,  0.00000000e+00,  0.00000000e+00,\n",
       "        0.00000000e+00,  0.00000000e+00,  0.00000000e+00,  0.00000000e+00,\n",
       "        0.00000000e+00,  0.00000000e+00,  0.00000000e+00,  8.77547647e+00,\n",
       "        3.00609949e+00,  0.00000000e+00,  0.00000000e+00,  0.00000000e+00,\n",
       "        0.00000000e+00, -3.66649733e+03,  0.00000000e+00,  0.00000000e+00,\n",
       "        0.00000000e+00,  0.00000000e+00,  0.00000000e+00,  0.00000000e+00,\n",
       "        0.00000000e+00,  0.00000000e+00,  0.00000000e+00,  0.00000000e+00,\n",
       "        0.00000000e+00,  0.00000000e+00,  0.00000000e+00,  2.18869262e+02,\n",
       "        0.00000000e+00,  0.00000000e+00,  0.00000000e+00,  0.00000000e+00,\n",
       "        0.00000000e+00,  0.00000000e+00,  1.54131593e+02, -1.98381555e+02,\n",
       "        0.00000000e+00,  0.00000000e+00,  0.00000000e+00,  8.21773994e+02,\n",
       "        0.00000000e+00,  0.00000000e+00,  0.00000000e+00,  0.00000000e+00,\n",
       "        0.00000000e+00,  0.00000000e+00,  0.00000000e+00,  0.00000000e+00,\n",
       "        8.50196808e+01,  8.79259369e+01,  0.00000000e+00,  2.05950795e+02,\n",
       "        0.00000000e+00,  0.00000000e+00,  0.00000000e+00,  0.00000000e+00,\n",
       "        0.00000000e+00,  0.00000000e+00,  1.07496568e+02,  0.00000000e+00,\n",
       "        0.00000000e+00,  0.00000000e+00,  0.00000000e+00,  1.46509595e+02,\n",
       "        5.30989099e+01,  0.00000000e+00,  0.00000000e+00,  0.00000000e+00,\n",
       "        2.75970583e+02,  5.14696455e+02,  9.87534090e+01,  0.00000000e+00,\n",
       "        0.00000000e+00,  0.00000000e+00,  0.00000000e+00,  7.12384419e+02,\n",
       "        0.00000000e+00,  0.00000000e+00,  0.00000000e+00,  1.40793764e+02,\n",
       "        0.00000000e+00,  0.00000000e+00,  0.00000000e+00,  1.61194962e+02,\n",
       "        0.00000000e+00,  0.00000000e+00,  0.00000000e+00,  0.00000000e+00,\n",
       "        0.00000000e+00,  0.00000000e+00,  1.98827880e+02,  0.00000000e+00,\n",
       "        0.00000000e+00,  1.68649675e+02, -3.07813609e+01,  0.00000000e+00,\n",
       "        0.00000000e+00,  0.00000000e+00,  0.00000000e+00,  0.00000000e+00,\n",
       "        0.00000000e+00,  2.79839627e+01,  0.00000000e+00,  0.00000000e+00,\n",
       "        0.00000000e+00,  0.00000000e+00,  0.00000000e+00,  0.00000000e+00,\n",
       "        0.00000000e+00,  0.00000000e+00,  2.09361662e+02,  2.82018792e+02,\n",
       "        0.00000000e+00,  0.00000000e+00,  0.00000000e+00,  0.00000000e+00,\n",
       "       -2.99323177e+02, -5.71491862e+02,  2.29219987e+02,  0.00000000e+00,\n",
       "       -7.86616553e+02,  0.00000000e+00,  0.00000000e+00,  0.00000000e+00,\n",
       "        0.00000000e+00,  0.00000000e+00, -1.87984100e+02,  0.00000000e+00,\n",
       "        0.00000000e+00,  0.00000000e+00,  5.13200602e+02,  2.42304864e+02,\n",
       "        0.00000000e+00,  0.00000000e+00,  0.00000000e+00,  0.00000000e+00,\n",
       "        0.00000000e+00,  0.00000000e+00,  0.00000000e+00,  0.00000000e+00,\n",
       "        0.00000000e+00,  0.00000000e+00,  0.00000000e+00,  3.62877130e+02,\n",
       "        5.76792126e+01,  0.00000000e+00,  0.00000000e+00,  0.00000000e+00,\n",
       "        0.00000000e+00,  0.00000000e+00,  0.00000000e+00, -8.86118985e+01,\n",
       "        0.00000000e+00,  6.13049599e+02,  0.00000000e+00,  0.00000000e+00,\n",
       "        0.00000000e+00,  7.24629151e+02,  0.00000000e+00,  0.00000000e+00,\n",
       "        0.00000000e+00,  0.00000000e+00,  0.00000000e+00,  0.00000000e+00,\n",
       "        0.00000000e+00,  0.00000000e+00,  0.00000000e+00,  0.00000000e+00,\n",
       "        0.00000000e+00,  0.00000000e+00,  0.00000000e+00,  0.00000000e+00,\n",
       "        0.00000000e+00,  0.00000000e+00,  0.00000000e+00,  0.00000000e+00,\n",
       "        0.00000000e+00,  0.00000000e+00,  0.00000000e+00,  0.00000000e+00,\n",
       "        0.00000000e+00,  1.90550824e+02,  0.00000000e+00,  0.00000000e+00,\n",
       "        0.00000000e+00,  2.79733978e+02,  0.00000000e+00,  0.00000000e+00,\n",
       "        0.00000000e+00,  0.00000000e+00,  0.00000000e+00, -1.90053449e+02,\n",
       "        0.00000000e+00,  0.00000000e+00,  0.00000000e+00,  3.60165195e+02,\n",
       "        0.00000000e+00,  0.00000000e+00,  0.00000000e+00,  7.26064196e+02,\n",
       "        1.49351895e+02, -1.40611514e+03,  0.00000000e+00,  0.00000000e+00,\n",
       "        0.00000000e+00,  0.00000000e+00,  0.00000000e+00,  5.57192726e+02,\n",
       "        0.00000000e+00,  3.23911910e+02,  0.00000000e+00, -7.59972740e+00,\n",
       "        0.00000000e+00,  0.00000000e+00,  0.00000000e+00,  0.00000000e+00,\n",
       "        0.00000000e+00, -7.94984520e-01,  0.00000000e+00,  0.00000000e+00,\n",
       "       -1.05640398e+01, -9.37191442e+00,  0.00000000e+00,  0.00000000e+00,\n",
       "        0.00000000e+00,  0.00000000e+00,  0.00000000e+00,  0.00000000e+00,\n",
       "        0.00000000e+00])"
      ]
     },
     "execution_count": 136,
     "metadata": {},
     "output_type": "execute_result"
    }
   ],
   "source": [
    "blog_randomized_theta"
   ]
  },
  {
   "cell_type": "markdown",
   "metadata": {},
   "source": [
    "'Greedy' index selection"
   ]
  },
  {
   "cell_type": "code",
   "execution_count": 137,
   "metadata": {},
   "outputs": [
    {
     "data": {
      "text/plain": [
       "array([-2.34573259e+00,  0.00000000e+00, -5.54468490e-01, -7.64237639e+00,\n",
       "        7.35817950e-02, -1.98789605e-01,  0.00000000e+00,  0.00000000e+00,\n",
       "        0.00000000e+00,  2.02484923e-01,  0.00000000e+00,  0.00000000e+00,\n",
       "       -2.44491350e+00,  0.00000000e+00,  0.00000000e+00,  1.22677932e+01,\n",
       "       -5.90559993e-01,  0.00000000e+00,  0.00000000e+00,  0.00000000e+00,\n",
       "        0.00000000e+00,  0.00000000e+00,  9.31925351e+00,  0.00000000e+00,\n",
       "        0.00000000e+00,  0.00000000e+00,  0.00000000e+00, -2.20023061e-01,\n",
       "        0.00000000e+00,  0.00000000e+00,  7.63167758e+00, -2.38830772e+01,\n",
       "        0.00000000e+00,  0.00000000e+00,  0.00000000e+00, -1.30073148e+01,\n",
       "        0.00000000e+00,  0.00000000e+00,  0.00000000e+00,  0.00000000e+00,\n",
       "        0.00000000e+00,  0.00000000e+00,  0.00000000e+00,  0.00000000e+00,\n",
       "        0.00000000e+00,  0.00000000e+00,  0.00000000e+00,  0.00000000e+00,\n",
       "        3.40147206e+00,  0.00000000e+00,  0.00000000e+00,  0.00000000e+00,\n",
       "        0.00000000e+00,  0.00000000e+00,  8.62402682e-01,  0.00000000e+00,\n",
       "        0.00000000e+00,  3.56278823e+00,  0.00000000e+00,  0.00000000e+00,\n",
       "        0.00000000e+00,  0.00000000e+00,  0.00000000e+00,  0.00000000e+00,\n",
       "        1.60883923e+02,  0.00000000e+00,  0.00000000e+00,  0.00000000e+00,\n",
       "        0.00000000e+00,  0.00000000e+00,  0.00000000e+00,  0.00000000e+00,\n",
       "        3.21495136e+02,  0.00000000e+00,  0.00000000e+00,  0.00000000e+00,\n",
       "        0.00000000e+00,  0.00000000e+00,  0.00000000e+00,  7.25342032e+01,\n",
       "        0.00000000e+00,  0.00000000e+00,  5.39447929e+02,  0.00000000e+00,\n",
       "        0.00000000e+00,  0.00000000e+00,  2.98666738e+02,  0.00000000e+00,\n",
       "        0.00000000e+00,  0.00000000e+00,  0.00000000e+00,  0.00000000e+00,\n",
       "        0.00000000e+00,  0.00000000e+00, -4.85774298e+01, -4.40209730e+02,\n",
       "        0.00000000e+00,  0.00000000e+00,  0.00000000e+00,  0.00000000e+00,\n",
       "        0.00000000e+00,  0.00000000e+00,  0.00000000e+00,  3.87177872e+02,\n",
       "        2.87904802e+02,  2.18126590e+02,  0.00000000e+00,  0.00000000e+00,\n",
       "        0.00000000e+00, -1.70000112e+03,  0.00000000e+00,  0.00000000e+00,\n",
       "        0.00000000e+00,  0.00000000e+00,  3.38835841e+02,  0.00000000e+00,\n",
       "       -4.19229413e+01,  0.00000000e+00,  0.00000000e+00,  0.00000000e+00,\n",
       "        3.54591662e+02,  0.00000000e+00,  0.00000000e+00,  0.00000000e+00,\n",
       "       -4.06356753e+02,  0.00000000e+00,  0.00000000e+00,  0.00000000e+00,\n",
       "        0.00000000e+00,  0.00000000e+00,  0.00000000e+00,  0.00000000e+00,\n",
       "        0.00000000e+00,  0.00000000e+00,  0.00000000e+00,  0.00000000e+00,\n",
       "        0.00000000e+00,  6.55613580e+02,  0.00000000e+00,  0.00000000e+00,\n",
       "        0.00000000e+00,  0.00000000e+00,  0.00000000e+00,  0.00000000e+00,\n",
       "        0.00000000e+00,  0.00000000e+00,  0.00000000e+00,  0.00000000e+00,\n",
       "        0.00000000e+00, -4.09672825e+02,  6.66336358e+01,  2.99526014e+01,\n",
       "        5.19078752e+01,  1.30614488e+01,  1.73517471e+02,  0.00000000e+00,\n",
       "        0.00000000e+00,  0.00000000e+00,  0.00000000e+00,  6.46591885e+02,\n",
       "        0.00000000e+00,  0.00000000e+00,  0.00000000e+00,  5.40661271e+02,\n",
       "        0.00000000e+00,  0.00000000e+00,  0.00000000e+00,  0.00000000e+00,\n",
       "       -2.41752238e+02,  0.00000000e+00,  0.00000000e+00,  6.85888885e+02,\n",
       "        0.00000000e+00,  0.00000000e+00,  0.00000000e+00,  0.00000000e+00,\n",
       "        0.00000000e+00,  3.78754815e+02, -5.10713042e+01, -1.15404310e+03,\n",
       "        0.00000000e+00,  8.37438589e+01,  0.00000000e+00,  4.00827232e+01,\n",
       "        0.00000000e+00,  6.09861640e+02,  0.00000000e+00,  0.00000000e+00,\n",
       "        0.00000000e+00,  1.38340976e+02,  0.00000000e+00,  0.00000000e+00,\n",
       "        2.17698697e+00,  1.81237709e+02,  0.00000000e+00,  0.00000000e+00,\n",
       "        0.00000000e+00,  0.00000000e+00, -3.68675252e+02,  0.00000000e+00,\n",
       "       -9.02900991e+01,  0.00000000e+00,  9.70147701e+01,  0.00000000e+00,\n",
       "        0.00000000e+00,  0.00000000e+00,  0.00000000e+00,  0.00000000e+00,\n",
       "        4.85774298e+01,  0.00000000e+00,  1.55088604e+02,  0.00000000e+00,\n",
       "        0.00000000e+00,  0.00000000e+00,  0.00000000e+00,  0.00000000e+00,\n",
       "        0.00000000e+00,  0.00000000e+00,  0.00000000e+00,  0.00000000e+00,\n",
       "        0.00000000e+00,  0.00000000e+00,  0.00000000e+00,  0.00000000e+00,\n",
       "        0.00000000e+00,  0.00000000e+00,  0.00000000e+00,  0.00000000e+00,\n",
       "        0.00000000e+00,  1.34883588e+02,  0.00000000e+00,  0.00000000e+00,\n",
       "        2.43440455e+02,  0.00000000e+00,  1.76712859e+02,  0.00000000e+00,\n",
       "       -3.42212915e+02,  0.00000000e+00,  0.00000000e+00,  0.00000000e+00,\n",
       "        0.00000000e+00,  0.00000000e+00,  6.00082448e+01,  0.00000000e+00,\n",
       "       -3.53066862e+02,  0.00000000e+00,  0.00000000e+00,  0.00000000e+00,\n",
       "        0.00000000e+00,  0.00000000e+00,  0.00000000e+00,  0.00000000e+00,\n",
       "        0.00000000e+00, -5.08838789e+02,  0.00000000e+00,  5.52832798e+02,\n",
       "        0.00000000e+00,  0.00000000e+00,  2.30357346e+02,  0.00000000e+00,\n",
       "        0.00000000e+00,  0.00000000e+00,  0.00000000e+00,  0.00000000e+00,\n",
       "        0.00000000e+00, -8.40794499e-01,  8.18397283e-01,  0.00000000e+00,\n",
       "        0.00000000e+00,  0.00000000e+00,  0.00000000e+00,  0.00000000e+00,\n",
       "        0.00000000e+00,  0.00000000e+00,  1.80027584e+00,  0.00000000e+00,\n",
       "        0.00000000e+00,  0.00000000e+00,  0.00000000e+00,  0.00000000e+00,\n",
       "        9.65966319e-01])"
      ]
     },
     "execution_count": 137,
     "metadata": {},
     "output_type": "execute_result"
    }
   ],
   "source": [
    "blog_greedy_theta"
   ]
  },
  {
   "cell_type": "markdown",
   "metadata": {},
   "source": [
    "Standard deviation for coordinate-descent results"
   ]
  },
  {
   "cell_type": "code",
   "execution_count": 141,
   "metadata": {},
   "outputs": [
    {
     "data": {
      "text/plain": [
       "array([3.77690650e+00, 1.21360893e+00, 1.05329014e+00, 3.60265078e+00,\n",
       "       3.46867908e-02, 4.02682111e-01, 0.00000000e+00, 6.06502167e+00,\n",
       "       0.00000000e+00, 9.54523080e-02, 2.12268409e+00, 0.00000000e+00,\n",
       "       1.15254328e+00, 0.00000000e+00, 0.00000000e+00, 5.78309319e+00,\n",
       "       2.78392650e-01, 1.03674719e-01, 6.23869720e+00, 0.00000000e+00,\n",
       "       2.76844171e+00, 2.99510378e+00, 4.39313824e+00, 0.00000000e+00,\n",
       "       0.00000000e+00, 0.00000000e+00, 0.00000000e+00, 5.80379877e+00,\n",
       "       0.00000000e+00, 0.00000000e+00, 6.85360449e+00, 1.00512105e+01,\n",
       "       4.46751941e-01, 0.00000000e+00, 8.27024105e-01, 6.61334793e+00,\n",
       "       3.72294391e+00, 8.18223775e+00, 0.00000000e+00, 3.72154430e-01,\n",
       "       0.00000000e+00, 0.00000000e+00, 2.60657281e+00, 5.18698498e+00,\n",
       "       5.30572553e-01, 0.00000000e+00, 0.00000000e+00, 1.06855811e+00,\n",
       "       1.90371291e+00, 9.86992672e-01, 0.00000000e+00, 0.00000000e+00,\n",
       "       1.00537763e+00, 1.65166236e+00, 4.23027476e-01, 1.14547122e+00,\n",
       "       0.00000000e+00, 1.67951448e+00, 0.00000000e+00, 4.13679928e+00,\n",
       "       1.44002919e+00, 8.89362308e-02, 0.00000000e+00, 0.00000000e+00,\n",
       "       7.58414085e+01, 1.72840342e+03, 0.00000000e+00, 0.00000000e+00,\n",
       "       4.80321451e+01, 1.60987370e+02, 0.00000000e+00, 0.00000000e+00,\n",
       "       1.51554261e+02, 0.00000000e+00, 1.59140606e+01, 4.34389204e+02,\n",
       "       0.00000000e+00, 8.36980750e+01, 0.00000000e+00, 9.10304675e+01,\n",
       "       0.00000000e+00, 0.00000000e+00, 2.54298193e+02, 0.00000000e+00,\n",
       "       0.00000000e+00, 0.00000000e+00, 1.21951163e+02, 9.35179617e+01,\n",
       "       0.00000000e+00, 0.00000000e+00, 0.00000000e+00, 3.87387976e+02,\n",
       "       0.00000000e+00, 0.00000000e+00, 2.28996200e+01, 2.07516857e+02,\n",
       "       2.45775874e+01, 0.00000000e+00, 0.00000000e+00, 0.00000000e+00,\n",
       "       4.00786619e+01, 4.14486842e+01, 4.92890196e+01, 2.00454727e+02,\n",
       "       1.35719625e+02, 1.02825861e+02, 0.00000000e+00, 0.00000000e+00,\n",
       "       0.00000000e+00, 8.01388214e+02, 5.06743683e+01, 3.40011446e+01,\n",
       "       0.00000000e+00, 0.00000000e+00, 1.38845558e+02, 6.90652852e+01,\n",
       "       4.56326057e+01, 2.38156815e+02, 0.00000000e+00, 0.00000000e+00,\n",
       "       1.26818105e+02, 2.42630236e+02, 5.29949382e+01, 0.00000000e+00,\n",
       "       1.67869572e+02, 0.00000000e+00, 0.00000000e+00, 2.91965332e+02,\n",
       "       0.00000000e+00, 0.00000000e+00, 0.00000000e+00, 6.63708168e+01,\n",
       "       0.00000000e+00, 0.00000000e+00, 0.00000000e+00, 6.79639276e+01,\n",
       "       0.00000000e+00, 3.09059205e+02, 0.00000000e+00, 2.14055636e+02,\n",
       "       0.00000000e+00, 0.00000000e+00, 9.60778725e+01, 2.53003627e+00,\n",
       "       0.00000000e+00, 9.60137565e+01, 1.45104727e+01, 1.49520230e+01,\n",
       "       0.00000000e+00, 1.93121622e+02, 2.75356851e+01, 2.16739158e+01,\n",
       "       2.44696070e+01, 8.50340386e+00, 7.08468563e+01, 0.00000000e+00,\n",
       "       0.00000000e+00, 0.00000000e+00, 0.00000000e+00, 3.04806338e+02,\n",
       "       0.00000000e+00, 2.49549298e+01, 8.54992322e+01, 2.20792799e+02,\n",
       "       0.00000000e+00, 6.23922195e-01, 5.32304499e+02, 0.00000000e+00,\n",
       "       1.29680343e+02, 2.69403847e+02, 1.08055338e+02, 2.90236924e+02,\n",
       "       3.70814599e+02, 0.00000000e+00, 0.00000000e+00, 0.00000000e+00,\n",
       "       9.30647533e+01, 1.78546732e+02, 7.93665293e+01, 5.44021134e+02,\n",
       "       0.00000000e+00, 8.43862688e+01, 2.41925084e+02, 1.06046146e+02,\n",
       "       0.00000000e+00, 2.87491534e+02, 0.00000000e+00, 0.00000000e+00,\n",
       "       0.00000000e+00, 1.07372765e+02, 0.00000000e+00, 0.00000000e+00,\n",
       "       1.02624150e+00, 8.54362752e+01, 2.70130903e+02, 1.71061920e+02,\n",
       "       2.71902416e+01, 0.00000000e+00, 1.73795180e+02, 0.00000000e+00,\n",
       "       4.25631609e+01, 0.00000000e+00, 1.18935843e+02, 3.80651748e+01,\n",
       "       0.00000000e+00, 2.53450436e+02, 9.04389115e+01, 0.00000000e+00,\n",
       "       2.41201535e+01, 3.10402368e+02, 7.31094689e+01, 0.00000000e+00,\n",
       "       0.00000000e+00, 0.00000000e+00, 0.00000000e+00, 0.00000000e+00,\n",
       "       0.00000000e+00, 0.00000000e+00, 5.15252805e+02, 0.00000000e+00,\n",
       "       0.00000000e+00, 0.00000000e+00, 0.00000000e+00, 0.00000000e+00,\n",
       "       0.00000000e+00, 0.00000000e+00, 0.00000000e+00, 0.00000000e+00,\n",
       "       0.00000000e+00, 6.35847333e+01, 0.00000000e+00, 2.70366061e+02,\n",
       "       1.14758931e+02, 8.98265201e+01, 8.33032407e+01, 5.75669666e+02,\n",
       "       2.26226909e+03, 1.75946122e+02, 7.64718899e+01, 0.00000000e+00,\n",
       "       0.00000000e+00, 0.00000000e+00, 1.03012626e+02, 8.95920548e+01,\n",
       "       1.70664229e+02, 0.00000000e+00, 1.39932803e+01, 1.69783501e+02,\n",
       "       0.00000000e+00, 0.00000000e+00, 6.63362210e+02, 3.42269945e+02,\n",
       "       7.04051586e+01, 5.81299457e+02, 0.00000000e+00, 2.60607880e+02,\n",
       "       0.00000000e+00, 0.00000000e+00, 1.08591494e+02, 2.62663170e+02,\n",
       "       1.45609481e+02, 1.52693539e+02, 8.55980371e+01, 3.58254585e+00,\n",
       "       2.39169867e+00, 2.47349861e+00, 3.85796179e-01, 0.00000000e+00,\n",
       "       0.00000000e+00, 3.74759297e-01, 2.08684925e+00, 0.00000000e+00,\n",
       "       4.97993613e+00, 3.98836913e+00, 8.48658171e-01, 0.00000000e+00,\n",
       "       0.00000000e+00, 0.00000000e+00, 0.00000000e+00, 0.00000000e+00,\n",
       "       4.55360890e-01])"
      ]
     },
     "execution_count": 141,
     "metadata": {},
     "output_type": "execute_result"
    }
   ],
   "source": [
    "blog_std = np.std(np.array([blog_cyclic_theta, blog_randomized_theta, blog_greedy_theta]), axis=0)\n",
    "blog_std"
   ]
  },
  {
   "cell_type": "markdown",
   "metadata": {},
   "source": [
    "Mean for coordinate-descent results"
   ]
  },
  {
   "cell_type": "code",
   "execution_count": 143,
   "metadata": {},
   "outputs": [
    {
     "data": {
      "text/plain": [
       "array([-3.75626965e+00,  8.58151107e-01,  4.50151793e-01, -2.54745880e+00,\n",
       "        2.45272650e-02,  1.79501831e-01,  0.00000000e+00,  4.28861795e+00,\n",
       "        0.00000000e+00,  6.74949743e-02,  1.50096431e+00,  0.00000000e+00,\n",
       "       -8.14971166e-01,  0.00000000e+00,  0.00000000e+00,  4.08926441e+00,\n",
       "       -1.96853331e-01,  7.33090967e-02, -4.41142510e+00,  0.00000000e+00,\n",
       "        1.95758391e+00,  2.11785819e+00,  3.10641784e+00,  0.00000000e+00,\n",
       "        0.00000000e+00,  0.00000000e+00,  0.00000000e+00, -4.21342546e+00,\n",
       "        0.00000000e+00,  0.00000000e+00, -5.00688219e-01, -9.81259558e+00,\n",
       "        3.15901327e-01,  0.00000000e+00,  5.84794353e-01, -9.29094980e+00,\n",
       "        2.63251888e+00,  5.78571580e+00,  0.00000000e+00,  2.63152921e-01,\n",
       "        0.00000000e+00,  0.00000000e+00, -3.48010173e+00, -3.66775225e+00,\n",
       "        3.75171450e-01,  0.00000000e+00,  0.00000000e+00, -7.55584687e-01,\n",
       "        7.79924572e-01, -6.97909211e-01,  0.00000000e+00,  0.00000000e+00,\n",
       "        7.10909342e-01,  1.16790165e+00,  2.65376360e-01,  8.09970466e-01,\n",
       "        0.00000000e+00,  1.18759608e+00,  0.00000000e+00,  2.92515882e+00,\n",
       "        9.70331063e-01, -6.28874119e-02,  0.00000000e+00,  0.00000000e+00,\n",
       "        5.36279742e+01, -1.22216578e+03,  0.00000000e+00,  0.00000000e+00,\n",
       "        3.39638555e+01,  1.13835261e+02,  0.00000000e+00,  0.00000000e+00,\n",
       "        1.07165045e+02,  0.00000000e+00, -1.12529402e+01,  3.07159552e+02,\n",
       "        0.00000000e+00,  5.91834764e+01,  0.00000000e+00,  9.71344885e+01,\n",
       "        0.00000000e+00,  0.00000000e+00,  1.79815976e+02,  0.00000000e+00,\n",
       "        0.00000000e+00,  0.00000000e+00,  1.50932777e+02, -6.61271849e+01,\n",
       "        0.00000000e+00,  0.00000000e+00,  0.00000000e+00,  2.73924665e+02,\n",
       "        0.00000000e+00,  0.00000000e+00, -1.61924766e+01, -1.46736577e+02,\n",
       "        1.73789787e+01,  0.00000000e+00,  0.00000000e+00,  0.00000000e+00,\n",
       "        2.83398936e+01,  2.93086456e+01,  3.48526000e+01,  4.28299337e+02,\n",
       "        9.59682674e+01,  7.27088634e+01,  0.00000000e+00,  0.00000000e+00,\n",
       "        0.00000000e+00, -5.66667040e+02,  3.58321895e+01, -2.40424399e+01,\n",
       "        0.00000000e+00,  0.00000000e+00,  1.60958177e+02,  4.88365315e+01,\n",
       "        2.25802767e+01,  1.68402299e+02,  0.00000000e+00,  0.00000000e+00,\n",
       "        2.28526816e+02,  1.71565485e+02,  7.36984113e+01,  0.00000000e+00,\n",
       "       -2.21333607e+02,  0.00000000e+00,  0.00000000e+00,  3.38001164e+02,\n",
       "        0.00000000e+00,  0.00000000e+00,  0.00000000e+00,  4.69312547e+01,\n",
       "        0.00000000e+00,  0.00000000e+00,  0.00000000e+00,  9.26070499e+01,\n",
       "        0.00000000e+00,  2.18537860e+02,  0.00000000e+00,  1.51360192e+02,\n",
       "        0.00000000e+00,  0.00000000e+00,  1.35760902e+02, -1.78900580e+00,\n",
       "        0.00000000e+00,  1.31643910e+02, -1.02604536e+01,  1.05726769e+01,\n",
       "        0.00000000e+00, -1.36557608e+02,  3.63340229e+01,  2.76300006e+01,\n",
       "        1.73026251e+01,  2.47176018e+01,  8.59761370e+01,  0.00000000e+00,\n",
       "        0.00000000e+00,  0.00000000e+00,  0.00000000e+00,  2.15530628e+02,\n",
       "        0.00000000e+00, -1.76458001e+01,  1.03142251e+02,  2.74226687e+02,\n",
       "        0.00000000e+00, -4.41179615e-01, -3.76396121e+02,  0.00000000e+00,\n",
       "       -1.80358472e+02, -1.90497287e+02,  7.64066623e+01,  2.88952723e+02,\n",
       "       -2.62205518e+02,  0.00000000e+00,  0.00000000e+00,  0.00000000e+00,\n",
       "        6.58067181e+01,  1.26251605e+02, -7.96851348e+01, -3.84681033e+02,\n",
       "        0.00000000e+00,  9.64255882e+01,  1.71066867e+02,  9.41291959e+01,\n",
       "        0.00000000e+00,  2.03287213e+02,  0.00000000e+00,  0.00000000e+00,\n",
       "        0.00000000e+00,  1.33742953e+02,  0.00000000e+00,  0.00000000e+00,\n",
       "        7.25662324e-01,  6.04125696e+01,  1.91011394e+02,  1.20959043e+02,\n",
       "        1.92264042e+01,  0.00000000e+00, -1.22891751e+02,  0.00000000e+00,\n",
       "       -3.00966997e+01,  0.00000000e+00,  1.27807734e+02, -5.26808952e+01,\n",
       "        0.00000000e+00,  2.78250948e+02,  6.39499676e+01,  0.00000000e+00,\n",
       "        3.39966333e+01,  2.95850064e+02,  5.16962012e+01,  0.00000000e+00,\n",
       "        0.00000000e+00,  0.00000000e+00,  0.00000000e+00,  0.00000000e+00,\n",
       "        0.00000000e+00,  0.00000000e+00,  3.64338753e+02,  0.00000000e+00,\n",
       "        0.00000000e+00,  0.00000000e+00,  0.00000000e+00,  0.00000000e+00,\n",
       "        0.00000000e+00,  0.00000000e+00,  0.00000000e+00,  0.00000000e+00,\n",
       "        0.00000000e+00,  4.49611961e+01,  0.00000000e+00,  1.91177675e+02,\n",
       "        8.11468183e+01,  6.35169415e+01,  5.89042864e+01,  4.07059924e+02,\n",
       "       -1.76771899e+03,  2.34511556e+02,  5.40737919e+01,  0.00000000e+00,\n",
       "        0.00000000e+00,  0.00000000e+00,  1.00755222e+02, -6.33511495e+01,\n",
       "       -2.41148615e+02,  0.00000000e+00, -9.89474341e+00,  1.20055065e+02,\n",
       "        0.00000000e+00,  0.00000000e+00, -4.69067917e+02,  2.42021399e+02,\n",
       "        4.97839651e+01, -6.38317975e+02,  0.00000000e+00,  1.84277599e+02,\n",
       "        0.00000000e+00,  0.00000000e+00,  7.67857819e+01,  1.85730909e+02,\n",
       "        1.02961451e+02,  1.07970637e+02, -6.05269525e+01, -2.53324247e+00,\n",
       "       -1.69118634e+00, -2.15250186e+00,  2.72799094e-01,  0.00000000e+00,\n",
       "        0.00000000e+00, -2.64994840e-01,  1.47562526e+00,  0.00000000e+00,\n",
       "       -3.52134661e+00, -3.88962447e+00,  6.00091948e-01,  0.00000000e+00,\n",
       "        0.00000000e+00,  0.00000000e+00,  0.00000000e+00,  0.00000000e+00,\n",
       "        3.21988773e-01])"
      ]
     },
     "execution_count": 143,
     "metadata": {},
     "output_type": "execute_result"
    }
   ],
   "source": [
    "blog_mean = np.mean(np.array([blog_cyclic_theta, blog_randomized_theta, blog_greedy_theta]), axis=0)\n",
    "blog_mean"
   ]
  },
  {
   "cell_type": "markdown",
   "metadata": {},
   "source": [
    "The difference between mean coordinate descent results and sklearn Lasso results"
   ]
  },
  {
   "cell_type": "code",
   "execution_count": 144,
   "metadata": {},
   "outputs": [
    {
     "data": {
      "text/plain": [
       "array([3.62680508e+00, 8.58151107e-01, 4.50151793e-01, 2.54745880e+00,\n",
       "       7.79969152e-01, 1.79501831e-01, 0.00000000e+00, 4.28861795e+00,\n",
       "       0.00000000e+00, 6.74949743e-02, 1.50096431e+00, 0.00000000e+00,\n",
       "       8.14971166e-01, 0.00000000e+00, 0.00000000e+00, 4.08926441e+00,\n",
       "       1.96853331e-01, 7.33090967e-02, 4.41142510e+00, 3.64144091e-01,\n",
       "       1.95758391e+00, 2.11785819e+00, 3.10641784e+00, 0.00000000e+00,\n",
       "       0.00000000e+00, 0.00000000e+00, 0.00000000e+00, 4.21342546e+00,\n",
       "       0.00000000e+00, 0.00000000e+00, 5.00688219e-01, 9.81259558e+00,\n",
       "       3.15901327e-01, 0.00000000e+00, 5.84794353e-01, 9.29094980e+00,\n",
       "       2.63251888e+00, 5.78571580e+00, 0.00000000e+00, 2.63152921e-01,\n",
       "       0.00000000e+00, 0.00000000e+00, 3.48010173e+00, 3.66775225e+00,\n",
       "       3.75171450e-01, 0.00000000e+00, 0.00000000e+00, 7.55584687e-01,\n",
       "       7.79924572e-01, 6.97909211e-01, 0.00000000e+00, 1.03939191e+00,\n",
       "       1.46074509e+00, 1.16790165e+00, 2.65376360e-01, 8.09970466e-01,\n",
       "       0.00000000e+00, 1.18759608e+00, 0.00000000e+00, 2.92515882e+00,\n",
       "       9.70331063e-01, 2.13215744e-01, 3.69577344e-01, 0.00000000e+00,\n",
       "       5.36279742e+01, 1.22216578e+03, 0.00000000e+00, 0.00000000e+00,\n",
       "       3.39638555e+01, 1.13835261e+02, 0.00000000e+00, 0.00000000e+00,\n",
       "       1.07165045e+02, 0.00000000e+00, 1.12529402e+01, 3.07159552e+02,\n",
       "       0.00000000e+00, 5.91834764e+01, 0.00000000e+00, 9.71344885e+01,\n",
       "       0.00000000e+00, 0.00000000e+00, 1.79815976e+02, 0.00000000e+00,\n",
       "       0.00000000e+00, 0.00000000e+00, 1.50932777e+02, 6.61271849e+01,\n",
       "       0.00000000e+00, 0.00000000e+00, 0.00000000e+00, 2.73924665e+02,\n",
       "       0.00000000e+00, 0.00000000e+00, 1.61924766e+01, 1.46736577e+02,\n",
       "       1.73789787e+01, 0.00000000e+00, 0.00000000e+00, 0.00000000e+00,\n",
       "       2.83398936e+01, 2.93086456e+01, 3.48526000e+01, 4.28299337e+02,\n",
       "       9.59682674e+01, 7.27088634e+01, 0.00000000e+00, 0.00000000e+00,\n",
       "       0.00000000e+00, 5.66667040e+02, 3.58321895e+01, 2.40424399e+01,\n",
       "       0.00000000e+00, 0.00000000e+00, 1.60958177e+02, 4.88365315e+01,\n",
       "       2.25802767e+01, 1.68402299e+02, 0.00000000e+00, 0.00000000e+00,\n",
       "       2.28526816e+02, 1.71565485e+02, 7.36984113e+01, 0.00000000e+00,\n",
       "       2.21333607e+02, 0.00000000e+00, 0.00000000e+00, 3.38001164e+02,\n",
       "       0.00000000e+00, 0.00000000e+00, 0.00000000e+00, 4.69312547e+01,\n",
       "       0.00000000e+00, 0.00000000e+00, 0.00000000e+00, 9.26070499e+01,\n",
       "       0.00000000e+00, 2.18537860e+02, 0.00000000e+00, 1.51360192e+02,\n",
       "       0.00000000e+00, 0.00000000e+00, 1.35760902e+02, 1.78900580e+00,\n",
       "       0.00000000e+00, 1.31643910e+02, 1.02604536e+01, 1.05726769e+01,\n",
       "       0.00000000e+00, 1.36557608e+02, 3.63340229e+01, 2.76300006e+01,\n",
       "       1.73026251e+01, 2.47176018e+01, 8.59761370e+01, 0.00000000e+00,\n",
       "       0.00000000e+00, 0.00000000e+00, 0.00000000e+00, 2.15530628e+02,\n",
       "       0.00000000e+00, 1.76458001e+01, 1.03142251e+02, 2.74226687e+02,\n",
       "       0.00000000e+00, 4.41179615e-01, 3.76396121e+02, 0.00000000e+00,\n",
       "       1.80358472e+02, 1.90497287e+02, 7.64066623e+01, 2.88952723e+02,\n",
       "       2.62205518e+02, 0.00000000e+00, 0.00000000e+00, 0.00000000e+00,\n",
       "       6.58067181e+01, 1.26251605e+02, 7.96851348e+01, 3.84681033e+02,\n",
       "       0.00000000e+00, 9.64255882e+01, 1.71066867e+02, 9.41291959e+01,\n",
       "       0.00000000e+00, 2.03287213e+02, 0.00000000e+00, 0.00000000e+00,\n",
       "       0.00000000e+00, 1.33742953e+02, 0.00000000e+00, 0.00000000e+00,\n",
       "       7.25662324e-01, 6.04125696e+01, 1.91011394e+02, 1.20959043e+02,\n",
       "       1.92264042e+01, 0.00000000e+00, 1.22891751e+02, 0.00000000e+00,\n",
       "       3.00966997e+01, 0.00000000e+00, 1.27807734e+02, 5.26808952e+01,\n",
       "       0.00000000e+00, 2.78250948e+02, 6.39499676e+01, 0.00000000e+00,\n",
       "       3.39966333e+01, 2.95850064e+02, 5.16962012e+01, 0.00000000e+00,\n",
       "       0.00000000e+00, 0.00000000e+00, 0.00000000e+00, 0.00000000e+00,\n",
       "       0.00000000e+00, 0.00000000e+00, 3.64338753e+02, 0.00000000e+00,\n",
       "       0.00000000e+00, 0.00000000e+00, 0.00000000e+00, 0.00000000e+00,\n",
       "       0.00000000e+00, 0.00000000e+00, 0.00000000e+00, 0.00000000e+00,\n",
       "       0.00000000e+00, 4.49611961e+01, 0.00000000e+00, 1.91177675e+02,\n",
       "       8.11468183e+01, 6.35169415e+01, 5.89042864e+01, 4.07059924e+02,\n",
       "       1.76771899e+03, 2.34511556e+02, 5.40737919e+01, 0.00000000e+00,\n",
       "       0.00000000e+00, 0.00000000e+00, 1.00755222e+02, 6.33511495e+01,\n",
       "       2.41148615e+02, 0.00000000e+00, 9.89474341e+00, 1.20055065e+02,\n",
       "       0.00000000e+00, 0.00000000e+00, 4.69067917e+02, 2.42021399e+02,\n",
       "       4.97839651e+01, 6.38317975e+02, 0.00000000e+00, 1.84277599e+02,\n",
       "       0.00000000e+00, 0.00000000e+00, 7.67857819e+01, 1.85730909e+02,\n",
       "       1.02961451e+02, 1.07970637e+02, 6.05269525e+01, 2.53324247e+00,\n",
       "       1.69118634e+00, 2.15250186e+00, 2.72799094e-01, 0.00000000e+00,\n",
       "       0.00000000e+00, 2.64994840e-01, 1.47562526e+00, 0.00000000e+00,\n",
       "       3.52134661e+00, 3.88962447e+00, 6.00091948e-01, 0.00000000e+00,\n",
       "       0.00000000e+00, 0.00000000e+00, 0.00000000e+00, 0.00000000e+00,\n",
       "       3.21988773e-01])"
      ]
     },
     "execution_count": 144,
     "metadata": {},
     "output_type": "execute_result"
    }
   ],
   "source": [
    "blog_diff = np.abs(blog_mean - blog_sklearn_theta)\n",
    "blog_diff"
   ]
  }
 ],
 "metadata": {
  "interpreter": {
   "hash": "dc18f3ca76f685144b17936071a1ea4587f226bebaf5844893eb697afb4deb31"
  },
  "kernelspec": {
   "display_name": "Python 3",
   "language": "python",
   "name": "python3"
  },
  "language_info": {
   "codemirror_mode": {
    "name": "ipython",
    "version": 3
   },
   "file_extension": ".py",
   "mimetype": "text/x-python",
   "name": "python",
   "nbconvert_exporter": "python",
   "pygments_lexer": "ipython3",
   "version": "3.10.4"
  }
 },
 "nbformat": 4,
 "nbformat_minor": 1
}
