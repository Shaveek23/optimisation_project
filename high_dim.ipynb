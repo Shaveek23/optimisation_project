{
 "cells": [
  {
   "cell_type": "code",
   "execution_count": 81,
   "metadata": {
    "collapsed": false,
    "pycharm": {
     "name": "#%%\n"
    }
   },
   "outputs": [],
   "source": [
    "import numpy as np\n",
    "from source.coordinate_descent import CoordinateDescent\n",
    "\n",
    "from source.utils.load_data import get_high_dimensional_artificial_ds\n",
    "from sklearn.datasets import load_diabetes, load_boston\n",
    "\n",
    "from sklearn.model_selection import train_test_split\n",
    "from sklearn.preprocessing import StandardScaler\n",
    "from sklearn.metrics import mean_squared_error, mean_absolute_error\n",
    "from sklearn.linear_model import Lasso"
   ]
  },
  {
   "cell_type": "markdown",
   "metadata": {
    "collapsed": false,
    "pycharm": {
     "name": "#%% md\n"
    }
   },
   "source": [
    "# Artificially generated high-dimensional dataset\n",
    "## Loading Data"
   ]
  },
  {
   "cell_type": "code",
   "execution_count": 82,
   "metadata": {
    "collapsed": false,
    "pycharm": {
     "name": "#%%\n"
    }
   },
   "outputs": [],
   "source": [
    "X, y = load_diabetes(return_X_y=True)\n",
    "#X, y = load_boston(return_X_y=True)\n",
    "\n",
    "# normalization\n",
    "X = X / (np.linalg.norm(X, axis=0))"
   ]
  },
  {
   "cell_type": "code",
   "execution_count": 83,
   "metadata": {
    "collapsed": false,
    "pycharm": {
     "name": "#%%\n"
    }
   },
   "outputs": [
    {
     "data": {
      "text/plain": [
       "(442, 10)"
      ]
     },
     "execution_count": 83,
     "metadata": {},
     "output_type": "execute_result"
    }
   ],
   "source": [
    "X.shape"
   ]
  },
  {
   "cell_type": "markdown",
   "metadata": {
    "collapsed": false,
    "pycharm": {
     "name": "#%% md\n"
    }
   },
   "source": [
    "## Lasso Regression with our implementation of Coordinate Descent algorithm"
   ]
  },
  {
   "cell_type": "code",
   "execution_count": 117,
   "metadata": {
    "collapsed": false,
    "pycharm": {
     "name": "#%%\n"
    }
   },
   "outputs": [
    {
     "name": "stderr",
     "output_type": "stream",
     "text": [
      "100%|██████████| 100/100 [00:02<00:00, 37.85it/s]\n"
     ]
    }
   ],
   "source": [
    "l = 2\n",
    "cd = CoordinateDescent(lambda_=l)\n",
    "cd.fit(X, y, iters=100, tol=10^-6, method='greedy')"
   ]
  },
  {
   "cell_type": "code",
   "execution_count": 118,
   "metadata": {},
   "outputs": [
    {
     "data": {
      "image/png": "[encoded data removed]",
      "text/plain": [
       "<Figure size 1080x504 with 1 Axes>"
      ]
     },
     "metadata": {
      "needs_background": "light"
     },
     "output_type": "display_data"
    }
   ],
   "source": [
    "import matplotlib.pyplot as plt\n",
    "\n",
    "fig = plt.figure(figsize=(15, 7))\n",
    "plt.plot(range(1, cd.costs.shape[0]+1), cd.costs, 'o', color = 'red')\n",
    "plt.plot(range(1, cd.costs.shape[0]+1), cd.costs, '-')\n",
    "plt.xlabel('Iteration')\n",
    "plt.ylabel('Cost')\n",
    "plt.show()"
   ]
  },
  {
   "cell_type": "code",
   "execution_count": 116,
   "metadata": {},
   "outputs": [
    {
     "data": {
      "text/plain": [
       "array([5.68010708e+09, 5.68010708e+09, 5.68010708e+09, 5.68010708e+09,\n",
       "       5.68010708e+09, 5.68010708e+09, 5.68010708e+09, 5.68010708e+09,\n",
       "       5.68010708e+09, 5.68010708e+09, 5.68010708e+09, 5.68010708e+09,\n",
       "       5.68010708e+09, 5.68010708e+09, 5.68010708e+09, 5.68010708e+09,\n",
       "       5.68010708e+09, 5.68010708e+09, 5.68010708e+09, 5.68010708e+09,\n",
       "       5.68010708e+09, 5.68010708e+09, 5.68010708e+09, 5.68010708e+09,\n",
       "       5.68010708e+09, 5.68010708e+09, 5.68010708e+09, 5.68010708e+09,\n",
       "       5.68010708e+09, 5.68010708e+09, 5.68010708e+09, 5.68010708e+09,\n",
       "       5.68010708e+09, 5.68010708e+09, 5.68010708e+09, 5.68010708e+09,\n",
       "       5.68010708e+09, 5.68010708e+09, 5.68010708e+09, 5.68010708e+09,\n",
       "       5.68010708e+09, 5.68010708e+09, 5.68010708e+09, 5.68010708e+09,\n",
       "       5.68010708e+09, 5.68010708e+09, 5.68010708e+09, 5.68010708e+09,\n",
       "       5.68010708e+09, 5.68010708e+09, 5.68010708e+09, 5.68010708e+09,\n",
       "       5.68010708e+09, 5.68010708e+09, 5.68010708e+09, 5.68010708e+09,\n",
       "       5.68010708e+09, 5.68010708e+09, 5.68010708e+09, 5.68010708e+09,\n",
       "       5.68010708e+09, 5.68010708e+09, 5.68010708e+09, 5.68010708e+09,\n",
       "       5.68010708e+09, 5.68010708e+09, 5.68010708e+09, 5.68010708e+09,\n",
       "       5.68010708e+09, 5.68010708e+09, 5.68010708e+09, 5.68010708e+09,\n",
       "       5.68010708e+09, 5.68010708e+09, 5.68010708e+09, 5.68010708e+09,\n",
       "       5.68010708e+09, 5.68010708e+09, 5.68010708e+09, 5.68010708e+09,\n",
       "       5.68010708e+09, 5.68010708e+09, 5.68010708e+09, 5.68010708e+09,\n",
       "       5.68010708e+09, 5.68010708e+09, 5.68010708e+09, 5.68010708e+09,\n",
       "       5.68010708e+09, 5.68010708e+09, 5.68010708e+09, 5.68010708e+09,\n",
       "       5.68010708e+09, 5.68010708e+09, 5.68010708e+09, 5.68010708e+09,\n",
       "       5.68010708e+09, 5.68010708e+09, 5.68010708e+09, 5.68010708e+09,\n",
       "       5.68010708e+09])"
      ]
     },
     "execution_count": 116,
     "metadata": {},
     "output_type": "execute_result"
    }
   ],
   "source": [
    "cd.costs"
   ]
  }
 ],
 "metadata": {
  "interpreter": {
   "hash": "dc18f3ca76f685144b17936071a1ea4587f226bebaf5844893eb697afb4deb31"
  },
  "kernelspec": {
   "display_name": "Python 3.10.4 ('dev')",
   "language": "python",
   "name": "python3"
  },
  "language_info": {
   "codemirror_mode": {
    "name": "ipython",
    "version": 3
   },
   "file_extension": ".py",
   "mimetype": "text/x-python",
   "name": "python",
   "nbconvert_exporter": "python",
   "pygments_lexer": "ipython3",
   "version": "3.10.4"
  }
 },
 "nbformat": 4,
 "nbformat_minor": 0
}
